{
 "cells": [
  {
   "cell_type": "code",
   "execution_count": 2,
   "metadata": {},
   "outputs": [
    {
     "name": "stdout",
     "output_type": "stream",
     "text": [
      "The autoreload extension is already loaded. To reload it, use:\n",
      "  %reload_ext autoreload\n"
     ]
    }
   ],
   "source": [
    "import numpy as np\n",
    "from air_berlin import *\n",
    "\n",
    "%load_ext autoreload\n",
    "%autoreload 2"
   ]
  },
  {
   "cell_type": "code",
   "execution_count": null,
   "metadata": {},
   "outputs": [],
   "source": []
  },
  {
   "cell_type": "code",
   "execution_count": 28,
   "metadata": {},
   "outputs": [
    {
     "name": "stdout",
     "output_type": "stream",
     "text": [
      " [3 1 3 2 2 3 4 3 3 2 4 4 2 1 1 4 1 2 2 2 4 1 1 1 3 1]\n",
      "[[0 1 2 2 3 3 3 4 4 5 4 5 5 6 6 5 6 5 4 4 3 4 4 3 2 1]\n",
      " [1 0 1 1 2 2 2 3 3 4 3 4 4 5 5 4 5 4 3 3 2 3 3 2 1 2]\n",
      " [2 1 0 1 1 1 1 2 2 3 2 3 3 4 5 4 5 5 4 4 3 4 4 3 2 3]\n",
      " [1 2 1 0 1 2 2 2 3 3 3 3 4 5 5 4 5 5 5 5 4 5 5 4 3 2]\n",
      " [2 3 2 1 0 1 2 1 2 2 3 2 3 4 4 3 4 4 5 5 5 6 6 5 4 3]\n",
      " [2 2 1 1 1 0 1 2 1 2 2 3 3 4 5 4 5 5 5 5 4 5 5 4 3 3]\n",
      " [3 3 2 2 1 1 0 1 2 2 1 2 2 3 4 3 4 4 5 5 5 6 6 5 4 4]\n",
      " [4 4 3 3 2 2 1 0 1 1 2 1 2 3 3 2 3 3 4 4 4 5 6 6 5 5]\n",
      " [3 3 2 2 2 1 2 1 0 1 2 2 3 4 4 3 4 4 5 5 5 6 6 5 4 4]\n",
      " [4 4 3 3 3 2 2 2 1 0 1 2 2 3 4 3 4 4 5 5 5 6 7 6 5 5]\n",
      " [4 4 3 3 2 2 1 1 2 1 0 1 1 2 3 2 3 3 4 4 4 5 6 6 5 5]\n",
      " [4 4 3 3 3 2 2 2 1 1 1 0 1 2 2 1 2 2 3 3 3 4 5 6 5 5]\n",
      " [5 5 4 4 4 3 3 3 2 2 2 1 0 1 2 2 3 3 4 4 4 5 6 7 6 6]\n",
      " [6 6 5 5 4 4 3 3 3 3 2 2 1 0 1 2 3 3 4 4 4 5 6 7 6 7]\n",
      " [5 5 4 4 3 3 2 2 3 2 1 2 1 1 0 1 2 2 3 3 3 4 5 6 5 6]\n",
      " [5 5 4 4 4 3 3 3 2 2 2 1 2 2 1 0 1 1 2 2 2 3 4 5 4 5]\n",
      " [5 6 5 5 5 4 4 4 3 3 3 2 3 3 2 1 0 1 1 2 1 2 3 4 3 4]\n",
      " [6 7 6 6 6 5 5 5 4 4 4 3 4 4 3 2 1 0 1 1 2 3 4 5 4 5]\n",
      " [6 7 6 6 6 5 5 5 4 4 4 3 4 4 3 2 2 1 0 1 2 3 4 5 4 5]\n",
      " [5 6 5 5 5 4 4 4 3 3 3 2 3 3 2 1 2 1 1 0 1 2 3 4 3 4]\n",
      " [4 5 4 5 5 5 5 5 4 4 4 3 4 4 3 2 3 2 1 1 0 1 2 3 2 3]\n",
      " [3 4 3 4 4 4 4 5 4 4 4 3 4 4 3 2 3 2 2 1 1 0 1 2 1 2]\n",
      " [2 3 4 4 5 5 5 6 5 5 5 4 5 5 4 3 4 3 3 2 2 1 0 1 2 3]\n",
      " [1 2 3 3 4 4 4 5 5 6 5 5 6 6 5 4 5 4 3 3 2 2 1 0 1 2]\n",
      " [2 3 2 3 3 3 3 4 4 5 4 4 5 5 4 3 4 3 2 2 1 2 2 1 0 1]\n",
      " [1 2 1 2 2 2 2 3 3 4 3 4 4 5 5 4 5 4 3 3 2 3 3 2 1 0]]\n"
     ]
    }
   ],
   "source": [
    "n = 5\n",
    "x = basic_solved_state(1, n)\n",
    "x = shuffle_along_axis(x, 1)\n",
    "xvals = get_xvals(x)\n",
    "X = random_large_discs(n)\n",
    "A = adjacency_matrix(X)\n",
    "P = shortest_path(A)\n",
    "print(\"\", X)\n",
    "print(P)"
   ]
  },
  {
   "cell_type": "code",
   "execution_count": null,
   "metadata": {},
   "outputs": [],
   "source": [
    "x, xvals = expand(X, x, xvals)\n",
    "print(x)"
   ]
  },
  {
   "cell_type": "code",
   "execution_count": null,
   "metadata": {},
   "outputs": [],
   "source": [
    "h = AirBerlinDistanceHeuristic(n, X, 1)\n",
    "h(X, x, xvals)"
   ]
  },
  {
   "cell_type": "code",
   "execution_count": null,
   "metadata": {},
   "outputs": [],
   "source": [
    "a = np.arange(4*4).reshape(4, 4)\n",
    "print(a)\n",
    "a[np.arange(2).reshape(2, 1), np.arange(2).reshape(1, 2)]"
   ]
  },
  {
   "cell_type": "code",
   "execution_count": null,
   "metadata": {},
   "outputs": [],
   "source": [
    "i = np.arange(4)\n",
    "j = np.stack((i, (i + 2) % 4), axis=1)\n",
    "print(j.flatten())\n",
    "print(i.repeat(2))\n",
    "A = np.arange(4*4).reshape(4, 4)\n",
    "print(A)\n",
    "A[i.repeat(2), j.flatten()]"
   ]
  },
  {
   "cell_type": "code",
   "execution_count": null,
   "metadata": {},
   "outputs": [],
   "source": [
    "x = np.ones((4, 4, 4, 4))\n",
    "y = np.zeros((7, 7))\n",
    "x = x[:, np.newaxis, :, :, np.newaxis]\n",
    "y = y[np.newaxis, :, np.newaxis, np.newaxis, :, np.newaxis]\n",
    "\n",
    "print(x.shape, y.shape)\n",
    "print((x * y).shape)"
   ]
  },
  {
   "cell_type": "code",
   "execution_count": null,
   "metadata": {},
   "outputs": [],
   "source": [
    "(2, 3)[:-2]"
   ]
  },
  {
   "cell_type": "code",
   "execution_count": null,
   "metadata": {},
   "outputs": [],
   "source": [
    "\n",
    "\n",
    "print(\"\", X)\n",
    "A = adjacency_matrix(X)\n",
    "P = shortest_path(A)\n",
    "print(A)\n",
    "print(P)"
   ]
  },
  {
   "cell_type": "code",
   "execution_count": null,
   "metadata": {},
   "outputs": [],
   "source": [
    "x = [[1, 1, 1, 2, 3, 0, 2, 2, 3, 3]]\n",
    "d = x - np.roll(x, 1)\n",
    "print(d < 0)"
   ]
  },
  {
   "cell_type": "code",
   "execution_count": null,
   "metadata": {},
   "outputs": [],
   "source": [
    "D = mod_difference_matrix(5)\n",
    "print(D)"
   ]
  },
  {
   "cell_type": "code",
   "execution_count": null,
   "metadata": {},
   "outputs": [],
   "source": [
    "X = np.array([1, 2, 3, 1, 2, 3, 4, 1, 2, 3])\n",
    "x = np.array([[1, 2, 3, 1, 2, 3, 0, 1, 2, 3]])\n",
    "xvals = get_xvals(x)"
   ]
  },
  {
   "cell_type": "code",
   "execution_count": null,
   "metadata": {},
   "outputs": [],
   "source": [
    "#x = x[2:3]\n",
    "xvals = xvals[2:3]"
   ]
  },
  {
   "cell_type": "code",
   "execution_count": null,
   "metadata": {},
   "outputs": [],
   "source": [
    "x, xvals = expand(X, x, xvals)\n",
    "print(x.shape)\n",
    "print(X)\n",
    "print(x)"
   ]
  },
  {
   "cell_type": "code",
   "execution_count": null,
   "metadata": {},
   "outputs": [],
   "source": [
    "n = 4\n",
    "m = n*n + 1\n",
    "x = basic_solved_state(1, n)\n",
    "x = shuffle_along_axis(x, 1)"
   ]
  },
  {
   "cell_type": "code",
   "execution_count": null,
   "metadata": {},
   "outputs": [],
   "source": [
    "expanded = Expanded()"
   ]
  },
  {
   "cell_type": "code",
   "execution_count": 46,
   "metadata": {},
   "outputs": [
    {
     "data": {
      "text/plain": [
       "65536"
      ]
     },
     "execution_count": 46,
     "metadata": {},
     "output_type": "execute_result"
    }
   ],
   "source": [
    "2 ** 16"
   ]
  },
  {
   "cell_type": "code",
   "execution_count": 49,
   "metadata": {},
   "outputs": [
    {
     "name": "stdout",
     "output_type": "stream",
     "text": [
      "Initial state:\n",
      "Large Disks: [3 2 3 4 4 2 3 1 4 2 1 3 4 1 3 1 1 4 4 2 3 2 2 4 3 2 3 4 1 1 4 3 4 4 4 1 2\n",
      " 3 3 2 2 2 3 4 3 4 3 1 4 4]\n",
      "Small Disks: [[0 4 3 7 5 6 6 6 3 1 3 6 5 3 7 5 2 6 4 1 7 7 3 1 7 4 5 1 3 5 7 6 2 7 6 2\n",
      "  2 4 5 1 1 2 3 5 1 4 4 2 2 4]]\n",
      "\n",
      "\n",
      "Turn: 0, expanded: 0, fringe: 0, time elapsed: 0.0\n",
      "Best g(x) + h(x) = 0 + 324.4100036621094\n",
      "Turn: 10, expanded: 366, fringe: 0, time elapsed: 0.10896468162536621\n",
      "Best g(x) + h(x) = 10 + 316.1600036621094\n",
      "Turn: 20, expanded: 890, fringe: 0, time elapsed: 0.26291871070861816\n",
      "Best g(x) + h(x) = 20 + 310.57000732421875\n",
      "Turn: 30, expanded: 1388, fringe: 0, time elapsed: 0.40767502784729004\n",
      "Best g(x) + h(x) = 30 + 303.0199890136719\n",
      "Turn: 40, expanded: 1861, fringe: 0, time elapsed: 0.5496282577514648\n",
      "Best g(x) + h(x) = 40 + 295.42999267578125\n",
      "Turn: 50, expanded: 2296, fringe: 0, time elapsed: 0.6725897789001465\n",
      "Best g(x) + h(x) = 50 + 289.05999755859375\n",
      "Turn: 60, expanded: 2721, fringe: 0, time elapsed: 0.7985491752624512\n",
      "Best g(x) + h(x) = 60 + 281.4700012207031\n",
      "Turn: 70, expanded: 3069, fringe: 0, time elapsed: 0.9305076599121094\n",
      "Best g(x) + h(x) = 70 + 270.5299987792969\n",
      "Turn: 80, expanded: 3343, fringe: 0, time elapsed: 1.1136119365692139\n",
      "Best g(x) + h(x) = 80 + 262.239990234375\n",
      "Turn: 90, expanded: 3568, fringe: 0, time elapsed: 1.2495689392089844\n",
      "Best g(x) + h(x) = 90 + 258.239990234375\n",
      "Turn: 100, expanded: 3767, fringe: 0, time elapsed: 1.3595335483551025\n",
      "Best g(x) + h(x) = 100 + 253.30999755859375\n",
      "Turn: 110, expanded: 4003, fringe: 0, time elapsed: 1.5064866542816162\n",
      "Best g(x) + h(x) = 110 + 241.27000427246094\n",
      "Turn: 120, expanded: 4287, fringe: 0, time elapsed: 1.6684348583221436\n",
      "Best g(x) + h(x) = 120 + 223.42999267578125\n",
      "Turn: 130, expanded: 4541, fringe: 0, time elapsed: 1.8683791160583496\n",
      "Best g(x) + h(x) = 130 + 210.86000061035156\n",
      "Turn: 140, expanded: 4774, fringe: 0, time elapsed: 2.0330026149749756\n",
      "Best g(x) + h(x) = 140 + 190.97999572753906\n",
      "Turn: 150, expanded: 5065, fringe: 0, time elapsed: 2.2029473781585693\n",
      "Best g(x) + h(x) = 150 + 173.42999267578125\n",
      "Turn: 160, expanded: 5361, fringe: 0, time elapsed: 2.37789249420166\n",
      "Best g(x) + h(x) = 160 + 153.9600067138672\n",
      "Turn: 170, expanded: 5692, fringe: 0, time elapsed: 2.530843496322632\n",
      "Best g(x) + h(x) = 170 + 137.10000610351562\n",
      "Turn: 180, expanded: 6141, fringe: 0, time elapsed: 2.7157845497131348\n",
      "Best g(x) + h(x) = 180 + 123.87999725341797\n",
      "Turn: 190, expanded: 6538, fringe: 0, time elapsed: 2.877732038497925\n",
      "Best g(x) + h(x) = 190 + 111.3499984741211\n",
      "Turn: 200, expanded: 6845, fringe: 0, time elapsed: 3.0146889686584473\n",
      "Best g(x) + h(x) = 200 + 101.87999725341797\n",
      "Turn: 210, expanded: 7064, fringe: 0, time elapsed: 3.1426477432250977\n",
      "Best g(x) + h(x) = 210 + 95.30999755859375\n",
      "Turn: 220, expanded: 7191, fringe: 0, time elapsed: 3.2636091709136963\n",
      "Best g(x) + h(x) = 220 + 84.33000183105469\n",
      "Turn: 230, expanded: 7298, fringe: 0, time elapsed: 3.3745739459991455\n",
      "Best g(x) + h(x) = 230 + 69.83999633789062\n",
      "Turn: 240, expanded: 7471, fringe: 0, time elapsed: 3.517528533935547\n",
      "Best g(x) + h(x) = 240 + 48.900001525878906\n",
      "Turn: 250, expanded: 7632, fringe: 0, time elapsed: 3.6294918060302734\n",
      "Best g(x) + h(x) = 250 + 38.369998931884766\n",
      "Turn: 260, expanded: 7725, fringe: 0, time elapsed: 3.7514541149139404\n",
      "Best g(x) + h(x) = 260 + 35.709999084472656\n",
      "Turn: 270, expanded: 7889, fringe: 0, time elapsed: 3.8694183826446533\n",
      "Best g(x) + h(x) = 270 + 28.489999771118164\n",
      "Turn: 280, expanded: 8035, fringe: 0, time elapsed: 3.9803805351257324\n",
      "Best g(x) + h(x) = 280 + 22.979999542236328\n",
      "Turn: 290, expanded: 8151, fringe: 0, time elapsed: 4.077349901199341\n",
      "Best g(x) + h(x) = 290 + 18.329999923706055\n",
      "Turn: 300, expanded: 8295, fringe: 0, time elapsed: 4.157323837280273\n",
      "Best g(x) + h(x) = 300 + 15.960000038146973\n",
      "Turn: 310, expanded: 8452, fringe: 0, time elapsed: 4.265290021896362\n",
      "Best g(x) + h(x) = 310 + 6.980000019073486\n",
      "Turn: 320, expanded: 8571, fringe: 0, time elapsed: 4.359259605407715\n",
      "Best g(x) + h(x) = 320 + 5.21999979019165\n",
      "Turn: 330, expanded: 8639, fringe: 0, time elapsed: 4.415242910385132\n",
      "Best g(x) + h(x) = 330 + 3.880000114440918\n",
      "Turn: 340, expanded: 8744, fringe: 0, time elapsed: 4.483219623565674\n",
      "Best g(x) + h(x) = 340 + 2.690000057220459\n",
      "Turn: 350, expanded: 8895, fringe: 0, time elapsed: 4.549198389053345\n",
      "Best g(x) + h(x) = 350 + 2.0799999237060547\n",
      "Turn: 360, expanded: 8953, fringe: 0, time elapsed: 4.613178253173828\n",
      "Best g(x) + h(x) = 360 + 2.0799999237060547\n",
      "Turn: 370, expanded: 9018, fringe: 0, time elapsed: 4.681157350540161\n",
      "Best g(x) + h(x) = 370 + 1.1799999475479126\n",
      "Turn: 380, expanded: 9077, fringe: 0, time elapsed: 4.755133152008057\n",
      "Best g(x) + h(x) = 380 + 1.1799999475479126\n",
      "Turn: 390, expanded: 9181, fringe: 0, time elapsed: 4.826110363006592\n",
      "Best g(x) + h(x) = 390 + 0.0\n",
      "Done.\n",
      "Solution length: 390\n"
     ]
    }
   ],
   "source": [
    "n = 7\n",
    "x = basic_solved_state(N=1, n=n)\n",
    "x = shuffle_along_axis(x, 1)\n",
    "X = random_large_discs(n)\n",
    "\n",
    "#n = 3\n",
    "#x = np.array([[1, 1, 1, 3, 2, 2, 3, 3, 0, 2]], dtype=np.int8)\n",
    "#X = np.array( [1, 2, 3, 4, 1, 2, 3, 1, 2, 3])\n",
    "\n",
    "m = (n**2)\n",
    "\n",
    "#heuristic1 = SolvedHeuristic(n)\n",
    "heuristic1 = AirBerlinDistanceHeuristic(n, X, scale=1 / (n*n))\n",
    "#heuristic = BreadthHeuristic(n, depth=3, h_breadth=HammingHeuristic(n))\n",
    "heuristic2 = PairwiseDistanceHeuristic(n, scale=1 / (n*n))\n",
    "#heuristic = BreadthHeuristic(n, depth=4, h_breadth=PairwiseDistanceHeuristic(n, scale=1 / (n*n)))\n",
    "#heuristic = AdjacentDistanceHeuristic(n, 1)\n",
    "\n",
    "print(\"Initial state:\")\n",
    "print(\"Large Disks:\", X)\n",
    "print(\"Small Disks:\", x)\n",
    "\n",
    "#path = ida_star2(X, x, heuristic)\n",
    "\n",
    "#path = search(X, x, heuristic1, Fringe(), Expanded(), search_width=1, log_interval=1000, cost_scale=1)\n",
    "print()\n",
    "#path = search(X, x, heuristic2, Fringe(), Expanded(), search_width=1, log_interval=10000, cost_scale=1)\n",
    "print()\n",
    "#path = search(X, x, heuristic1, MinMaxFringe(maxsize=4096 * 4), Expanded(), search_width=1, log_interval=1000, cost_scale=1)\n",
    "#path = search(X, x, heuristic2, BeamFringe(), Expanded(), search_width=8192, log_interval=100, cost_scale=1)\n",
    "path = search(X, x, heuristic2, BeamFringe(), Expanded(), search_width=64, log_interval=10, cost_scale=1)\n",
    "\n",
    "#path = search(X, x, heuristic2, search_width=1, log_interval=1000, cost_scale=0)\n",
    "\n",
    "#path = search(X, x, heuristic2, search_width=1, log_interval=1000, cost_scale=1)\n",
    "#path = heuristic_search(X, x, heuristic, search_width=128, log_interval=5000)"
   ]
  },
  {
   "cell_type": "code",
   "execution_count": null,
   "metadata": {},
   "outputs": [],
   "source": [
    "np.linspace(0, 1, 2)[:-1]"
   ]
  },
  {
   "cell_type": "code",
   "execution_count": 33,
   "metadata": {},
   "outputs": [
    {
     "data": {
      "application/vnd.jupyter.widget-view+json": {
       "model_id": "ecd2ebb86a604875a57df7410d110934",
       "version_major": 2,
       "version_minor": 0
      },
      "text/plain": [
       "interactive(children=(IntSlider(value=34, description='i', max=69), FloatSlider(value=0.5, description='t', ma…"
      ]
     },
     "metadata": {},
     "output_type": "display_data"
    }
   ],
   "source": [
    "from ipywidgets import interact\n",
    "\n",
    "ring_plot = RingPlot(n, cmap=\"gist_rainbow\")\n",
    "\n",
    "actions = get_actions(path)\n",
    "hvals = heuristic1(X, path, get_xvals(path))\n",
    "\n",
    "@interact(i=(0, path.shape[0]-1), t=(0.0, 1.0, 0.01))\n",
    "def show_path(i, t):\n",
    "    action = actions[i] if i != (path.shape[0]-1) else 0\n",
    "    fig, ax = ring_plot.get_fig(X, path[i], action, hvals[i], i, t)\n",
    "    plt.show()"
   ]
  },
  {
   "cell_type": "code",
   "execution_count": null,
   "metadata": {},
   "outputs": [],
   "source": [
    "plt.close(\"all\")\n",
    "import gc\n",
    "gc.collect()"
   ]
  },
  {
   "cell_type": "code",
   "execution_count": null,
   "metadata": {},
   "outputs": [],
   "source": [
    "ring_plot = RingPlot(n, cmap=\"gist_rainbow\")\n",
    "hvals = heuristic(X, path, get_xvals(path))\n",
    "ring_plot.save_frames(X, path, hvals, 5, \"solutions/video/n9v2/\", start_from=1100)"
   ]
  },
  {
   "cell_type": "code",
   "execution_count": null,
   "metadata": {},
   "outputs": [],
   "source": [
    "import subprocess\n",
    "\n",
    "name = \"n9v1\"\n",
    "frames_path = f\"/solutions/video/{name}/\"\n",
    "#os.chdir(os.getcwd())\n",
    "#os.chdir(frames_path)\n",
    "subprocess.call([\n",
    "    'ffmpeg', '-framerate', '60', '-i', 'frame%02d.png', '-r', '60', '-pix_fmt', 'yuv720p',\n",
    "    f'{name}.mp4'\n",
    "])"
   ]
  },
  {
   "cell_type": "code",
   "execution_count": null,
   "metadata": {},
   "outputs": [],
   "source": [
    "name = \"n9v2.npy\"\n",
    "out = np.array([X, path], dtype=np.object)\n",
    "np.save(f\"solutions/{name}\", out)"
   ]
  },
  {
   "cell_type": "code",
   "execution_count": null,
   "metadata": {},
   "outputs": [],
   "source": [
    "name = \"n9v2.npy\"\n",
    "load = np.load(f\"solutions/{name}\", allow_pickle=True)\n",
    "X = load[0]\n",
    "path = load[1]\n",
    "n = int(np.sqrt(path.shape[1] - 1))"
   ]
  },
  {
   "cell_type": "code",
   "execution_count": null,
   "metadata": {},
   "outputs": [],
   "source": [
    "# Test the Expanded class\n",
    "\n",
    "from itertools import permutations\n",
    "\n",
    "x = list(basic_solved_state(1, 3)[0])\n",
    "\n",
    "normal_set = set()\n",
    "expanded = Expanded()\n",
    "\n",
    "iterations = 0\n",
    "TP = 0\n",
    "FP = 0\n",
    "TN = 0\n",
    "FN = 0\n",
    "2\n",
    "for p in permutations(x):\n",
    "    iterations += 1\n",
    "    \n",
    "    x = np.array(p)[np.newaxis]\n",
    "    \n",
    "    if p in normal_set: \n",
    "        if expanded.contains(x)[0]:\n",
    "            TN += 1\n",
    "        else:\n",
    "            FN += 1\n",
    "    else:\n",
    "        if not expanded.contains(x)[0]:\n",
    "            TP += 1\n",
    "        else:\n",
    "            print(p)\n",
    "            FP += 1\n",
    "            \n",
    "    normal_set.add(p)\n",
    "    expanded.add(x)\n",
    "    \n",
    "    if iterations % 50000 == 0:\n",
    "        print(f\"iter={iterations} TN={TN}, FN={FN}, TP={TP}, FP={FP}\")\n",
    "        \n",
    "    if iterations == 1000000:\n",
    "        break\n"
   ]
  },
  {
   "cell_type": "code",
   "execution_count": null,
   "metadata": {},
   "outputs": [],
   "source": [
    "import torch\n",
    "import time\n",
    "import numpy as np\n",
    "\n",
    "x = torch.randperm(10000000)\n",
    "\n",
    "t = time.time()\n",
    "torch.sort(x)\n",
    "cpu_time = time.time() - t\n",
    "\n",
    "print(\"cpu time\", cpu_time)\n",
    "\n",
    "x = x.cuda()\n",
    "\n",
    "t = time.time()\n",
    "torch.sort(x)\n",
    "gpu_time = time.time() - t\n",
    "print(\"gpu time\", gpu_time)\n",
    "\n",
    "print(f\"gpu is {round(cpu_time / gpu_time, 1)} times faster than cpu\")"
   ]
  },
  {
   "cell_type": "code",
   "execution_count": null,
   "metadata": {},
   "outputs": [],
   "source": [
    "import torch\n",
    "\n",
    "for row in list(torch.arange(4*4).reshape(4, 4)):\n",
    "    row.byte()"
   ]
  },
  {
   "cell_type": "code",
   "execution_count": 13,
   "metadata": {},
   "outputs": [
    {
     "name": "stdout",
     "output_type": "stream",
     "text": [
      "Heuristic is not admissible for state:\n",
      "[2 3 1 1 1 2 2 0 3 3]\n",
      "True cost to solution: 2 h(x): 2.444444444444444\n",
      "\n",
      "Heuristic is not consistent for action:\n",
      "[[2 0 1 3 1 2 1 2 3 3]\n",
      " [2 3 1 0 1 2 1 2 3 3]]\n",
      "The heuristic decreased from 4.333333333333333 to 3.222222222222222\n",
      "\n",
      "Heuristic is not consistent for action:\n",
      "[[2 3 1 1 1 2 2 0 3 3]\n",
      " [0 3 1 1 1 2 2 2 3 3]]\n",
      "The heuristic decreased from 2.444444444444444 to 0.6666666666666666\n",
      "\n",
      "Heuristic is not admissible for state:\n",
      "[3 1 1 1 2 0 2 3 3 2]\n",
      "True cost to solution: 2 h(x): 2.333333333333333\n",
      "\n",
      "Heuristic is not consistent for action:\n",
      "[[3 1 1 1 2 0 2 3 3 2]\n",
      " [3 1 1 1 2 2 2 3 3 0]]\n",
      "The heuristic decreased from 2.333333333333333 to 0.6666666666666666\n",
      "\n",
      "Heuristic is not consistent for action:\n",
      "[[2 3 0 3 1 1 3 1 2 2]\n",
      " [2 3 3 3 1 1 0 1 2 2]]\n",
      "The heuristic decreased from 2.444444444444444 to 0.6666666666666666\n",
      "\n",
      "Heuristic is not consistent for action:\n",
      "[[2 2 3 0 3 1 1 2 1 3]\n",
      " [2 2 3 3 3 1 1 2 1 0]]\n",
      "The heuristic decreased from 3.1111111111111107 to 1.8888888888888888\n",
      "\n",
      "Heuristic is not admissible for state:\n",
      "[2 3 1 3 2 1 1 0 3 2]\n",
      "True cost to solution: 4 h(x): 4.555555555555555\n",
      "\n",
      "Heuristic is not admissible for state:\n",
      "[2 3 1 3 2 1 0 1 3 2]\n",
      "True cost to solution: 3 h(x): 4.555555555555555\n",
      "\n",
      "Heuristic is not admissible for state:\n",
      "[2 3 0 3 2 1 1 1 3 2]\n",
      "True cost to solution: 2 h(x): 3.5555555555555554\n",
      "\n",
      "Heuristic is not admissible for state:\n",
      "[2 3 3 3 2 1 1 1 0 2]\n",
      "True cost to solution: 1 h(x): 2.111111111111111\n",
      "\n",
      "Heuristic is not consistent for action:\n",
      "[[2 3 0 3 2 1 1 1 3 2]\n",
      " [2 3 3 3 2 1 1 1 0 2]]\n",
      "The heuristic decreased from 3.5555555555555554 to 2.111111111111111\n",
      "\n",
      "Heuristic is not consistent for action:\n",
      "[[2 3 3 3 2 1 1 1 0 2]\n",
      " [2 3 3 3 0 1 1 1 2 2]]\n",
      "The heuristic decreased from 2.111111111111111 to 0.0\n",
      "\n"
     ]
    }
   ],
   "source": [
    "#test_heuristic(\"PairwiseDistanceHeuristic(n, scale=1 / (n*n))\")\n",
    "#test_heuristic(\"AdjacentDistanceHeuristic(n, scale=1)\")\n",
    "#test_heuristic(\"HammingHeuristic(n)\")\n",
    "#test_heuristic(\"BreadthHeuristic(n, depth=7, h_breadth=HammingHeuristic(n))\")\n",
    "#test_heuristic(\"BreadthHeuristic(n, depth=4, h_breadth=PairwiseDistanceHeuristic(n, scale=1 / (n*n)))\")\n",
    "#test_heuristic(\"BreadthHeuristic(n, depth=3, h_breadth=AdjacentDistanceHeuristic(n, scale=1))\")\n",
    "\n",
    "test_heuristic(\"AirBerlinDistanceHeuristic(n, X, scale=1 / (n*n))\")\n",
    "#test_heuristic(\"BreadthHeuristic(n, depth=7, h_breadth=AirBerlinDistanceHeuristic(n, X, scale=1 / (n*n)))\")"
   ]
  },
  {
   "cell_type": "code",
   "execution_count": null,
   "metadata": {},
   "outputs": [],
   "source": [
    "path = \"G:/Github Repositories/Ring-Sorting-AI/solutions/video/n9v1/\"\n",
    "files = os.listdir(path)\n",
    "\n",
    "for file in files:\n",
    "    num = int(file[5:-4])\n",
    "    new_name = f\"frame{num:06}.png\"\n",
    "    os.rename(path + file, path + new_name)\n"
   ]
  }
 ],
 "metadata": {
  "kernelspec": {
   "display_name": "Python 3",
   "language": "python",
   "name": "python3"
  },
  "language_info": {
   "codemirror_mode": {
    "name": "ipython",
    "version": 3
   },
   "file_extension": ".py",
   "mimetype": "text/x-python",
   "name": "python",
   "nbconvert_exporter": "python",
   "pygments_lexer": "ipython3",
   "version": "3.7.6"
  }
 },
 "nbformat": 4,
 "nbformat_minor": 4
}

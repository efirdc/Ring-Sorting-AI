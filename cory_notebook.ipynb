{
 "cells": [
  {
   "cell_type": "code",
   "execution_count": 1,
   "metadata": {},
   "outputs": [],
   "source": [
    "import numpy as np\n",
    "from air_berlin import *\n",
    "\n",
    "%load_ext autoreload\n",
    "%autoreload 2"
   ]
  },
  {
   "cell_type": "code",
   "execution_count": null,
   "metadata": {},
   "outputs": [],
   "source": [
    "x = basic_solved_state(20, n)\n",
    "x = shuffle_along_axis(x, 1)\n",
    "x"
   ]
  },
  {
   "cell_type": "code",
   "execution_count": null,
   "metadata": {},
   "outputs": [],
   "source": [
    "n = 3\n",
    "x = basic_solved_state(1, n)\n",
    "x = shuffle_along_axis(x, 1)\n",
    "X = random_large_discs(n)\n",
    "print(X)\n",
    "print(x)"
   ]
  },
  {
   "cell_type": "code",
   "execution_count": null,
   "metadata": {},
   "outputs": [],
   "source": [
    "x = action(0, X, x)\n",
    "x"
   ]
  },
  {
   "cell_type": "code",
   "execution_count": null,
   "metadata": {},
   "outputs": [],
   "source": [
    "n = 3\n",
    "x = basic_solved_state(n)\n",
    "np.random.shuffle(x)\n",
    "\n",
    "print(x)\n",
    "\n",
    "scale = 1 / (8 * (n - 1))\n",
    "h = MaskedDistanceHeuristic(n=n, scale=scale)\n",
    "\n",
    "print(h(x))"
   ]
  },
  {
   "cell_type": "code",
   "execution_count": null,
   "metadata": {},
   "outputs": [],
   "source": [
    "max_int = np.iinfo(np.int64).max\n",
    "min_int = np.iinfo(np.int64).min\n",
    "big_ints = np.random.randint(low=min_int, high=max_int, size=10, dtype=np.int64)\n",
    "big_ints\n",
    "\n",
    "x = np.array([max_int], dtype=np.int64)\n",
    "\n",
    "x // np.array([2])"
   ]
  },
  {
   "cell_type": "code",
   "execution_count": null,
   "metadata": {},
   "outputs": [],
   "source": [
    "expanded = Expanded()"
   ]
  },
  {
   "cell_type": "code",
   "execution_count": null,
   "metadata": {},
   "outputs": [],
   "source": [
    "len(normal_set)"
   ]
  },
  {
   "cell_type": "code",
   "execution_count": 15,
   "metadata": {},
   "outputs": [
    {
     "name": "stdout",
     "output_type": "stream",
     "text": [
      "iter=50000 TN=49440, FN=0, TP=560, FP=0\n",
      "iter=100000 TN=99440, FN=0, TP=560, FP=0\n",
      "iter=150000 TN=148910, FN=0, TP=1090, FP=0\n",
      "iter=200000 TN=198880, FN=0, TP=1120, FP=0\n",
      "iter=250000 TN=248670, FN=0, TP=1330, FP=0\n",
      "iter=300000 TN=298320, FN=0, TP=1680, FP=0\n",
      "iter=350000 TN=348320, FN=0, TP=1680, FP=0\n",
      "iter=400000 TN=397760, FN=0, TP=2240, FP=0\n",
      "iter=450000 TN=446640, FN=0, TP=3360, FP=0\n",
      "iter=500000 TN=495890, FN=0, TP=4110, FP=0\n",
      "iter=550000 TN=544960, FN=0, TP=5040, FP=0\n",
      "iter=600000 TN=594960, FN=0, TP=5040, FP=0\n",
      "iter=650000 TN=643280, FN=0, TP=6720, FP=0\n",
      "iter=700000 TN=693280, FN=0, TP=6720, FP=0\n",
      "iter=750000 TN=743280, FN=0, TP=6720, FP=0\n",
      "iter=800000 TN=793280, FN=0, TP=6720, FP=0\n",
      "iter=850000 TN=843280, FN=0, TP=6720, FP=0\n",
      "iter=900000 TN=893280, FN=0, TP=6720, FP=0\n",
      "iter=950000 TN=943280, FN=0, TP=6720, FP=0\n",
      "iter=1000000 TN=993280, FN=0, TP=6720, FP=0\n"
     ]
    }
   ],
   "source": [
    "# Test the Expanded class\n",
    "\n",
    "from itertools import permutations\n",
    "\n",
    "x = list(basic_solved_state(1, 3)[0])\n",
    "\n",
    "normal_set = set()\n",
    "expanded = Expanded()\n",
    "\n",
    "iterations = 0\n",
    "TP = 0\n",
    "FP = 0\n",
    "TN = 0\n",
    "FN = 0\n",
    "\n",
    "for p in permutations(x):\n",
    "    iterations += 1\n",
    "    \n",
    "    x = np.array(p)[np.newaxis]\n",
    "    \n",
    "    if p in normal_set: \n",
    "        if expanded.contains(x)[0]:\n",
    "            TN += 1\n",
    "        else:\n",
    "            FN += 1\n",
    "    else:\n",
    "        if not expanded.contains(x)[0]:\n",
    "            TP += 1\n",
    "        else:\n",
    "            print(p)\n",
    "            FP += 1\n",
    "            \n",
    "    normal_set.add(p)\n",
    "    expanded.add(x)\n",
    "    \n",
    "    if iterations % 50000 == 0:\n",
    "        print(f\"iter={iterations} TN={TN}, FN={FN}, TP={TP}, FP={FP}\")\n",
    "        \n",
    "    if iterations == 1000000:\n",
    "        break\n"
   ]
  },
  {
   "cell_type": "code",
   "execution_count": null,
   "metadata": {},
   "outputs": [],
   "source": [
    "import math\n",
    "\n",
    "for n in range(50):\n",
    "    type(n*n + 1)\n",
    "    possible_states = math.factorial(int(n*n + 1)) // (math.factorial(n) ** n)"
   ]
  },
  {
   "cell_type": "code",
   "execution_count": 301,
   "metadata": {},
   "outputs": [
    {
     "name": "stdout",
     "output_type": "stream",
     "text": [
      "Initial state:\n",
      "[[2 3 1 0 2 3 1 1 3 2]]\n",
      "\n",
      "h(x):\n",
      " [2.5   2.875 3.125 3.125]\n",
      "Nodes:\n",
      "[[0 3 1 2 2 3 1 1 3 2]\n",
      " [2 3 0 1 2 3 1 1 3 2]\n",
      " [2 3 1 2 0 3 1 1 3 2]\n",
      " [2 3 1 1 2 3 0 1 3 2]]\n",
      "\n",
      "h(x):\n",
      " [2.    2.375 2.5   2.625]\n",
      "Nodes:\n",
      "[[2 3 1 2 2 3 1 1 3 0]\n",
      " [2 3 1 1 2 3 2 1 3 0]\n",
      " [2 0 1 2 3 3 1 1 3 2]\n",
      " [2 0 3 1 2 3 1 1 3 2]]\n",
      "\n",
      "h(x):\n",
      " [2.125 2.25  2.25  2.25 ]\n",
      "Nodes:\n",
      "[[0 3 1 1 2 3 2 1 3 2]\n",
      " [2 3 1 2 2 3 1 1 0 3]\n",
      " [0 2 1 2 3 3 1 1 3 2]\n",
      " [2 3 3 1 2 3 1 1 0 2]]\n",
      "\n",
      "h(x):\n",
      " [1.125 2.    2.375 2.375]\n",
      "Nodes:\n",
      "[[2 2 1 2 3 3 1 1 3 0]\n",
      " [2 3 3 1 2 3 1 1 2 0]\n",
      " [3 0 1 1 2 3 2 1 3 2]\n",
      " [2 3 1 2 2 3 1 0 1 3]]\n",
      "\n",
      "h(x):\n",
      " [1.375 1.375 1.375 1.75 ]\n",
      "Nodes:\n",
      "[[2 2 1 2 3 3 1 1 0 3]\n",
      " [2 2 1 2 3 0 1 1 3 3]\n",
      " [0 3 3 1 2 3 1 1 2 2]\n",
      " [2 3 3 0 2 3 1 1 2 1]]\n",
      "\n",
      "h(x):\n",
      " [0.75  1.125 1.125 1.25 ]\n",
      "Nodes:\n",
      "[[2 2 0 2 3 1 1 1 3 3]\n",
      " [2 2 1 2 0 3 1 1 3 3]\n",
      " [0 3 3 2 2 3 1 1 2 1]\n",
      " [2 2 1 2 3 1 0 1 3 3]]\n",
      "\n",
      "h(x):\n",
      " [0.625 0.75  0.75  0.875]\n",
      "Nodes:\n",
      "[[2 2 2 0 3 1 1 1 3 3]\n",
      " [2 0 2 2 3 1 1 1 3 3]\n",
      " [2 2 1 2 1 3 1 0 3 3]\n",
      " [2 2 1 2 3 1 3 1 3 0]]\n",
      "\n",
      "h(x):\n",
      " [0.625 0.625 0.625 0.875]\n",
      "Nodes:\n",
      "[[0 2 2 2 3 1 1 1 3 3]\n",
      " [0 2 2 2 3 1 1 1 3 3]\n",
      " [2 2 1 2 1 3 1 3 0 3]\n",
      " [2 2 2 3 0 1 1 1 3 3]]\n",
      "\n",
      "h(x):\n",
      " [0.5   0.875 1.    1.125]\n",
      "Nodes:\n",
      "[[2 2 1 2 1 3 1 3 3 0]\n",
      " [2 2 2 3 1 1 1 0 3 3]\n",
      " [2 2 2 3 1 0 1 1 3 3]\n",
      " [2 0 2 3 2 1 1 1 3 3]]\n",
      "\n",
      "h(x):\n",
      " [0.375 0.75  0.875 1.   ]\n",
      "Nodes:\n",
      "[[2 2 1 2 1 0 1 3 3 3]\n",
      " [2 2 2 3 1 1 1 3 0 3]\n",
      " [2 2 2 3 1 3 1 1 0 3]\n",
      " [2 2 2 3 1 1 0 1 3 3]]\n",
      "\n",
      "h(x):\n",
      " [0.125 0.25  0.25  0.5  ]\n",
      "Nodes:\n",
      "[[2 2 0 2 1 1 1 3 3 3]\n",
      " [2 2 1 2 1 1 0 3 3 3]\n",
      " [2 2 2 0 1 1 3 1 3 3]\n",
      " [2 2 1 2 0 1 1 3 3 3]]\n",
      "\n",
      "h(x):\n",
      " [0.    0.125 0.25  0.25 ]\n",
      "Nodes:\n",
      "[[2 2 2 0 1 1 1 3 3 3]\n",
      " [2 0 2 2 1 1 1 3 3 3]\n",
      " [2 2 1 2 1 1 3 3 3 0]\n",
      " [0 2 2 2 1 1 3 1 3 3]]\n",
      "Done\n"
     ]
    }
   ],
   "source": [
    "n = 3\n",
    "x = basic_solved_state(1, n)\n",
    "x = shuffle_along_axis(x, 1)\n",
    "\n",
    "print(\"Initial state:\")\n",
    "print(x)\n",
    "\n",
    "X = random_large_discs(n)\n",
    "h = MaskedDistanceHeuristic(n, scale=(1 / (8*(n-1))))\n",
    "expanded = Expanded()\n",
    "expanded.add(x)\n",
    "\n",
    "search_width = 4\n",
    "\n",
    "for i in range(100):\n",
    "    x = expand(X, x)\n",
    "    backtracked = expanded.contains(x)\n",
    "    x = x[~backtracked]\n",
    "    expanded.add(x)\n",
    "    \n",
    "    hvals = h(x)\n",
    "    arg_best = hvals.argsort()\n",
    "    arg_best = arg_best[:min(search_width, arg_best.shape[0])]\n",
    "    \n",
    "    x = x[arg_best]\n",
    "    hvals = hvals[arg_best]\n",
    "    \n",
    "    print()\n",
    "    print(\"h(x):\\n\", hvals)\n",
    "    print(\"Nodes:\")\n",
    "    print(x)\n",
    "    if hvals[0] < 1e-2:\n",
    "        print(\"Done\")\n",
    "        break"
   ]
  },
  {
   "cell_type": "code",
   "execution_count": 207,
   "metadata": {},
   "outputs": [
    {
     "name": "stdout",
     "output_type": "stream",
     "text": [
      "[[ 0  1  2  3]\n",
      " [ 4  5  6  7]\n",
      " [ 8  9 10 11]\n",
      " [12 13 14 15]]\n"
     ]
    },
    {
     "data": {
      "text/plain": [
       "array([ 0,  5, 10, 15])"
      ]
     },
     "execution_count": 207,
     "metadata": {},
     "output_type": "execute_result"
    }
   ],
   "source": [
    "x = np.arange(16).reshape(4, 4)\n",
    "print(x)\n",
    "#np.take_along_axis(x, np.array([(1,0, 1, 0)]), axis=0)\n",
    "ids = np.array([0, 1, 2, 3])\n",
    "\n",
    "x[ids, range(4)]"
   ]
  },
  {
   "cell_type": "code",
   "execution_count": 153,
   "metadata": {},
   "outputs": [
    {
     "ename": "SyntaxError",
     "evalue": "invalid syntax (<ipython-input-153-a922494e8975>, line 1)",
     "output_type": "error",
     "traceback": [
      "\u001b[1;36m  File \u001b[1;32m\"<ipython-input-153-a922494e8975>\"\u001b[1;36m, line \u001b[1;32m1\u001b[0m\n\u001b[1;33m    x[..., +].shape\u001b[0m\n\u001b[1;37m            ^\u001b[0m\n\u001b[1;31mSyntaxError\u001b[0m\u001b[1;31m:\u001b[0m invalid syntax\n"
     ]
    }
   ],
   "source": [
    "x[...,].shape"
   ]
  }
 ],
 "metadata": {
  "kernelspec": {
   "display_name": "Python 3",
   "language": "python",
   "name": "python3"
  },
  "language_info": {
   "codemirror_mode": {
    "name": "ipython",
    "version": 3
   },
   "file_extension": ".py",
   "mimetype": "text/x-python",
   "name": "python",
   "nbconvert_exporter": "python",
   "pygments_lexer": "ipython3",
   "version": "3.7.6"
  }
 },
 "nbformat": 4,
 "nbformat_minor": 4
}

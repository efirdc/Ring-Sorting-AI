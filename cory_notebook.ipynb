{
 "cells": [
  {
   "cell_type": "code",
   "execution_count": 2,
   "metadata": {},
   "outputs": [
    {
     "name": "stdout",
     "output_type": "stream",
     "text": [
      "The autoreload extension is already loaded. To reload it, use:\n",
      "  %reload_ext autoreload\n"
     ]
    }
   ],
   "source": [
    "import numpy as np\n",
    "from air_berlin import *\n",
    "\n",
    "%load_ext autoreload\n",
    "%autoreload 2"
   ]
  },
  {
   "cell_type": "code",
   "execution_count": null,
   "metadata": {},
   "outputs": [],
   "source": []
  },
  {
   "cell_type": "code",
   "execution_count": 28,
   "metadata": {},
   "outputs": [
    {
     "name": "stdout",
     "output_type": "stream",
     "text": [
      " [3 1 3 2 2 3 4 3 3 2 4 4 2 1 1 4 1 2 2 2 4 1 1 1 3 1]\n",
      "[[0 1 2 2 3 3 3 4 4 5 4 5 5 6 6 5 6 5 4 4 3 4 4 3 2 1]\n",
      " [1 0 1 1 2 2 2 3 3 4 3 4 4 5 5 4 5 4 3 3 2 3 3 2 1 2]\n",
      " [2 1 0 1 1 1 1 2 2 3 2 3 3 4 5 4 5 5 4 4 3 4 4 3 2 3]\n",
      " [1 2 1 0 1 2 2 2 3 3 3 3 4 5 5 4 5 5 5 5 4 5 5 4 3 2]\n",
      " [2 3 2 1 0 1 2 1 2 2 3 2 3 4 4 3 4 4 5 5 5 6 6 5 4 3]\n",
      " [2 2 1 1 1 0 1 2 1 2 2 3 3 4 5 4 5 5 5 5 4 5 5 4 3 3]\n",
      " [3 3 2 2 1 1 0 1 2 2 1 2 2 3 4 3 4 4 5 5 5 6 6 5 4 4]\n",
      " [4 4 3 3 2 2 1 0 1 1 2 1 2 3 3 2 3 3 4 4 4 5 6 6 5 5]\n",
      " [3 3 2 2 2 1 2 1 0 1 2 2 3 4 4 3 4 4 5 5 5 6 6 5 4 4]\n",
      " [4 4 3 3 3 2 2 2 1 0 1 2 2 3 4 3 4 4 5 5 5 6 7 6 5 5]\n",
      " [4 4 3 3 2 2 1 1 2 1 0 1 1 2 3 2 3 3 4 4 4 5 6 6 5 5]\n",
      " [4 4 3 3 3 2 2 2 1 1 1 0 1 2 2 1 2 2 3 3 3 4 5 6 5 5]\n",
      " [5 5 4 4 4 3 3 3 2 2 2 1 0 1 2 2 3 3 4 4 4 5 6 7 6 6]\n",
      " [6 6 5 5 4 4 3 3 3 3 2 2 1 0 1 2 3 3 4 4 4 5 6 7 6 7]\n",
      " [5 5 4 4 3 3 2 2 3 2 1 2 1 1 0 1 2 2 3 3 3 4 5 6 5 6]\n",
      " [5 5 4 4 4 3 3 3 2 2 2 1 2 2 1 0 1 1 2 2 2 3 4 5 4 5]\n",
      " [5 6 5 5 5 4 4 4 3 3 3 2 3 3 2 1 0 1 1 2 1 2 3 4 3 4]\n",
      " [6 7 6 6 6 5 5 5 4 4 4 3 4 4 3 2 1 0 1 1 2 3 4 5 4 5]\n",
      " [6 7 6 6 6 5 5 5 4 4 4 3 4 4 3 2 2 1 0 1 2 3 4 5 4 5]\n",
      " [5 6 5 5 5 4 4 4 3 3 3 2 3 3 2 1 2 1 1 0 1 2 3 4 3 4]\n",
      " [4 5 4 5 5 5 5 5 4 4 4 3 4 4 3 2 3 2 1 1 0 1 2 3 2 3]\n",
      " [3 4 3 4 4 4 4 5 4 4 4 3 4 4 3 2 3 2 2 1 1 0 1 2 1 2]\n",
      " [2 3 4 4 5 5 5 6 5 5 5 4 5 5 4 3 4 3 3 2 2 1 0 1 2 3]\n",
      " [1 2 3 3 4 4 4 5 5 6 5 5 6 6 5 4 5 4 3 3 2 2 1 0 1 2]\n",
      " [2 3 2 3 3 3 3 4 4 5 4 4 5 5 4 3 4 3 2 2 1 2 2 1 0 1]\n",
      " [1 2 1 2 2 2 2 3 3 4 3 4 4 5 5 4 5 4 3 3 2 3 3 2 1 0]]\n"
     ]
    }
   ],
   "source": [
    "n = 5\n",
    "x = basic_solved_state(1, n)\n",
    "x = shuffle_along_axis(x, 1)\n",
    "xvals = get_xvals(x)\n",
    "X = random_large_discs(n)\n",
    "A = adjacency_matrix(X)\n",
    "P = shortest_path(A)\n",
    "print(\"\", X)\n",
    "print(P)"
   ]
  },
  {
   "cell_type": "code",
   "execution_count": null,
   "metadata": {},
   "outputs": [],
   "source": [
    "x, xvals = expand(X, x, xvals)\n",
    "print(x)"
   ]
  },
  {
   "cell_type": "code",
   "execution_count": null,
   "metadata": {},
   "outputs": [],
   "source": [
    "h = AirBerlinDistanceHeuristic(n, X, 1)\n",
    "h(X, x, xvals)"
   ]
  },
  {
   "cell_type": "code",
   "execution_count": null,
   "metadata": {},
   "outputs": [],
   "source": [
    "a = np.arange(4*4).reshape(4, 4)\n",
    "print(a)\n",
    "a[np.arange(2).reshape(2, 1), np.arange(2).reshape(1, 2)]"
   ]
  },
  {
   "cell_type": "code",
   "execution_count": null,
   "metadata": {},
   "outputs": [],
   "source": [
    "i = np.arange(4)\n",
    "j = np.stack((i, (i + 2) % 4), axis=1)\n",
    "print(j.flatten())\n",
    "print(i.repeat(2))\n",
    "A = np.arange(4*4).reshape(4, 4)\n",
    "print(A)\n",
    "A[i.repeat(2), j.flatten()]"
   ]
  },
  {
   "cell_type": "code",
   "execution_count": null,
   "metadata": {},
   "outputs": [],
   "source": [
    "x = np.ones((4, 4, 4, 4))\n",
    "y = np.zeros((7, 7))\n",
    "x = x[:, np.newaxis, :, :, np.newaxis]\n",
    "y = y[np.newaxis, :, np.newaxis, np.newaxis, :, np.newaxis]\n",
    "\n",
    "print(x.shape, y.shape)\n",
    "print((x * y).shape)"
   ]
  },
  {
   "cell_type": "code",
   "execution_count": null,
   "metadata": {},
   "outputs": [],
   "source": [
    "(2, 3)[:-2]"
   ]
  },
  {
   "cell_type": "code",
   "execution_count": null,
   "metadata": {},
   "outputs": [],
   "source": [
    "\n",
    "\n",
    "print(\"\", X)\n",
    "A = adjacency_matrix(X)\n",
    "P = shortest_path(A)\n",
    "print(A)\n",
    "print(P)"
   ]
  },
  {
   "cell_type": "code",
   "execution_count": null,
   "metadata": {},
   "outputs": [],
   "source": [
    "x = [[1, 1, 1, 2, 3, 0, 2, 2, 3, 3]]\n",
    "d = x - np.roll(x, 1)\n",
    "print(d < 0)"
   ]
  },
  {
   "cell_type": "code",
   "execution_count": null,
   "metadata": {},
   "outputs": [],
   "source": [
    "D = mod_difference_matrix(5)\n",
    "print(D)"
   ]
  },
  {
   "cell_type": "code",
   "execution_count": null,
   "metadata": {},
   "outputs": [],
   "source": [
    "X = np.array([1, 2, 3, 1, 2, 3, 4, 1, 2, 3])\n",
    "x = np.array([[1, 2, 3, 1, 2, 3, 0, 1, 2, 3]])\n",
    "xvals = get_xvals(x)"
   ]
  },
  {
   "cell_type": "code",
   "execution_count": null,
   "metadata": {},
   "outputs": [],
   "source": [
    "#x = x[2:3]\n",
    "xvals = xvals[2:3]"
   ]
  },
  {
   "cell_type": "code",
   "execution_count": null,
   "metadata": {},
   "outputs": [],
   "source": [
    "x, xvals = expand(X, x, xvals)\n",
    "print(x.shape)\n",
    "print(X)\n",
    "print(x)"
   ]
  },
  {
   "cell_type": "code",
   "execution_count": null,
   "metadata": {},
   "outputs": [],
   "source": [
    "n = 4\n",
    "m = n*n + 1\n",
    "x = basic_solved_state(1, n)\n",
    "x = shuffle_along_axis(x, 1)"
   ]
  },
  {
   "cell_type": "code",
   "execution_count": null,
   "metadata": {},
   "outputs": [],
   "source": [
    "expanded = Expanded()"
   ]
  },
  {
   "cell_type": "code",
   "execution_count": 241,
   "metadata": {},
   "outputs": [
    {
     "name": "stdout",
     "output_type": "stream",
     "text": [
      "13.0\n",
      "13.0\n",
      "12.0\n",
      "12.0\n",
      "11.0\n",
      "11.0\n",
      "10.0\n",
      "10.0\n",
      "9.0\n",
      "9.0\n",
      "8.0\n"
     ]
    }
   ],
   "source": [
    "for n in range(5, 16):\n",
    "    print(16 - np.ceil(n / 2))"
   ]
  },
  {
   "cell_type": "code",
   "execution_count": 244,
   "metadata": {},
   "outputs": [
    {
     "name": "stdout",
     "output_type": "stream",
     "text": [
      "Initial state:\n",
      "Large Disks: [1 2 2 1 1 4 3 4 3 3 2 3 4 4 2 3 1 2 2 1 1 2 2 1 2 1 4 3 1 2 3 2 3 4 3 1 4\n",
      " 1 1 1 1 4 3 1 3 2 4 2 1 1 2 3 4 3 4 3 4 1 3 4 1 3 2 4 1]\n",
      "Small Disks: [[3 8 6 3 0 5 2 2 3 4 1 4 3 5 4 4 3 1 2 4 3 6 1 5 8 6 7 2 6 7 2 5 5 5 7 2\n",
      "  4 8 8 1 3 8 4 6 2 6 8 5 7 2 7 1 6 6 4 7 7 8 1 1 3 5 1 8 7]]\n",
      "\n",
      "\n",
      "Turn: 0, expanded: 0, fringe: 0, time elapsed: 0.0\n",
      "Best g(x) + h(x) = 0 + 584.780029296875\n",
      "Turn: 10, expanded: 2452, fringe: 0, time elapsed: 1.134634017944336\n",
      "Best g(x) + h(x) = 10 + 579.4400024414062\n",
      "Turn: 20, expanded: 8997, fringe: 0, time elapsed: 4.499858379364014\n",
      "Best g(x) + h(x) = 20 + 571.0900268554688\n",
      "Turn: 30, expanded: 13025, fringe: 0, time elapsed: 7.628487586975098\n",
      "Best g(x) + h(x) = 30 + 565.3099975585938\n",
      "Turn: 40, expanded: 17402, fringe: 0, time elapsed: 10.90682315826416\n",
      "Best g(x) + h(x) = 40 + 557.219970703125\n",
      "Turn: 50, expanded: 21932, fringe: 0, time elapsed: 14.530207395553589\n",
      "Best g(x) + h(x) = 50 + 546.969970703125\n",
      "Turn: 60, expanded: 25972, fringe: 0, time elapsed: 17.8029568195343\n",
      "Best g(x) + h(x) = 60 + 539.280029296875\n",
      "Turn: 70, expanded: 30814, fringe: 0, time elapsed: 21.289543628692627\n",
      "Best g(x) + h(x) = 70 + 529.5599975585938\n",
      "Turn: 80, expanded: 34981, fringe: 0, time elapsed: 24.814541816711426\n",
      "Best g(x) + h(x) = 80 + 519.1199951171875\n",
      "Turn: 90, expanded: 38395, fringe: 0, time elapsed: 28.341540336608887\n",
      "Best g(x) + h(x) = 90 + 509.5899963378906\n",
      "Turn: 100, expanded: 41864, fringe: 0, time elapsed: 31.803096771240234\n",
      "Best g(x) + h(x) = 100 + 500.75\n",
      "Turn: 110, expanded: 44904, fringe: 0, time elapsed: 34.826438426971436\n",
      "Best g(x) + h(x) = 110 + 493.1600036621094\n",
      "Turn: 120, expanded: 47766, fringe: 0, time elapsed: 37.667800426483154\n",
      "Best g(x) + h(x) = 120 + 487.7200012207031\n",
      "Turn: 130, expanded: 50107, fringe: 0, time elapsed: 40.45066165924072\n",
      "Best g(x) + h(x) = 130 + 483.2200012207031\n",
      "Turn: 140, expanded: 51942, fringe: 0, time elapsed: 43.4064040184021\n",
      "Best g(x) + h(x) = 140 + 474.3800048828125\n",
      "Turn: 150, expanded: 53971, fringe: 0, time elapsed: 47.20029282569885\n",
      "Best g(x) + h(x) = 150 + 462.8399963378906\n",
      "Turn: 160, expanded: 55557, fringe: 0, time elapsed: 51.21481156349182\n",
      "Best g(x) + h(x) = 160 + 449.5\n",
      "Turn: 170, expanded: 56885, fringe: 0, time elapsed: 54.98442268371582\n",
      "Best g(x) + h(x) = 170 + 435.1600036621094\n",
      "Turn: 180, expanded: 58156, fringe: 0, time elapsed: 58.92338252067566\n",
      "Best g(x) + h(x) = 180 + 422.9100036621094\n",
      "Turn: 190, expanded: 59398, fringe: 0, time elapsed: 62.57687997817993\n",
      "Best g(x) + h(x) = 190 + 407.9700012207031\n",
      "Turn: 200, expanded: 60992, fringe: 0, time elapsed: 65.56645894050598\n",
      "Best g(x) + h(x) = 200 + 400.4100036621094\n",
      "Turn: 210, expanded: 62008, fringe: 0, time elapsed: 68.22191047668457\n",
      "Best g(x) + h(x) = 210 + 393.9100036621094\n",
      "Turn: 220, expanded: 63500, fringe: 0, time elapsed: 70.86067461967468\n",
      "Best g(x) + h(x) = 220 + 382.9700012207031\n",
      "Turn: 230, expanded: 64359, fringe: 0, time elapsed: 73.51840925216675\n",
      "Best g(x) + h(x) = 230 + 376.3800048828125\n",
      "Turn: 240, expanded: 64584, fringe: 0, time elapsed: 75.70404839515686\n",
      "Best g(x) + h(x) = 240 + 373.2200012207031\n",
      "Turn: 250, expanded: 64919, fringe: 0, time elapsed: 77.91719317436218\n",
      "Best g(x) + h(x) = 250 + 368.6600036621094\n",
      "Turn: 260, expanded: 65396, fringe: 0, time elapsed: 80.71020817756653\n",
      "Best g(x) + h(x) = 260 + 358.4100036621094\n",
      "Turn: 270, expanded: 65900, fringe: 0, time elapsed: 84.46164226531982\n",
      "Best g(x) + h(x) = 270 + 348.69000244140625\n",
      "Turn: 280, expanded: 66398, fringe: 0, time elapsed: 87.89351677894592\n",
      "Best g(x) + h(x) = 280 + 337.3399963378906\n",
      "Turn: 290, expanded: 66955, fringe: 0, time elapsed: 91.51823234558105\n",
      "Best g(x) + h(x) = 290 + 319.55999755859375\n",
      "Turn: 300, expanded: 67530, fringe: 0, time elapsed: 95.41828536987305\n",
      "Best g(x) + h(x) = 300 + 301.8399963378906\n",
      "Turn: 310, expanded: 68033, fringe: 0, time elapsed: 98.4451003074646\n",
      "Best g(x) + h(x) = 310 + 291.5299987792969\n",
      "Turn: 320, expanded: 68559, fringe: 0, time elapsed: 101.47336745262146\n",
      "Best g(x) + h(x) = 320 + 282.44000244140625\n",
      "Turn: 330, expanded: 69069, fringe: 0, time elapsed: 104.50841164588928\n",
      "Best g(x) + h(x) = 330 + 273.3399963378906\n",
      "Turn: 340, expanded: 69403, fringe: 0, time elapsed: 107.29308986663818\n",
      "Best g(x) + h(x) = 340 + 268.0899963378906\n",
      "Turn: 350, expanded: 69814, fringe: 0, time elapsed: 110.39512276649475\n",
      "Best g(x) + h(x) = 350 + 255.27999877929688\n",
      "Turn: 360, expanded: 70262, fringe: 0, time elapsed: 113.8232159614563\n",
      "Best g(x) + h(x) = 360 + 243.22000122070312\n",
      "Turn: 370, expanded: 70739, fringe: 0, time elapsed: 117.41438817977905\n",
      "Best g(x) + h(x) = 370 + 229.0\n",
      "Turn: 380, expanded: 71261, fringe: 0, time elapsed: 120.91374850273132\n",
      "Best g(x) + h(x) = 380 + 215.25\n",
      "Turn: 390, expanded: 71753, fringe: 0, time elapsed: 124.44677829742432\n",
      "Best g(x) + h(x) = 390 + 203.05999755859375\n",
      "Turn: 400, expanded: 72200, fringe: 0, time elapsed: 128.30975079536438\n",
      "Best g(x) + h(x) = 400 + 191.91000366210938\n",
      "Turn: 410, expanded: 72605, fringe: 0, time elapsed: 131.77609658241272\n",
      "Best g(x) + h(x) = 410 + 179.52999877929688\n",
      "Turn: 420, expanded: 73016, fringe: 0, time elapsed: 135.47024250030518\n",
      "Best g(x) + h(x) = 420 + 167.52999877929688\n",
      "Turn: 430, expanded: 73474, fringe: 0, time elapsed: 139.0102241039276\n",
      "Best g(x) + h(x) = 430 + 155.3800048828125\n",
      "Turn: 440, expanded: 73931, fringe: 0, time elapsed: 142.0907781124115\n",
      "Best g(x) + h(x) = 440 + 146.80999755859375\n",
      "Turn: 450, expanded: 74300, fringe: 0, time elapsed: 144.66339707374573\n",
      "Best g(x) + h(x) = 450 + 137.44000244140625\n",
      "Turn: 460, expanded: 74656, fringe: 0, time elapsed: 147.78527426719666\n",
      "Best g(x) + h(x) = 460 + 128.94000244140625\n",
      "Turn: 470, expanded: 74781, fringe: 0, time elapsed: 150.0541377067566\n",
      "Best g(x) + h(x) = 470 + 127.0\n",
      "Turn: 480, expanded: 75125, fringe: 0, time elapsed: 152.02610325813293\n",
      "Best g(x) + h(x) = 480 + 123.62000274658203\n",
      "Turn: 490, expanded: 76486, fringe: 0, time elapsed: 154.2151539325714\n",
      "Best g(x) + h(x) = 490 + 114.80999755859375\n",
      "Turn: 500, expanded: 79080, fringe: 0, time elapsed: 157.61643767356873\n",
      "Best g(x) + h(x) = 500 + 103.83999633789062\n",
      "Turn: 510, expanded: 81475, fringe: 0, time elapsed: 160.5141100883484\n",
      "Best g(x) + h(x) = 510 + 94.16000366210938\n",
      "Turn: 520, expanded: 82912, fringe: 0, time elapsed: 162.98887085914612\n",
      "Best g(x) + h(x) = 520 + 89.77999877929688\n",
      "Turn: 530, expanded: 83562, fringe: 0, time elapsed: 165.18828892707825\n",
      "Best g(x) + h(x) = 530 + 78.77999877929688\n",
      "Turn: 540, expanded: 84442, fringe: 0, time elapsed: 167.4274399280548\n",
      "Best g(x) + h(x) = 540 + 74.02999877929688\n",
      "Turn: 550, expanded: 84958, fringe: 0, time elapsed: 169.54427552223206\n",
      "Best g(x) + h(x) = 550 + 71.19000244140625\n",
      "Turn: 560, expanded: 85187, fringe: 0, time elapsed: 171.40343046188354\n",
      "Best g(x) + h(x) = 560 + 71.19000244140625\n",
      "Turn: 570, expanded: 85333, fringe: 0, time elapsed: 173.54165816307068\n",
      "Best g(x) + h(x) = 570 + 69.19000244140625\n",
      "Turn: 580, expanded: 85402, fringe: 0, time elapsed: 175.47791457176208\n",
      "Best g(x) + h(x) = 580 + 65.0\n",
      "Turn: 590, expanded: 85543, fringe: 0, time elapsed: 178.47073602676392\n",
      "Best g(x) + h(x) = 590 + 56.75\n",
      "Turn: 600, expanded: 85643, fringe: 0, time elapsed: 181.17791533470154\n",
      "Best g(x) + h(x) = 600 + 53.439998626708984\n",
      "Turn: 610, expanded: 85699, fringe: 0, time elapsed: 183.4300274848938\n",
      "Best g(x) + h(x) = 610 + 52.119998931884766\n",
      "Turn: 620, expanded: 85797, fringe: 0, time elapsed: 185.0891842842102\n",
      "Best g(x) + h(x) = 620 + 50.34000015258789\n",
      "Turn: 630, expanded: 86178, fringe: 0, time elapsed: 186.85961747169495\n",
      "Best g(x) + h(x) = 630 + 50.34000015258789\n",
      "Turn: 640, expanded: 86738, fringe: 0, time elapsed: 188.69868564605713\n",
      "Best g(x) + h(x) = 640 + 50.34000015258789\n",
      "Turn: 650, expanded: 87167, fringe: 0, time elapsed: 190.53390097618103\n",
      "Best g(x) + h(x) = 650 + 46.34000015258789\n",
      "Turn: 660, expanded: 87491, fringe: 0, time elapsed: 192.44885230064392\n",
      "Best g(x) + h(x) = 660 + 38.220001220703125\n",
      "Turn: 670, expanded: 87885, fringe: 0, time elapsed: 195.14699292182922\n",
      "Best g(x) + h(x) = 670 + 24.6200008392334\n",
      "Turn: 680, expanded: 88963, fringe: 0, time elapsed: 197.503981590271\n",
      "Best g(x) + h(x) = 680 + 8.779999732971191\n",
      "Turn: 690, expanded: 89981, fringe: 0, time elapsed: 199.73093104362488\n",
      "Best g(x) + h(x) = 690 + 1.809999942779541\n",
      "Turn: 700, expanded: 90647, fringe: 0, time elapsed: 201.729017496109\n",
      "Best g(x) + h(x) = 700 + 0.0\n",
      "Turn: 710, expanded: 91212, fringe: 0, time elapsed: 203.42572832107544\n",
      "Best g(x) + h(x) = 710 + 0.0\n",
      "Done.\n",
      "Solution length: 713\n"
     ]
    }
   ],
   "source": [
    "n = 8\n",
    "x = basic_solved_state(N=1, n=n)\n",
    "x = shuffle_along_axis(x, 1)\n",
    "X = random_large_discs(n, 1, 4)\n",
    "\n",
    "#X[1] = 4\n",
    "#print(x.shape, X.shape)\n",
    "\n",
    "#X = np.array([int(val) for val in \"1 2 3 2 3 2 1 2 1 2 1 3 4 1 2 3 4 1 2 3 1 2 3 2 3 4 1 2 3 4 1 2 3 4 1 2 3\".split(\" \")])\n",
    "#x = np.array([[int(val) for val in \"5 1 2 1 2 1 1 2 3 3 2 0 2 3 2 3 5 3 3 4 4 4 4 4 5 4 5 5 5 1 6 6 6 1 6 6 6\".split(\" \")]], dtype=x.dtype)\n",
    "#print(x.shape, X.shape)\n",
    "\n",
    "#n = 3\n",
    "#x = np.array([[1, 1, 1, 3, 2, 2, 3, 3, 0, 2]], dtype=np.int8)\n",
    "#X = np.array( [1, 2, 3, 4, 1, 2, 3, 1, 2, 3])\n",
    "\n",
    "m = (n**2)\n",
    "\n",
    "#heuristic1 = SolvedHeuristic(n)\n",
    "#heuristic1 = AirBerlinDistanceHeuristic(n, X, scale=1 / (n*n))\n",
    "#heuristic = BreadthHeuristic(n, depth=3, h_breadth=HammingHeuristic(n))\n",
    "heuristic1 = PairwiseDistanceHeuristic(n, scale=1 / (n*n))\n",
    "#heuristic = BreadthHeuristic(n, depth=4, h_breadth=PairwiseDistanceHeuristic(n, scale=1 / (n*n)))\n",
    "#heuristic2 = AdjacentDistanceHeuristic(n, 1)\n",
    "\n",
    "print(\"Initial state:\")\n",
    "print(\"Large Disks:\", X)\n",
    "print(\"Small Disks:\", x)\n",
    "\n",
    "#path = ida_star(X, x, heuristic2)\n",
    "\n",
    "#path = search(X, x, heuristic1, Fringe(), Expanded(), search_width=1, log_interval=1000, cost_scale=1)\n",
    "print()\n",
    "#path = search(X, x, heuristic2, Fringe(), Expanded(), search_width=1, log_interval=10000, cost_scale=1)\n",
    "print()\n",
    "#path = search(X, x, heuristic1, MinMaxFringe(maxsize=4096 * 4), Expanded(), search_width=1, log_interval=10000, cost_scale=1)\n",
    "path = search(X, x, heuristic1, BeamFringe(), Expanded(), search_width=2**10, log_interval=10, cost_scale=1)\n",
    "\n",
    "#path = search(X, x, heuristic1, BeamFringe(), Expanded(), search_width=2**12, log_interval=10, cost_scale=1)\n",
    "#path = search(X, x, heuristic2, BeamFringe(), Expanded(), search_width=2**18, log_interval=1, cost_scale=1)\n",
    "\n",
    "#path = search(X, x, heuristic2, search_width=1, log_interval=1000, cost_scale=0)\n",
    "\n",
    "#path = search(X, x, heuristic2, search_width=1, log_interval=1000, cost_scale=1)\n",
    "#path = heuristic_search(X, x, heuristic, search_width=128, log_interval=5000)"
   ]
  },
  {
   "cell_type": "code",
   "execution_count": null,
   "metadata": {},
   "outputs": [],
   "source": [
    "np.linspace(0, 1, 2)[:-1]"
   ]
  },
  {
   "cell_type": "code",
   "execution_count": 228,
   "metadata": {},
   "outputs": [
    {
     "data": {
      "application/vnd.jupyter.widget-view+json": {
       "model_id": "1d14a5ded8eb4b41a421d05393c18513",
       "version_major": 2,
       "version_minor": 0
      },
      "text/plain": [
       "interactive(children=(IntSlider(value=111, description='i', max=222), FloatSlider(value=0.5, description='t', …"
      ]
     },
     "metadata": {},
     "output_type": "display_data"
    }
   ],
   "source": [
    "from ipywidgets import interact\n",
    "\n",
    "ring_plot = RingPlot(n, cmap=\"gist_rainbow\")\n",
    "\n",
    "actions = get_actions(path)\n",
    "hvals = heuristic1(X, path, get_xvals(path))\n",
    "\n",
    "@interact(i=(0, path.shape[0]-1), t=(0.0, 1.0, 0.01))\n",
    "def show_path(i, t):\n",
    "    action = actions[i] if i != (path.shape[0]-1) else 0\n",
    "    fig, ax = ring_plot.get_fig(X, path[i], action, hvals[i], i, t)\n",
    "    plt.show()"
   ]
  },
  {
   "cell_type": "code",
   "execution_count": null,
   "metadata": {},
   "outputs": [],
   "source": [
    "plt.close(\"all\")\n",
    "import gc\n",
    "gc.collect()"
   ]
  },
  {
   "cell_type": "code",
   "execution_count": null,
   "metadata": {},
   "outputs": [],
   "source": [
    "ring_plot = RingPlot(n, cmap=\"gist_rainbow\")\n",
    "hvals = heuristic(X, path, get_xvals(path))\n",
    "ring_plot.save_frames(X, path, hvals, 5, \"solutions/video/n9v2/\", start_from=1100)"
   ]
  },
  {
   "cell_type": "code",
   "execution_count": null,
   "metadata": {},
   "outputs": [],
   "source": [
    "import subprocess\n",
    "\n",
    "name = \"n9v1\"\n",
    "frames_path = f\"/solutions/video/{name}/\"\n",
    "#os.chdir(os.getcwd())\n",
    "#os.chdir(frames_path)\n",
    "subprocess.call([\n",
    "    'ffmpeg', '-framerate', '60', '-i', 'frame%02d.png', '-r', '60', '-pix_fmt', 'yuv720p',\n",
    "    f'{name}.mp4'\n",
    "])"
   ]
  },
  {
   "cell_type": "code",
   "execution_count": null,
   "metadata": {},
   "outputs": [],
   "source": [
    "name = \"n9v2.npy\"\n",
    "out = np.array([X, path], dtype=np.object)\n",
    "np.save(f\"solutions/{name}\", out)"
   ]
  },
  {
   "cell_type": "code",
   "execution_count": null,
   "metadata": {},
   "outputs": [],
   "source": [
    "name = \"n9v2.npy\"\n",
    "load = np.load(f\"solutions/{name}\", allow_pickle=True)\n",
    "X = load[0]\n",
    "path = load[1]\n",
    "n = int(np.sqrt(path.shape[1] - 1))"
   ]
  },
  {
   "cell_type": "code",
   "execution_count": null,
   "metadata": {},
   "outputs": [],
   "source": [
    "# Test the Expanded class\n",
    "\n",
    "from itertools import permutations\n",
    "\n",
    "x = list(basic_solved_state(1, 3)[0])\n",
    "\n",
    "normal_set = set()\n",
    "expanded = Expanded()\n",
    "\n",
    "iterations = 0\n",
    "TP = 0\n",
    "FP = 0\n",
    "TN = 0\n",
    "FN = 0\n",
    "2\n",
    "for p in permutations(x):\n",
    "    iterations += 1\n",
    "    \n",
    "    x = np.array(p)[np.newaxis]\n",
    "    \n",
    "    if p in normal_set: \n",
    "        if expanded.contains(x)[0]:\n",
    "            TN += 1\n",
    "        else:\n",
    "            FN += 1\n",
    "    else:\n",
    "        if not expanded.contains(x)[0]:\n",
    "            TP += 1\n",
    "        else:\n",
    "            print(p)\n",
    "            FP += 1\n",
    "            \n",
    "    normal_set.add(p)\n",
    "    expanded.add(x)\n",
    "    \n",
    "    if iterations % 50000 == 0:\n",
    "        print(f\"iter={iterations} TN={TN}, FN={FN}, TP={TP}, FP={FP}\")\n",
    "        \n",
    "    if iterations == 1000000:\n",
    "        break\n"
   ]
  },
  {
   "cell_type": "code",
   "execution_count": null,
   "metadata": {},
   "outputs": [],
   "source": [
    "import torch\n",
    "import time\n",
    "import numpy as np\n",
    "\n",
    "x = torch.randperm(10000000)\n",
    "\n",
    "t = time.time()\n",
    "torch.sort(x)\n",
    "cpu_time = time.time() - t\n",
    "\n",
    "print(\"cpu time\", cpu_time)\n",
    "\n",
    "x = x.cuda()\n",
    "\n",
    "t = time.time()\n",
    "torch.sort(x)\n",
    "gpu_time = time.time() - t\n",
    "print(\"gpu time\", gpu_time)\n",
    "\n",
    "print(f\"gpu is {round(cpu_time / gpu_time, 1)} times faster than cpu\")"
   ]
  },
  {
   "cell_type": "code",
   "execution_count": null,
   "metadata": {},
   "outputs": [],
   "source": [
    "import torch\n",
    "\n",
    "for row in list(torch.arange(4*4).reshape(4, 4)):\n",
    "    row.byte()"
   ]
  },
  {
   "cell_type": "code",
   "execution_count": 13,
   "metadata": {},
   "outputs": [
    {
     "name": "stdout",
     "output_type": "stream",
     "text": [
      "Heuristic is not admissible for state:\n",
      "[2 3 1 1 1 2 2 0 3 3]\n",
      "True cost to solution: 2 h(x): 2.444444444444444\n",
      "\n",
      "Heuristic is not consistent for action:\n",
      "[[2 0 1 3 1 2 1 2 3 3]\n",
      " [2 3 1 0 1 2 1 2 3 3]]\n",
      "The heuristic decreased from 4.333333333333333 to 3.222222222222222\n",
      "\n",
      "Heuristic is not consistent for action:\n",
      "[[2 3 1 1 1 2 2 0 3 3]\n",
      " [0 3 1 1 1 2 2 2 3 3]]\n",
      "The heuristic decreased from 2.444444444444444 to 0.6666666666666666\n",
      "\n",
      "Heuristic is not admissible for state:\n",
      "[3 1 1 1 2 0 2 3 3 2]\n",
      "True cost to solution: 2 h(x): 2.333333333333333\n",
      "\n",
      "Heuristic is not consistent for action:\n",
      "[[3 1 1 1 2 0 2 3 3 2]\n",
      " [3 1 1 1 2 2 2 3 3 0]]\n",
      "The heuristic decreased from 2.333333333333333 to 0.6666666666666666\n",
      "\n",
      "Heuristic is not consistent for action:\n",
      "[[2 3 0 3 1 1 3 1 2 2]\n",
      " [2 3 3 3 1 1 0 1 2 2]]\n",
      "The heuristic decreased from 2.444444444444444 to 0.6666666666666666\n",
      "\n",
      "Heuristic is not consistent for action:\n",
      "[[2 2 3 0 3 1 1 2 1 3]\n",
      " [2 2 3 3 3 1 1 2 1 0]]\n",
      "The heuristic decreased from 3.1111111111111107 to 1.8888888888888888\n",
      "\n",
      "Heuristic is not admissible for state:\n",
      "[2 3 1 3 2 1 1 0 3 2]\n",
      "True cost to solution: 4 h(x): 4.555555555555555\n",
      "\n",
      "Heuristic is not admissible for state:\n",
      "[2 3 1 3 2 1 0 1 3 2]\n",
      "True cost to solution: 3 h(x): 4.555555555555555\n",
      "\n",
      "Heuristic is not admissible for state:\n",
      "[2 3 0 3 2 1 1 1 3 2]\n",
      "True cost to solution: 2 h(x): 3.5555555555555554\n",
      "\n",
      "Heuristic is not admissible for state:\n",
      "[2 3 3 3 2 1 1 1 0 2]\n",
      "True cost to solution: 1 h(x): 2.111111111111111\n",
      "\n",
      "Heuristic is not consistent for action:\n",
      "[[2 3 0 3 2 1 1 1 3 2]\n",
      " [2 3 3 3 2 1 1 1 0 2]]\n",
      "The heuristic decreased from 3.5555555555555554 to 2.111111111111111\n",
      "\n",
      "Heuristic is not consistent for action:\n",
      "[[2 3 3 3 2 1 1 1 0 2]\n",
      " [2 3 3 3 0 1 1 1 2 2]]\n",
      "The heuristic decreased from 2.111111111111111 to 0.0\n",
      "\n"
     ]
    }
   ],
   "source": [
    "#test_heuristic(\"PairwiseDistanceHeuristic(n, scale=1 / (n*n))\")\n",
    "#test_heuristic(\"AdjacentDistanceHeuristic(n, scale=1)\")\n",
    "#test_heuristic(\"HammingHeuristic(n)\")\n",
    "#test_heuristic(\"BreadthHeuristic(n, depth=7, h_breadth=HammingHeuristic(n))\")\n",
    "#test_heuristic(\"BreadthHeuristic(n, depth=4, h_breadth=PairwiseDistanceHeuristic(n, scale=1 / (n*n)))\")\n",
    "#test_heuristic(\"BreadthHeuristic(n, depth=3, h_breadth=AdjacentDistanceHeuristic(n, scale=1))\")\n",
    "\n",
    "test_heuristic(\"AirBerlinDistanceHeuristic(n, X, scale=1 / (n*n))\")\n",
    "#test_heuristic(\"BreadthHeuristic(n, depth=7, h_breadth=AirBerlinDistanceHeuristic(n, X, scale=1 / (n*n)))\")"
   ]
  },
  {
   "cell_type": "code",
   "execution_count": null,
   "metadata": {},
   "outputs": [],
   "source": [
    "path = \"G:/Github Repositories/Ring-Sorting-AI/solutions/video/n9v1/\"\n",
    "files = os.listdir(path)\n",
    "\n",
    "for file in files:\n",
    "    num = int(file[5:-4])\n",
    "    new_name = f\"frame{num:06}.png\"\n",
    "    os.rename(path + file, path + new_name)\n"
   ]
  }
 ],
 "metadata": {
  "kernelspec": {
   "display_name": "Python 3",
   "language": "python",
   "name": "python3"
  },
  "language_info": {
   "codemirror_mode": {
    "name": "ipython",
    "version": 3
   },
   "file_extension": ".py",
   "mimetype": "text/x-python",
   "name": "python",
   "nbconvert_exporter": "python",
   "pygments_lexer": "ipython3",
   "version": "3.7.6"
  }
 },
 "nbformat": 4,
 "nbformat_minor": 4
}

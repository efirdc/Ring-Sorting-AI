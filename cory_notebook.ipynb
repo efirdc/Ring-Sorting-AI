{
 "cells": [
  {
   "cell_type": "code",
   "execution_count": null,
   "metadata": {},
   "outputs": [],
   "source": [
    "import numpy as np\n",
    "from air_berlin import *\n",
    "\n",
    "%load_ext autoreload\n",
    "%autoreload 2"
   ]
  },
  {
   "cell_type": "code",
   "execution_count": 8,
   "metadata": {},
   "outputs": [
    {
     "name": "stdout",
     "output_type": "stream",
     "text": [
      "[4 1 4 2 2 4 2 4 1 2]\n",
      "[[2 3 3 2 1 1 3 0 1 2]]\n"
     ]
    }
   ],
   "source": [
    "n = 3\n",
    "x = basic_solved_state(1, n)\n",
    "x = shuffle_along_axis(x, 1)\n",
    "xvals = get_xvals(x)\n",
    "X = random_large_discs(n)\n",
    "print(X)\n",
    "print(x)"
   ]
  },
  {
   "cell_type": "code",
   "execution_count": 10,
   "metadata": {},
   "outputs": [
    {
     "name": "stdout",
     "output_type": "stream",
     "text": [
      "[[ True False False False False  True False False False False]]\n"
     ]
    }
   ],
   "source": [
    "x = [[1, 1, 1, 2, 3, 0, 2, 2, 3, 3]]\n",
    "d = x - np.roll(x, 1)\n",
    "print(d < 0)"
   ]
  },
  {
   "cell_type": "code",
   "execution_count": null,
   "metadata": {},
   "outputs": [],
   "source": [
    "D = mod_difference_matrix(5)\n",
    "print(D)"
   ]
  },
  {
   "cell_type": "code",
   "execution_count": null,
   "metadata": {},
   "outputs": [],
   "source": [
    "X = np.array([1, 2, 3, 1, 2, 3, 4, 1, 2, 3])\n",
    "x = np.array([[1, 2, 3, 1, 2, 3, 0, 1, 2, 3]])\n",
    "xvals = get_xvals(x)"
   ]
  },
  {
   "cell_type": "code",
   "execution_count": null,
   "metadata": {},
   "outputs": [],
   "source": [
    "#x = x[2:3]\n",
    "xvals = xvals[2:3]"
   ]
  },
  {
   "cell_type": "code",
   "execution_count": null,
   "metadata": {},
   "outputs": [],
   "source": [
    "x, xvals = expand(X, x, xvals)\n",
    "print(x.shape)\n",
    "print(X)\n",
    "print(x)"
   ]
  },
  {
   "cell_type": "code",
   "execution_count": null,
   "metadata": {},
   "outputs": [],
   "source": [
    "n = 4\n",
    "m = n*n + 1\n",
    "x = basic_solved_state(1, n)\n",
    "x = shuffle_along_axis(x, 1)"
   ]
  },
  {
   "cell_type": "code",
   "execution_count": null,
   "metadata": {},
   "outputs": [],
   "source": [
    "expanded = Expanded()"
   ]
  },
  {
   "cell_type": "code",
   "execution_count": 17,
   "metadata": {},
   "outputs": [
    {
     "name": "stdout",
     "output_type": "stream",
     "text": [
      "Initial state:\n",
      "Large Disks: [4 2 2 2 4 1 1 3 2 1]\n",
      "Small Disks: [[2 2 2 1 1 0 3 1 3 3]]\n",
      "Turn: 0, expanded: 0, fringe: 0, time elapsed: 0.0\n",
      "Best g(x) + h(x) = 0 + 1.0\n",
      "Turn: 1000, expanded: 757, fringe: 995, time elapsed: 0.19093751907348633\n",
      "Best g(x) + h(x) = 8 + 1.0\n",
      "Turn: 2000, expanded: 1430, fringe: 1741, time elapsed: 0.3458881378173828\n",
      "Best g(x) + h(x) = 9 + 1.0\n",
      "Turn: 3000, expanded: 2084, fringe: 2466, time elapsed: 0.5178334712982178\n",
      "Best g(x) + h(x) = 10 + 1.0\n",
      "Turn: 4000, expanded: 2648, fringe: 2915, time elapsed: 0.6567893028259277\n",
      "Best g(x) + h(x) = 10 + 1.0\n",
      "Turn: 5000, expanded: 3202, fringe: 3350, time elapsed: 0.8157382011413574\n",
      "Best g(x) + h(x) = 11 + 1.0\n",
      "Turn: 6000, expanded: 3772, fringe: 3862, time elapsed: 0.9896831512451172\n",
      "Best g(x) + h(x) = 11 + 1.0\n",
      "Turn: 7000, expanded: 4291, fringe: 4236, time elapsed: 1.1242437362670898\n",
      "Best g(x) + h(x) = 11 + 1.0\n",
      "Turn: 8000, expanded: 4780, fringe: 4528, time elapsed: 1.2602102756500244\n",
      "Best g(x) + h(x) = 12 + 1.0\n",
      "Turn: 9000, expanded: 5318, fringe: 4951, time elapsed: 1.3971567153930664\n",
      "Best g(x) + h(x) = 12 + 1.0\n",
      "Turn: 10000, expanded: 5792, fringe: 5188, time elapsed: 1.5141193866729736\n",
      "Best g(x) + h(x) = 12 + 1.0\n",
      "Turn: 11000, expanded: 6247, fringe: 5397, time elapsed: 1.6320817470550537\n",
      "Best g(x) + h(x) = 12 + 1.0\n",
      "Turn: 12000, expanded: 6742, fringe: 5664, time elapsed: 1.7770359516143799\n",
      "Best g(x) + h(x) = 12 + 1.0\n",
      "Turn: 13000, expanded: 7174, fringe: 5824, time elapsed: 1.914992332458496\n",
      "Best g(x) + h(x) = 13 + 1.0\n",
      "Turn: 14000, expanded: 7642, fringe: 6027, time elapsed: 2.038952589035034\n",
      "Best g(x) + h(x) = 13 + 1.0\n",
      "Turn: 15000, expanded: 8079, fringe: 6183, time elapsed: 2.1549155712127686\n",
      "Best g(x) + h(x) = 13 + 1.0\n",
      "Turn: 16000, expanded: 8449, fringe: 6141, time elapsed: 2.2548837661743164\n",
      "Best g(x) + h(x) = 13 + 1.0\n",
      "Turn: 17000, expanded: 8879, fringe: 6250, time elapsed: 2.3668482303619385\n",
      "Best g(x) + h(x) = 13 + 1.0\n",
      "Done.\n",
      "Solution length: 14\n"
     ]
    }
   ],
   "source": [
    "n = 3\n",
    "x = basic_solved_state(N=1, n=n)\n",
    "x = shuffle_along_axis(x, 1)\n",
    "X = random_large_discs(n)\n",
    "\n",
    "#n = 3\n",
    "#x = np.array([[1, 1, 1, 3, 2, 2, 3, 3, 0, 2]], dtype=np.int8)\n",
    "#X = np.array( [1, 2, 3, 4, 1, 2, 3, 1, 2, 3])\n",
    "\n",
    "m = (n**2)\n",
    "heuristic1 = SolvedHeuristic(n)\n",
    "heuristic2 = PairwiseDistanceHeuristic(n, scale=1 / (n*n))\n",
    "#heuristic = AdjacentDistanceHeuristic(n, 1)\n",
    "\n",
    "\n",
    "print(\"Initial state:\")\n",
    "print(\"Large Disks:\", X)\n",
    "print(\"Small Disks:\", x)\n",
    "\n",
    "path = search(X, x, heuristic1, search_width=1, log_interval=1000, cost_scale=1)\n",
    "\n",
    "#path = search(X, x, heuristic2, search_width=1, log_interval=1000, cost_scale=0)\n",
    "\n",
    "#path = search(X, x, heuristic2, search_width=1, log_interval=1000, cost_scale=1)\n",
    "#path = heuristic_search(X, x, heuristic, search_width=128, log_interval=5000)"
   ]
  },
  {
   "cell_type": "code",
   "execution_count": 18,
   "metadata": {},
   "outputs": [
    {
     "name": "stdout",
     "output_type": "stream",
     "text": [
      "[[2 2 2 1 1 0 3 1 3 3]\n",
      " [2 2 2 1 1 3 0 1 3 3]\n",
      " [2 2 2 1 1 3 1 0 3 3]\n",
      " [2 2 2 1 1 3 1 3 0 3]\n",
      " [2 2 2 1 1 3 1 3 3 0]\n",
      " [0 2 2 1 1 3 1 3 3 2]\n",
      " [1 2 2 1 0 3 1 3 3 2]\n",
      " [1 2 2 0 1 3 1 3 3 2]\n",
      " [1 0 2 2 1 3 1 3 3 2]\n",
      " [1 2 2 2 1 3 1 3 3 0]\n",
      " [0 2 2 2 1 3 1 3 3 1]\n",
      " [1 2 2 2 0 3 1 3 3 1]\n",
      " [1 2 2 2 3 3 1 3 0 1]\n",
      " [1 2 2 2 3 3 0 3 1 1]\n",
      " [1 2 2 2 3 3 3 0 1 1]]\n"
     ]
    }
   ],
   "source": [
    "print(path)"
   ]
  },
  {
   "cell_type": "code",
   "execution_count": null,
   "metadata": {},
   "outputs": [],
   "source": [
    "from ipywidgets import interact\n",
    "\n",
    "ring_plot = RingPlot(n, cmap=\"rainbow\")\n",
    "\n",
    "@interact(i=(0, path.shape[0]-1))\n",
    "def show_path(i):\n",
    "    ring_plot.show(path[i])"
   ]
  },
  {
   "cell_type": "code",
   "execution_count": null,
   "metadata": {},
   "outputs": [],
   "source": [
    "name = \"n25v1.npy\"\n",
    "out = np.array([X, path], dtype=np.object)\n",
    "#np.save(f\"solutions/{name}\", out)"
   ]
  },
  {
   "cell_type": "code",
   "execution_count": null,
   "metadata": {},
   "outputs": [],
   "source": [
    "name = \"n15v1.npy\"\n",
    "load = np.load(f\"solutions/{name}\", allow_pickle=True)\n",
    "X = load[0]\n",
    "path = load[1]\n",
    "n = int(np.sqrt(path.shape[1] - 1))"
   ]
  },
  {
   "cell_type": "code",
   "execution_count": null,
   "metadata": {},
   "outputs": [],
   "source": [
    "# Test the Expanded class\n",
    "\n",
    "from itertools import permutations\n",
    "\n",
    "x = list(basic_solved_state(1, 3)[0])\n",
    "\n",
    "normal_set = set()\n",
    "expanded = Expanded()\n",
    "\n",
    "iterations = 0\n",
    "TP = 0\n",
    "FP = 0\n",
    "TN = 0\n",
    "FN = 0\n",
    "\n",
    "for p in permutations(x):\n",
    "    iterations += 1\n",
    "    \n",
    "    x = np.array(p)[np.newaxis]\n",
    "    \n",
    "    if p in normal_set: \n",
    "        if expanded.contains(x)[0]:\n",
    "            TN += 1\n",
    "        else:\n",
    "            FN += 1\n",
    "    else:\n",
    "        if not expanded.contains(x)[0]:\n",
    "            TP += 1\n",
    "        else:\n",
    "            print(p)\n",
    "            FP += 1\n",
    "            \n",
    "    normal_set.add(p)\n",
    "    expanded.add(x)\n",
    "    \n",
    "    if iterations % 50000 == 0:\n",
    "        print(f\"iter={iterations} TN={TN}, FN={FN}, TP={TP}, FP={FP}\")\n",
    "        \n",
    "    if iterations == 1000000:\n",
    "        break\n"
   ]
  },
  {
   "cell_type": "code",
   "execution_count": null,
   "metadata": {},
   "outputs": [],
   "source": [
    "import torch\n",
    "import time\n",
    "import numpy as np\n",
    "\n",
    "x = torch.randperm(10000000)\n",
    "\n",
    "t = time.time()\n",
    "torch.sort(x)\n",
    "cpu_time = time.time() - t\n",
    "\n",
    "print(\"cpu time\", cpu_time)\n",
    "\n",
    "x = x.cuda()\n",
    "\n",
    "t = time.time()\n",
    "torch.sort(x)\n",
    "gpu_time = time.time() - t\n",
    "print(\"gpu time\", gpu_time)\n",
    "\n",
    "print(f\"gpu is {round(cpu_time / gpu_time, 1)} times faster than cpu\")"
   ]
  }
 ],
 "metadata": {
  "kernelspec": {
   "display_name": "Python 3",
   "language": "python",
   "name": "python3"
  },
  "language_info": {
   "codemirror_mode": {
    "name": "ipython",
    "version": 3
   },
   "file_extension": ".py",
   "mimetype": "text/x-python",
   "name": "python",
   "nbconvert_exporter": "python",
   "pygments_lexer": "ipython3",
   "version": "3.7.6"
  }
 },
 "nbformat": 4,
 "nbformat_minor": 4
}

{
 "cells": [
  {
   "cell_type": "code",
   "execution_count": 1,
   "metadata": {},
   "outputs": [],
   "source": [
    "import numpy as np\n",
    "from air_berlin import *\n",
    "\n",
    "%load_ext autoreload\n",
    "%autoreload 2"
   ]
  },
  {
   "cell_type": "code",
   "execution_count": null,
   "metadata": {},
   "outputs": [],
   "source": []
  },
  {
   "cell_type": "code",
   "execution_count": 3,
   "metadata": {},
   "outputs": [
    {
     "name": "stdout",
     "output_type": "stream",
     "text": [
      "[2 4 4 2 2 1 2 2 3 1 1 2 3 3 2 1 2 1 1 2 4 2 4 2 3 1]\n",
      "[[5 4 3 3 1 4 1 2 2 4 0 5 3 5 4 4 5 2 3 1 1 2 5 3 1 2]]\n"
     ]
    }
   ],
   "source": [
    "n = 5\n",
    "x = basic_solved_state(1, n)\n",
    "x = shuffle_along_axis(x, 1)\n",
    "xvals = get_xvals(x)\n",
    "X = random_large_discs(n)\n",
    "A = adjacency_matrix(X)\n",
    "P = shortest_path(A)\n",
    "print(X)\n",
    "print(x)"
   ]
  },
  {
   "cell_type": "code",
   "execution_count": 10,
   "metadata": {},
   "outputs": [
    {
     "name": "stdout",
     "output_type": "stream",
     "text": [
      "[[5 4 3 ... 3 1 2]\n",
      " [5 4 3 ... 3 1 2]\n",
      " [5 4 3 ... 3 1 2]\n",
      " ...\n",
      " [5 4 3 ... 3 1 2]\n",
      " [5 4 3 ... 3 1 2]\n",
      " [5 4 3 ... 3 1 2]]\n"
     ]
    }
   ],
   "source": [
    "x, xvals = expand(X, x, xvals)\n",
    "print(x)"
   ]
  },
  {
   "cell_type": "code",
   "execution_count": 15,
   "metadata": {},
   "outputs": [
    {
     "name": "stdout",
     "output_type": "stream",
     "text": [
      "(56, 26)\n",
      "(56, 25) (56, 25)\n",
      "(56, 25, 1) (56, 1, 25) (56, 25, 1) (56, 1, 25)\n"
     ]
    },
    {
     "data": {
      "text/plain": [
       "array([ 966,  976,  991,  970,  976,  979,  986,  982,  967,  959,  974,\n",
       "        980,  976,  979,  986,  982,  979,  987,  977,  986,  976,  990,\n",
       "        986,  986,  981,  992,  991, 1000, 1005,  997,  979,  979,  983,\n",
       "        982,  982,  992,  996,  995,  976,  979,  986,  982,  979,  987,\n",
       "        979,  987,  987, 1000,  979, 1002,  996,  997, 1000, 1000,  981,\n",
       "        978])"
      ]
     },
     "execution_count": 15,
     "metadata": {},
     "output_type": "execute_result"
    }
   ],
   "source": [
    "h = AirBerlinDistanceHeuristic(n, X, 1)\n",
    "h(X, x, xvals)"
   ]
  },
  {
   "cell_type": "code",
   "execution_count": null,
   "metadata": {},
   "outputs": [],
   "source": [
    "a = np.arange(4*4).reshape(4, 4)\n",
    "print(a)\n",
    "a[np.arange(2).reshape(2, 1), np.arange(2).reshape(1, 2)]"
   ]
  },
  {
   "cell_type": "code",
   "execution_count": null,
   "metadata": {},
   "outputs": [],
   "source": [
    "i = np.arange(4)\n",
    "j = np.stack((i, (i + 2) % 4), axis=1)\n",
    "print(j.flatten())\n",
    "print(i.repeat(2))\n",
    "A = np.arange(4*4).reshape(4, 4)\n",
    "print(A)\n",
    "A[i.repeat(2), j.flatten()]"
   ]
  },
  {
   "cell_type": "code",
   "execution_count": null,
   "metadata": {},
   "outputs": [],
   "source": [
    "x = np.ones((4, 4, 4, 4))\n",
    "y = np.zeros((7, 7))\n",
    "x = x[:, np.newaxis, :, :, np.newaxis]\n",
    "y = y[np.newaxis, :, np.newaxis, np.newaxis, :, np.newaxis]\n",
    "\n",
    "print(x.shape, y.shape)\n",
    "print((x * y).shape)"
   ]
  },
  {
   "cell_type": "code",
   "execution_count": null,
   "metadata": {},
   "outputs": [],
   "source": [
    "(2, 3)[:-2]"
   ]
  },
  {
   "cell_type": "code",
   "execution_count": null,
   "metadata": {},
   "outputs": [],
   "source": [
    "\n",
    "\n",
    "print(\"\", X)\n",
    "A = adjacency_matrix(X)\n",
    "P = shortest_path(A)\n",
    "print(A)\n",
    "print(P)"
   ]
  },
  {
   "cell_type": "code",
   "execution_count": null,
   "metadata": {},
   "outputs": [],
   "source": [
    "x = [[1, 1, 1, 2, 3, 0, 2, 2, 3, 3]]\n",
    "d = x - np.roll(x, 1)\n",
    "print(d < 0)"
   ]
  },
  {
   "cell_type": "code",
   "execution_count": null,
   "metadata": {},
   "outputs": [],
   "source": [
    "D = mod_difference_matrix(5)\n",
    "print(D)"
   ]
  },
  {
   "cell_type": "code",
   "execution_count": null,
   "metadata": {},
   "outputs": [],
   "source": [
    "X = np.array([1, 2, 3, 1, 2, 3, 4, 1, 2, 3])\n",
    "x = np.array([[1, 2, 3, 1, 2, 3, 0, 1, 2, 3]])\n",
    "xvals = get_xvals(x)"
   ]
  },
  {
   "cell_type": "code",
   "execution_count": null,
   "metadata": {},
   "outputs": [],
   "source": [
    "#x = x[2:3]\n",
    "xvals = xvals[2:3]"
   ]
  },
  {
   "cell_type": "code",
   "execution_count": null,
   "metadata": {},
   "outputs": [],
   "source": [
    "x, xvals = expand(X, x, xvals)\n",
    "print(x.shape)\n",
    "print(X)\n",
    "print(x)"
   ]
  },
  {
   "cell_type": "code",
   "execution_count": null,
   "metadata": {},
   "outputs": [],
   "source": [
    "n = 4\n",
    "m = n*n + 1\n",
    "x = basic_solved_state(1, n)\n",
    "x = shuffle_along_axis(x, 1)"
   ]
  },
  {
   "cell_type": "code",
   "execution_count": null,
   "metadata": {},
   "outputs": [],
   "source": [
    "expanded = Expanded()"
   ]
  },
  {
   "cell_type": "code",
   "execution_count": 339,
   "metadata": {},
   "outputs": [
    {
     "name": "stdout",
     "output_type": "stream",
     "text": [
      "Initial state:\n",
      "Large Disks: [4 2 4 1 3 1 1 1 4 1 4 4 3 1 3 1 1 2 4 2 2 2 4 2 2 3 2 1 2 1 2 4 2 1 3 1 2\n",
      " 2 4 1 3 3 2 2 4 4 1 4 2 4 3 3 2 4 3 1 2 1 4 1 1 1 4 2 2 1 3 1 1 1 3 1 3 2\n",
      " 1 3 3 4 2 4 3 3]\n",
      "Small Disks: [[5 3 9 7 1 6 4 5 6 5 7 5 4 2 1 2 5 1 6 1 3 3 9 7 4 1 9 8 3 3 9 8 9 9 2 4\n",
      "  8 9 0 6 1 4 8 3 5 9 3 1 8 9 2 7 6 5 4 6 1 5 2 5 3 3 7 8 1 6 7 7 7 2 8 4\n",
      "  6 2 4 8 2 6 4 7 2 8]]\n",
      "\n",
      "\n",
      "Turn: 0, expanded: 0, fringe: 0, time elapsed: 0.0\n",
      "Best g(x) + h(x) = 0 + 1052.719970703125\n",
      "Turn: 100, expanded: 4322, fringe: 0, time elapsed: 3.6298508644104004\n",
      "Best g(x) + h(x) = 100 + 1016.0999755859375\n",
      "Turn: 200, expanded: 6921, fringe: 0, time elapsed: 6.846813440322876\n",
      "Best g(x) + h(x) = 200 + 983.8499755859375\n",
      "Turn: 300, expanded: 8817, fringe: 0, time elapsed: 9.60412335395813\n",
      "Best g(x) + h(x) = 300 + 944.3499755859375\n",
      "Turn: 400, expanded: 13123, fringe: 0, time elapsed: 13.010035514831543\n",
      "Best g(x) + h(x) = 400 + 831.9299926757812\n",
      "Turn: 500, expanded: 15314, fringe: 0, time elapsed: 16.15003275871277\n",
      "Best g(x) + h(x) = 500 + 753.1099853515625\n",
      "Turn: 600, expanded: 18118, fringe: 0, time elapsed: 19.0051212310791\n",
      "Best g(x) + h(x) = 600 + 682.0999755859375\n",
      "Turn: 700, expanded: 20614, fringe: 0, time elapsed: 21.884201288223267\n",
      "Best g(x) + h(x) = 700 + 617.1400146484375\n",
      "Turn: 800, expanded: 22905, fringe: 0, time elapsed: 24.726293802261353\n",
      "Best g(x) + h(x) = 800 + 536.9400024414062\n",
      "Turn: 900, expanded: 25683, fringe: 0, time elapsed: 27.188775062561035\n",
      "Best g(x) + h(x) = 900 + 468.1499938964844\n",
      "Turn: 1000, expanded: 26921, fringe: 0, time elapsed: 29.167064428329468\n",
      "Best g(x) + h(x) = 1000 + 434.6199951171875\n",
      "Turn: 1100, expanded: 28410, fringe: 0, time elapsed: 31.27039337158203\n",
      "Best g(x) + h(x) = 1100 + 387.75\n",
      "Turn: 1200, expanded: 29900, fringe: 0, time elapsed: 33.291747093200684\n",
      "Best g(x) + h(x) = 1200 + 330.739990234375\n",
      "Turn: 1300, expanded: 30933, fringe: 0, time elapsed: 35.354088306427\n",
      "Best g(x) + h(x) = 1300 + 276.94000244140625\n",
      "Turn: 1400, expanded: 32483, fringe: 0, time elapsed: 37.48840689659119\n",
      "Best g(x) + h(x) = 1400 + 220.3699951171875\n",
      "Turn: 1500, expanded: 34097, fringe: 0, time elapsed: 39.54175138473511\n",
      "Best g(x) + h(x) = 1500 + 169.5800018310547\n",
      "Turn: 1600, expanded: 35375, fringe: 0, time elapsed: 41.54811072349548\n",
      "Best g(x) + h(x) = 1600 + 108.88999938964844\n",
      "Turn: 1700, expanded: 36392, fringe: 0, time elapsed: 43.73741149902344\n",
      "Best g(x) + h(x) = 1700 + 56.150001525878906\n",
      "Turn: 1800, expanded: 37248, fringe: 0, time elapsed: 45.41687512397766\n",
      "Best g(x) + h(x) = 1800 + 32.66999816894531\n",
      "Turn: 1900, expanded: 38067, fringe: 0, time elapsed: 47.079344272613525\n",
      "Best g(x) + h(x) = 1900 + 13.800000190734863\n",
      "Turn: 2000, expanded: 38915, fringe: 0, time elapsed: 48.83678340911865\n",
      "Best g(x) + h(x) = 2000 + 4.119999885559082\n",
      "Turn: 2100, expanded: 39538, fringe: 0, time elapsed: 50.39128661155701\n",
      "Best g(x) + h(x) = 2100 + 0.0\n",
      "Done.\n",
      "Solution length: 2100\n"
     ]
    }
   ],
   "source": [
    "n = 9\n",
    "x = basic_solved_state(N=1, n=n)\n",
    "x = shuffle_along_axis(x, 1)\n",
    "X = random_large_discs(n)\n",
    "\n",
    "#n = 3\n",
    "#x = np.array([[1, 1, 1, 3, 2, 2, 3, 3, 0, 2]], dtype=np.int8)\n",
    "#X = np.array( [1, 2, 3, 4, 1, 2, 3, 1, 2, 3])\n",
    "\n",
    "m = (n**2)\n",
    "\n",
    "#heuristic1 = SolvedHeuristic(n)\n",
    "#heuristic1 = AirBerlinDistanceHeuristic(n, X, scale=2 / (n*n))\n",
    "#heuristic = BreadthHeuristic(n, depth=3, h_breadth=HammingHeuristic(n))\n",
    "heuristic1 = PairwiseDistanceHeuristic(n, scale=1 / (n*n))\n",
    "#heuristic = BreadthHeuristic(n, depth=4, h_breadth=PairwiseDistanceHeuristic(n, scale=1 / (n*n)))\n",
    "#heuristic = AdjacentDistanceHeuristic(n, 1)\n",
    "\n",
    "print(\"Initial state:\")\n",
    "print(\"Large Disks:\", X)\n",
    "print(\"Small Disks:\", x)\n",
    "\n",
    "#path = ida_star2(X, x, heuristic)\n",
    "\n",
    "#path = search(X, x, heuristic1, Fringe(), Expanded(), search_width=1, log_interval=1000, cost_scale=1)\n",
    "print()\n",
    "#path = search(X, x, heuristic2, Fringe(), Expanded(), search_width=1, log_interval=10000, cost_scale=1)\n",
    "print()\n",
    "path = search(X, x, heuristic1, BeamFringe(), Expanded(), search_width=64, log_interval=100, cost_scale=1)\n",
    "\n",
    "#path = search(X, x, heuristic2, search_width=1, log_interval=1000, cost_scale=0)\n",
    "\n",
    "#path = search(X, x, heuristic2, search_width=1, log_interval=1000, cost_scale=1)\n",
    "#path = heuristic_search(X, x, heuristic, search_width=128, log_interval=5000)"
   ]
  },
  {
   "cell_type": "code",
   "execution_count": null,
   "metadata": {},
   "outputs": [],
   "source": [
    "np.linspace(0, 1, 2)[:-1]"
   ]
  },
  {
   "cell_type": "code",
   "execution_count": 336,
   "metadata": {},
   "outputs": [
    {
     "data": {
      "application/vnd.jupyter.widget-view+json": {
       "model_id": "531c3b6840e1490a8f385aac8f163f17",
       "version_major": 2,
       "version_minor": 0
      },
      "text/plain": [
       "interactive(children=(IntSlider(value=915, description='i', max=1830), FloatSlider(value=0.5, description='t',…"
      ]
     },
     "metadata": {},
     "output_type": "display_data"
    }
   ],
   "source": [
    "from ipywidgets import interact\n",
    "\n",
    "ring_plot = RingPlot(n, cmap=\"gist_rainbow\")\n",
    "\n",
    "actions = get_actions(path)\n",
    "hvals = heuristic1(X, path, get_xvals(path))\n",
    "\n",
    "@interact(i=(0, path.shape[0]-1), t=(0.0, 1.0, 0.01))\n",
    "def show_path(i, t):\n",
    "    action = actions[i] if i != (path.shape[0]-1) else 0\n",
    "    fig, ax = ring_plot.get_fig(X, path[i], action, hvals[i], i, t)\n",
    "    plt.show()"
   ]
  },
  {
   "cell_type": "code",
   "execution_count": null,
   "metadata": {},
   "outputs": [],
   "source": [
    "plt.close(\"all\")\n",
    "import gc\n",
    "gc.collect()"
   ]
  },
  {
   "cell_type": "code",
   "execution_count": null,
   "metadata": {},
   "outputs": [],
   "source": [
    "ring_plot = RingPlot(n, cmap=\"gist_rainbow\")\n",
    "hvals = heuristic(X, path, get_xvals(path))\n",
    "ring_plot.save_frames(X, path, hvals, 5, \"solutions/video/n9v2/\", start_from=1100)"
   ]
  },
  {
   "cell_type": "code",
   "execution_count": null,
   "metadata": {},
   "outputs": [],
   "source": [
    "import subprocess\n",
    "\n",
    "name = \"n9v1\"\n",
    "frames_path = f\"/solutions/video/{name}/\"\n",
    "#os.chdir(os.getcwd())\n",
    "#os.chdir(frames_path)\n",
    "subprocess.call([\n",
    "    'ffmpeg', '-framerate', '60', '-i', 'frame%02d.png', '-r', '60', '-pix_fmt', 'yuv720p',\n",
    "    f'{name}.mp4'\n",
    "])"
   ]
  },
  {
   "cell_type": "code",
   "execution_count": null,
   "metadata": {},
   "outputs": [],
   "source": [
    "name = \"n9v2.npy\"\n",
    "out = np.array([X, path], dtype=np.object)\n",
    "np.save(f\"solutions/{name}\", out)"
   ]
  },
  {
   "cell_type": "code",
   "execution_count": null,
   "metadata": {},
   "outputs": [],
   "source": [
    "name = \"n9v2.npy\"\n",
    "load = np.load(f\"solutions/{name}\", allow_pickle=True)\n",
    "X = load[0]\n",
    "path = load[1]\n",
    "n = int(np.sqrt(path.shape[1] - 1))"
   ]
  },
  {
   "cell_type": "code",
   "execution_count": null,
   "metadata": {},
   "outputs": [],
   "source": [
    "# Test the Expanded class\n",
    "\n",
    "from itertools import permutations\n",
    "\n",
    "x = list(basic_solved_state(1, 3)[0])\n",
    "\n",
    "normal_set = set()\n",
    "expanded = Expanded()\n",
    "\n",
    "iterations = 0\n",
    "TP = 0\n",
    "FP = 0\n",
    "TN = 0\n",
    "FN = 0\n",
    "2\n",
    "for p in permutations(x):\n",
    "    iterations += 1\n",
    "    \n",
    "    x = np.array(p)[np.newaxis]\n",
    "    \n",
    "    if p in normal_set: \n",
    "        if expanded.contains(x)[0]:\n",
    "            TN += 1\n",
    "        else:\n",
    "            FN += 1\n",
    "    else:\n",
    "        if not expanded.contains(x)[0]:\n",
    "            TP += 1\n",
    "        else:\n",
    "            print(p)\n",
    "            FP += 1\n",
    "            \n",
    "    normal_set.add(p)\n",
    "    expanded.add(x)\n",
    "    \n",
    "    if iterations % 50000 == 0:\n",
    "        print(f\"iter={iterations} TN={TN}, FN={FN}, TP={TP}, FP={FP}\")\n",
    "        \n",
    "    if iterations == 1000000:\n",
    "        break\n"
   ]
  },
  {
   "cell_type": "code",
   "execution_count": null,
   "metadata": {},
   "outputs": [],
   "source": [
    "import torch\n",
    "import time\n",
    "import numpy as np\n",
    "\n",
    "x = torch.randperm(10000000)\n",
    "\n",
    "t = time.time()\n",
    "torch.sort(x)\n",
    "cpu_time = time.time() - t\n",
    "\n",
    "print(\"cpu time\", cpu_time)\n",
    "\n",
    "x = x.cuda()\n",
    "\n",
    "t = time.time()\n",
    "torch.sort(x)\n",
    "gpu_time = time.time() - t\n",
    "print(\"gpu time\", gpu_time)\n",
    "\n",
    "print(f\"gpu is {round(cpu_time / gpu_time, 1)} times faster than cpu\")"
   ]
  },
  {
   "cell_type": "code",
   "execution_count": null,
   "metadata": {},
   "outputs": [],
   "source": [
    "import torch\n",
    "\n",
    "for row in list(torch.arange(4*4).reshape(4, 4)):\n",
    "    row.byte()"
   ]
  },
  {
   "cell_type": "code",
   "execution_count": 139,
   "metadata": {},
   "outputs": [
    {
     "name": "stdout",
     "output_type": "stream",
     "text": [
      "Heuristic is not admissible for state:\n",
      "[2 3 1 1 1 2 2 0 3 3]\n",
      "True cost to solution: 2 h(x): 2.444444444444444\n",
      "\n",
      "Heuristic is not consistent for action:\n",
      "[[2 0 3 2 1 2 1 3 1 3]\n",
      " [2 2 3 0 1 2 1 3 1 3]]\n",
      "The heuristic increased from 5.666666666666666 to 5.777777777777778\n",
      "\n",
      "Heuristic is not consistent for action:\n",
      "[[2 2 3 0 1 2 1 3 1 3]\n",
      " [2 2 0 3 1 2 1 3 1 3]]\n",
      "The heuristic increased from 5.777777777777778 to 6.222222222222221\n",
      "\n",
      "Heuristic is not consistent for action:\n",
      "[[2 2 0 3 1 2 1 3 1 3]\n",
      " [2 2 1 3 1 2 1 3 0 3]]\n",
      "The heuristic increased from 6.222222222222221 to 6.333333333333333\n",
      "\n",
      "Heuristic is not consistent for action:\n",
      "[[1 1 1 2 2 2 0 3 3 3]\n",
      " [1 1 1 2 2 2 3 3 0 3]]\n",
      "The heuristic increased from 0.4444444444444444 to 0.6666666666666666\n",
      "\n",
      "Heuristic is not admissible for state:\n",
      "[3 1 1 1 2 0 2 3 3 2]\n",
      "True cost to solution: 2 h(x): 2.333333333333333\n",
      "\n",
      "Heuristic is not consistent for action:\n",
      "[[2 3 3 0 1 1 3 1 2 2]\n",
      " [2 3 0 3 1 1 3 1 2 2]]\n",
      "The heuristic increased from 2.2222222222222223 to 2.444444444444444\n",
      "\n",
      "Heuristic is not admissible for state:\n",
      "[2 3 1 3 2 1 1 0 3 2]\n",
      "True cost to solution: 4 h(x): 4.555555555555555\n",
      "\n",
      "Heuristic is not admissible for state:\n",
      "[2 3 1 3 2 1 0 1 3 2]\n",
      "True cost to solution: 3 h(x): 4.555555555555555\n",
      "\n",
      "Heuristic is not admissible for state:\n",
      "[2 3 0 3 2 1 1 1 3 2]\n",
      "True cost to solution: 2 h(x): 3.5555555555555554\n",
      "\n",
      "Heuristic is not admissible for state:\n",
      "[2 3 3 3 2 1 1 1 0 2]\n",
      "True cost to solution: 1 h(x): 2.111111111111111\n",
      "\n",
      "Heuristic is not consistent for action:\n",
      "[[2 3 0 3 2 1 1 3 1 2]\n",
      " [2 3 1 3 2 1 1 3 0 2]]\n",
      "The heuristic increased from 4.222222222222222 to 4.777777777777778\n",
      "\n"
     ]
    }
   ],
   "source": [
    "#test_heuristic(\"PairwiseDistanceHeuristic(n, scale=1 / (4*n*n))\")\n",
    "#test_heuristic(\"AdjacentDistanceHeuristic(n, scale=1)\")\n",
    "#test_heuristic(\"HammingHeuristic(n)\")\n",
    "#test_heuristic(\"BreadthHeuristic(n, depth=7, h_breadth=HammingHeuristic(n))\")\n",
    "#test_heuristic(\"BreadthHeuristic(n, depth=4, h_breadth=PairwiseDistanceHeuristic(n, scale=1 / (n*n)))\")\n",
    "#test_heuristic(\"BreadthHeuristic(n, depth=3, h_breadth=AdjacentDistanceHeuristic(n, scale=1))\")\n",
    "\n",
    "test_heuristic(\"AirBerlinDistanceHeuristic(n, X, scale=1 / (n*n))\")\n",
    "#test_heuristic(\"BreadthHeuristic(n, depth=7, h_breadth=AirBerlinDistanceHeuristic(n, X, scale=1 / (n*n)))\")"
   ]
  },
  {
   "cell_type": "code",
   "execution_count": null,
   "metadata": {},
   "outputs": [],
   "source": [
    "path = \"G:/Github Repositories/Ring-Sorting-AI/solutions/video/n9v1/\"\n",
    "files = os.listdir(path)\n",
    "\n",
    "for file in files:\n",
    "    num = int(file[5:-4])\n",
    "    new_name = f\"frame{num:06}.png\"\n",
    "    os.rename(path + file, path + new_name)\n"
   ]
  }
 ],
 "metadata": {
  "kernelspec": {
   "display_name": "Python 3",
   "language": "python",
   "name": "python3"
  },
  "language_info": {
   "codemirror_mode": {
    "name": "ipython",
    "version": 3
   },
   "file_extension": ".py",
   "mimetype": "text/x-python",
   "name": "python",
   "nbconvert_exporter": "python",
   "pygments_lexer": "ipython3",
   "version": "3.7.6"
  }
 },
 "nbformat": 4,
 "nbformat_minor": 4
}

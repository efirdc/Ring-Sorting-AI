{
 "cells": [
  {
   "cell_type": "code",
   "execution_count": 154,
   "metadata": {},
   "outputs": [
    {
     "name": "stdout",
     "output_type": "stream",
     "text": [
      "The autoreload extension is already loaded. To reload it, use:\n",
      "  %reload_ext autoreload\n"
     ]
    }
   ],
   "source": [
    "import numpy as np\n",
    "from air_berlin import *\n",
    "from visualizations import *\n",
    "\n",
    "%load_ext autoreload\n",
    "%autoreload 2"
   ]
  },
  {
   "cell_type": "code",
   "execution_count": 5,
   "metadata": {},
   "outputs": [
    {
     "name": "stdout",
     "output_type": "stream",
     "text": [
      "[3 1 2 1 2 2 2 4 2 4]\n",
      "[[0 1 1 1 2 2 2 3 3 3]]\n"
     ]
    }
   ],
   "source": [
    "n = 3\n",
    "x = basic_solved_state(1, n)\n",
    "#x = shuffle_along_axis(x, 1)\n",
    "X = random_large_discs(n)\n",
    "print(X)\n",
    "print(x)"
   ]
  },
  {
   "cell_type": "code",
   "execution_count": 179,
   "metadata": {},
   "outputs": [
    {
     "name": "stdout",
     "output_type": "stream",
     "text": [
      "(1, 17)\n"
     ]
    }
   ],
   "source": [
    "n = 4\n",
    "m = n*n + 1\n",
    "x = basic_solved_state(1, n)\n",
    "x = shuffle_along_axis(x, 1)\n",
    "#a = all_solved_states(n)\n",
    "\n",
    "#x = np.expand_dims(x, 1)\n",
    "#a = np.expand_dims(a, 0)\n",
    "#print(a.shape)\n",
    "print(x.shape)"
   ]
  },
  {
   "cell_type": "code",
   "execution_count": 174,
   "metadata": {},
   "outputs": [
    {
     "name": "stdout",
     "output_type": "stream",
     "text": [
      "[1 3 1 2 3 1 2 3 0 3 0 0 2 2 0 1]\n"
     ]
    }
   ],
   "source": [
    "# filter 0\n",
    "x = x[x != 0].reshape(n*n) - 1\n",
    "print(x)"
   ]
  },
  {
   "cell_type": "code",
   "execution_count": 182,
   "metadata": {},
   "outputs": [
    {
     "name": "stdout",
     "output_type": "stream",
     "text": [
      "[[1 2 2 4 3 4 2 2 4 0 1 1 3 3 1 4 3]]\n",
      "[[1 2 2 4 3 4 2 2 4 0 1 1 3 3 1 4 3]]\n"
     ]
    }
   ],
   "source": [
    "print(x)\n",
    "print(np.minimum(n*n + 1 - x, x))"
   ]
  },
  {
   "cell_type": "code",
   "execution_count": 176,
   "metadata": {},
   "outputs": [
    {
     "name": "stdout",
     "output_type": "stream",
     "text": [
      "[1 3 1 2 3 1 2 3 0 3 0 0 2 2 0 1]\n",
      "[[ 0  8  0  4  8  0  4  8 12  8 12 12  4  4 12  0]\n",
      " [ 8  0  8 12  0  8 12  0  4  0  4  4 12 12  4  8]\n",
      " [ 0  8  0  4  8  0  4  8 12  8 12 12  4  4 12  0]\n",
      " [12  4 12  0  4 12  0  4  8  4  8  8  0  0  8 12]\n",
      " [ 8  0  8 12  0  8 12  0  4  0  4  4 12 12  4  8]\n",
      " [ 0  8  0  4  8  0  4  8 12  8 12 12  4  4 12  0]\n",
      " [12  4 12  0  4 12  0  4  8  4  8  8  0  0  8 12]\n",
      " [ 8  0  8 12  0  8 12  0  4  0  4  4 12 12  4  8]\n",
      " [ 4 12  4  8 12  4  8 12  0 12  0  0  8  8  0  4]\n",
      " [ 8  0  8 12  0  8 12  0  4  0  4  4 12 12  4  8]\n",
      " [ 4 12  4  8 12  4  8 12  0 12  0  0  8  8  0  4]\n",
      " [ 4 12  4  8 12  4  8 12  0 12  0  0  8  8  0  4]\n",
      " [12  4 12  0  4 12  0  4  8  4  8  8  0  0  8 12]\n",
      " [12  4 12  0  4 12  0  4  8  4  8  8  0  0  8 12]\n",
      " [ 4 12  4  8 12  4  8 12  0 12  0  0  8  8  0  4]\n",
      " [ 0  8  0  4  8  0  4  8 12  8 12 12  4  4 12  0]]\n"
     ]
    }
   ],
   "source": [
    "print(x)\n",
    "cw_actual = (np.expand_dims(x, -2) - np.expand_dims(x, -1)) % n\n",
    "cw_actual *= n\n",
    "print(cw_actual)"
   ]
  },
  {
   "cell_type": "code",
   "execution_count": 177,
   "metadata": {},
   "outputs": [
    {
     "name": "stdout",
     "output_type": "stream",
     "text": [
      "[[0 7 2 1 4 5 2 1 4 1 2 1 8 7 2 1]\n",
      " [7 0 7 6 3 4 7 6 3 8 5 6 1 0 7 6]\n",
      " [2 7 0 3 6 3 0 3 6 1 4 3 6 7 0 3]\n",
      " [1 6 3 0 3 6 3 0 3 2 1 0 7 6 3 0]\n",
      " [4 3 6 3 0 7 6 3 0 5 2 3 4 3 6 3]\n",
      " [5 4 3 6 7 0 3 6 7 4 7 6 3 4 3 6]\n",
      " [2 7 0 3 6 3 0 3 6 1 4 3 6 7 0 3]\n",
      " [1 6 3 0 3 6 3 0 3 2 1 0 7 6 3 0]\n",
      " [4 3 6 3 0 7 6 3 0 5 2 3 4 3 6 3]\n",
      " [1 8 1 2 5 4 1 2 5 0 3 2 7 8 1 2]\n",
      " [2 5 4 1 2 7 4 1 2 3 0 1 6 5 4 1]\n",
      " [1 6 3 0 3 6 3 0 3 2 1 0 7 6 3 0]\n",
      " [8 1 6 7 4 3 6 7 4 7 6 7 0 1 6 7]\n",
      " [7 0 7 6 3 4 7 6 3 8 5 6 1 0 7 6]\n",
      " [2 7 0 3 6 3 0 3 6 1 4 3 6 7 0 3]\n",
      " [1 6 3 0 3 6 3 0 3 2 1 0 7 6 3 0]]\n"
     ]
    }
   ],
   "source": [
    "diff = (cw_actual - ring_matrix(n*n)) % (n*n)\n",
    "diff = np.minimum(n*n - np.abs(diff), np.abs(diff))\n",
    "print(diff)"
   ]
  },
  {
   "cell_type": "code",
   "execution_count": 87,
   "metadata": {},
   "outputs": [
    {
     "name": "stdout",
     "output_type": "stream",
     "text": [
      "[[[ 0  3  2  1  0  3  2  1  0  3  2  1  0  3  2  1  0]\n",
      "  [ 0  0 16 15 14  0 16 15 14  0 16 15 14  0 16 15 14]\n",
      "  [ 1  1  0 16 15  1  0 16 15  1  0 16 15  1  0 16 15]\n",
      "  [ 2  2  1  0 16  2  1  0 16  2  1  0 16  2  1  0 16]\n",
      "  [ 3  3  2  1  0  3  2  1  0  3  2  1  0  3  2  1  0]\n",
      "  [ 0  3  2  1  0  0 16 15 14  0 16 15 14  0 16 15 14]\n",
      "  [ 1  4  3  2  1  1  0 16 15  1  0 16 15  1  0 16 15]\n",
      "  [ 2  5  4  3  2  2  1  0 16  2  1  0 16  2  1  0 16]\n",
      "  [ 3  6  5  4  3  3  2  1  0  3  2  1  0  3  2  1  0]\n",
      "  [ 0  3  2  1  0  3  2  1  0  0 16 15 14  0 16 15 14]\n",
      "  [ 1  4  3  2  1  4  3  2  1  1  0 16 15  1  0 16 15]\n",
      "  [ 2  5  4  3  2  5  4  3  2  2  1  0 16  2  1  0 16]\n",
      "  [ 3  6  5  4  3  6  5  4  3  3  2  1  0  3  2  1  0]\n",
      "  [ 0  3  2  1  0  3  2  1  0  3  2  1  0  0 16 15 14]\n",
      "  [ 1  4  3  2  1  4  3  2  1  4  3  2  1  1  0 16 15]\n",
      "  [ 2  5  4  3  2  5  4  3  2  5  4  3  2  2  1  0 16]\n",
      "  [ 3  6  5  4  3  6  5  4  3  6  5  4  3  3  2  1  0]]]\n"
     ]
    }
   ],
   "source": [
    "new_h = (cw_actual - cw_dists) % m\n",
    "#new_h = np.abs(np.maximum(new_h - n, 0))\n",
    "print(new_h)"
   ]
  },
  {
   "cell_type": "code",
   "execution_count": 67,
   "metadata": {},
   "outputs": [
    {
     "name": "stdout",
     "output_type": "stream",
     "text": [
      "[[ 0  1  1  1  1  2  2  2 -3 -2 -2 -2 -2 -1 -1 -1]\n",
      " [-1  0  1  1  1  1  2  2  2 -3 -2 -2 -2 -2 -1 -1]\n",
      " [-1 -1  0  1  1  1  1  2  2  2 -3 -2 -2 -2 -2 -1]\n",
      " [-1 -1 -1  0  1  1  1  1  2  2  2 -3 -2 -2 -2 -2]\n",
      " [-2 -1 -1 -1  0  1  1  1  1  2  2  2 -3 -2 -2 -2]\n",
      " [-2 -2 -1 -1 -1  0  1  1  1  1  2  2  2 -3 -2 -2]\n",
      " [-2 -2 -2 -1 -1 -1  0  1  1  1  1  2  2  2 -3 -2]\n",
      " [-2 -2 -2 -2 -1 -1 -1  0  1  1  1  1  2  2  2 -3]\n",
      " [-3 -2 -2 -2 -2 -1 -1 -1  0  1  1  1  1  2  2  2]\n",
      " [ 2 -3 -2 -2 -2 -2 -1 -1 -1  0  1  1  1  1  2  2]\n",
      " [ 2  2 -3 -2 -2 -2 -2 -1 -1 -1  0  1  1  1  1  2]\n",
      " [ 2  2  2 -3 -2 -2 -2 -2 -1 -1 -1  0  1  1  1  1]\n",
      " [ 1  2  2  2 -3 -2 -2 -2 -2 -1 -1 -1  0  1  1  1]\n",
      " [ 1  1  2  2  2 -3 -2 -2 -2 -2 -1 -1 -1  0  1  1]\n",
      " [ 1  1  1  2  2  2 -3 -2 -2 -2 -2 -1 -1 -1  0  1]\n",
      " [ 1  1  1  1  2  2  2 -3 -2 -2 -2 -2 -1 -1 -1  0]]\n"
     ]
    }
   ],
   "source": [
    "cw_target = clockwise_distance_matrix(n*n) / n\n",
    "cw_target += np.sign(cw_target) - 1e-3\n",
    "cw_target = np.trunc(cw_target).astype(np.int32)\n",
    "print(cw_target)"
   ]
  },
  {
   "cell_type": "code",
   "execution_count": 69,
   "metadata": {},
   "outputs": [
    {
     "ename": "ValueError",
     "evalue": "operands could not be broadcast together with shapes (16,16) (17,17) ",
     "output_type": "error",
     "traceback": [
      "\u001b[1;31m---------------------------------------------------------------------------\u001b[0m",
      "\u001b[1;31mValueError\u001b[0m                                Traceback (most recent call last)",
      "\u001b[1;32m<ipython-input-69-81e9d8d76894>\u001b[0m in \u001b[0;36m<module>\u001b[1;34m\u001b[0m\n\u001b[1;32m----> 1\u001b[1;33m \u001b[0mclockwise_distance\u001b[0m\u001b[1;33m(\u001b[0m\u001b[0mcw_actual\u001b[0m\u001b[1;33m,\u001b[0m \u001b[0mcw_target\u001b[0m\u001b[1;33m,\u001b[0m \u001b[0mn\u001b[0m\u001b[1;33m)\u001b[0m\u001b[1;33m\u001b[0m\u001b[1;33m\u001b[0m\u001b[0m\n\u001b[0m",
      "\u001b[1;32mG:\\Github Repositories\\Ring-Sorting-AI\\air_berlin.py\u001b[0m in \u001b[0;36mclockwise_distance\u001b[1;34m(x1, x2, m)\u001b[0m\n\u001b[0;32m    119\u001b[0m \u001b[1;31m# Get the distance between x1 and x2 moving clockwise around a ring with m elements\u001b[0m\u001b[1;33m\u001b[0m\u001b[1;33m\u001b[0m\u001b[1;33m\u001b[0m\u001b[0m\n\u001b[0;32m    120\u001b[0m \u001b[1;32mdef\u001b[0m \u001b[0mclockwise_distance\u001b[0m\u001b[1;33m(\u001b[0m\u001b[0mx1\u001b[0m\u001b[1;33m,\u001b[0m \u001b[0mx2\u001b[0m\u001b[1;33m,\u001b[0m \u001b[0mm\u001b[0m\u001b[1;33m)\u001b[0m\u001b[1;33m:\u001b[0m\u001b[1;33m\u001b[0m\u001b[1;33m\u001b[0m\u001b[0m\n\u001b[1;32m--> 121\u001b[1;33m     \u001b[0mx\u001b[0m \u001b[1;33m=\u001b[0m \u001b[0mx2\u001b[0m \u001b[1;33m-\u001b[0m \u001b[0mx1\u001b[0m\u001b[1;33m\u001b[0m\u001b[1;33m\u001b[0m\u001b[0m\n\u001b[0m\u001b[0;32m    122\u001b[0m     \u001b[0mhalf_m\u001b[0m \u001b[1;33m=\u001b[0m \u001b[0mm\u001b[0m \u001b[1;33m//\u001b[0m \u001b[1;36m2\u001b[0m\u001b[1;33m\u001b[0m\u001b[1;33m\u001b[0m\u001b[0m\n\u001b[0;32m    123\u001b[0m     \u001b[0mx\u001b[0m \u001b[1;33m=\u001b[0m \u001b[1;33m(\u001b[0m\u001b[0mx\u001b[0m \u001b[1;33m+\u001b[0m \u001b[0mhalf_m\u001b[0m\u001b[1;33m)\u001b[0m \u001b[1;33m%\u001b[0m \u001b[0mm\u001b[0m \u001b[1;33m-\u001b[0m \u001b[0mhalf_m\u001b[0m\u001b[1;33m\u001b[0m\u001b[1;33m\u001b[0m\u001b[0m\n",
      "\u001b[1;31mValueError\u001b[0m: operands could not be broadcast together with shapes (16,16) (17,17) "
     ]
    }
   ],
   "source": [
    "clockwise_distance(cw_actual, cw_target, n)"
   ]
  },
  {
   "cell_type": "code",
   "execution_count": 68,
   "metadata": {},
   "outputs": [
    {
     "data": {
      "text/plain": [
       "array([[ 0,  1,  2,  3,  4,  5,  6,  7,  8, -8, -7, -6, -5, -4, -3, -2,\n",
       "        -1],\n",
       "       [-1,  0,  1,  2,  3,  4,  5,  6,  7,  8, -8, -7, -6, -5, -4, -3,\n",
       "        -2],\n",
       "       [-2, -1,  0,  1,  2,  3,  4,  5,  6,  7,  8, -8, -7, -6, -5, -4,\n",
       "        -3],\n",
       "       [-3, -2, -1,  0,  1,  2,  3,  4,  5,  6,  7,  8, -8, -7, -6, -5,\n",
       "        -4],\n",
       "       [-4, -3, -2, -1,  0,  1,  2,  3,  4,  5,  6,  7,  8, -8, -7, -6,\n",
       "        -5],\n",
       "       [-5, -4, -3, -2, -1,  0,  1,  2,  3,  4,  5,  6,  7,  8, -8, -7,\n",
       "        -6],\n",
       "       [-6, -5, -4, -3, -2, -1,  0,  1,  2,  3,  4,  5,  6,  7,  8, -8,\n",
       "        -7],\n",
       "       [-7, -6, -5, -4, -3, -2, -1,  0,  1,  2,  3,  4,  5,  6,  7,  8,\n",
       "        -8],\n",
       "       [-8, -7, -6, -5, -4, -3, -2, -1,  0,  1,  2,  3,  4,  5,  6,  7,\n",
       "         8],\n",
       "       [ 8, -8, -7, -6, -5, -4, -3, -2, -1,  0,  1,  2,  3,  4,  5,  6,\n",
       "         7],\n",
       "       [ 7,  8, -8, -7, -6, -5, -4, -3, -2, -1,  0,  1,  2,  3,  4,  5,\n",
       "         6],\n",
       "       [ 6,  7,  8, -8, -7, -6, -5, -4, -3, -2, -1,  0,  1,  2,  3,  4,\n",
       "         5],\n",
       "       [ 5,  6,  7,  8, -8, -7, -6, -5, -4, -3, -2, -1,  0,  1,  2,  3,\n",
       "         4],\n",
       "       [ 4,  5,  6,  7,  8, -8, -7, -6, -5, -4, -3, -2, -1,  0,  1,  2,\n",
       "         3],\n",
       "       [ 3,  4,  5,  6,  7,  8, -8, -7, -6, -5, -4, -3, -2, -1,  0,  1,\n",
       "         2],\n",
       "       [ 2,  3,  4,  5,  6,  7,  8, -8, -7, -6, -5, -4, -3, -2, -1,  0,\n",
       "         1],\n",
       "       [ 1,  2,  3,  4,  5,  6,  7,  8, -8, -7, -6, -5, -4, -3, -2, -1,\n",
       "         0]], dtype=int32)"
      ]
     },
     "execution_count": 68,
     "metadata": {},
     "output_type": "execute_result"
    }
   ],
   "source": [
    "clockwise_distance_matrix(n*n + 1)"
   ]
  },
  {
   "cell_type": "code",
   "execution_count": null,
   "metadata": {},
   "outputs": [],
   "source": [
    "set([1, 1, 1, 3, 3, 3, 4, 4])"
   ]
  },
  {
   "cell_type": "code",
   "execution_count": null,
   "metadata": {},
   "outputs": [],
   "source": [
    "np.trunc(signed_distance_matrix(10) / 3).astype(np.int32)"
   ]
  },
  {
   "cell_type": "code",
   "execution_count": null,
   "metadata": {},
   "outputs": [],
   "source": [
    "n = 3\n",
    "x = basic_solved_state(n)\n",
    "np.random.shuffle(x)\n",
    "\n",
    "print(x)\n",
    "\n",
    "scale = 1 / (8 * (n - 1))\n",
    "h = MaskedDistanceHeuristic(n=n, scale=scale)\n",
    "\n",
    "print(h(x))"
   ]
  },
  {
   "cell_type": "code",
   "execution_count": null,
   "metadata": {},
   "outputs": [],
   "source": [
    "expanded = Expanded()"
   ]
  },
  {
   "cell_type": "code",
   "execution_count": null,
   "metadata": {},
   "outputs": [],
   "source": [
    "# Test the Expanded class\n",
    "\n",
    "from itertools import permutations\n",
    "\n",
    "x = list(basic_solved_state(1, 3)[0])\n",
    "\n",
    "normal_set = set()\n",
    "expanded = Expanded()\n",
    "\n",
    "iterations = 0\n",
    "TP = 0\n",
    "FP = 0\n",
    "TN = 0\n",
    "FN = 0\n",
    "\n",
    "for p in permutations(x):\n",
    "    iterations += 1\n",
    "    \n",
    "    x = np.array(p)[np.newaxis]\n",
    "    \n",
    "    if p in normal_set: \n",
    "        if expanded.contains(x)[0]:\n",
    "            TN += 1\n",
    "        else:\n",
    "            FN += 1\n",
    "    else:\n",
    "        if not expanded.contains(x)[0]:\n",
    "            TP += 1\n",
    "        else:\n",
    "            print(p)\n",
    "            FP += 1\n",
    "            \n",
    "    normal_set.add(p)\n",
    "    expanded.add(x)\n",
    "    \n",
    "    if iterations % 50000 == 0:\n",
    "        print(f\"iter={iterations} TN={TN}, FN={FN}, TP={TP}, FP={FP}\")\n",
    "        \n",
    "    if iterations == 1000000:\n",
    "        break\n"
   ]
  },
  {
   "cell_type": "code",
   "execution_count": 210,
   "metadata": {},
   "outputs": [
    {
     "name": "stdout",
     "output_type": "stream",
     "text": [
      "Initial state:\n",
      "Large Disks: [1 3 3 2 2 3 4 1 4 3 4 1 2 2 1 3 4 4 4 3 2 4 2 2 2 3 4 2 2 3 2 3 4 1 3 1 3\n",
      " 2 3 4 2 4 4 2 4 2 1 1 1 3 4 2 1 3 3 4 4 2 3 2 3 3 2 2 2 1 1 4 2 4 1 3 3 4\n",
      " 4 3 1 3 3 3 4 2 4 1 4 2 2 3 2 3 4 3 1 4 1 3 2 4 4 4 4]\n",
      "Small Disks: [[ 9  7  8  4  3  3  7  9  9  5  0  3 10  8  6  5  9 10  6 10  1  1  9  4\n",
      "   5  4  7  2  5  6  2 10  9  4  6  2  1  8  7  2  9  1  5  3  4  7  3  1\n",
      "   7  2  7 10  2  7  6  7  6  9  1  1  5  8  2  3  6  8  3  2 10  2  9  6\n",
      "   5 10 10  1  4  3  5  3  6  4  4 10  3  8  6  8  1  8  7  2  1 10  4  5\n",
      "   8  9  5  8  4]]\n",
      "167301\n",
      "156253\n",
      "141731\n",
      "124519\n",
      "103619\n",
      "78691\n",
      "52533\n",
      "23671\n",
      "4161\n",
      "Done.\n"
     ]
    }
   ],
   "source": [
    "n = 10\n",
    "x = basic_solved_state(1, n)\n",
    "x = shuffle_along_axis(x, 1)\n",
    "X = random_large_discs(n)\n",
    "\n",
    "print(\"Initial state:\")\n",
    "print(\"Large Disks:\", X)\n",
    "print(\"Small Disks:\", x)\n",
    "\n",
    "h = YetAnotherAscendingDistanceHeuristic(n, weak_zero=True)\n",
    "#h = AscendingMaskedDistanceHeuristic(n, scale=(1 / (8*(n-1))))\n",
    "#h = AscendingDistanceHeuristic(n, scale=1)\n",
    "#h = TestAllHeuristic(n)\n",
    "expanded = Expanded()\n",
    "expanded.add(x, x_parent=None)\n",
    "\n",
    "search_width = 32\n",
    "verbose = False\n",
    "\n",
    "for i in range(100000):\n",
    "    x, x_parent = expand(X, x)\n",
    "    backtracked = expanded.contains(x)\n",
    "    x = x[~backtracked]\n",
    "    x_parent = x_parent[~backtracked]\n",
    "    \n",
    "    hvals = h(x)\n",
    "    arg_best = hvals.argsort()\n",
    "    arg_best = arg_best[:min(search_width, arg_best.shape[0])]\n",
    "    \n",
    "    x = x[arg_best]\n",
    "    hvals = hvals[arg_best]\n",
    "    x_parent = x_parent[arg_best]\n",
    "    expanded.add(x, x_parent)\n",
    "    if i % 250 == 0:\n",
    "        print(hvals[0])\n",
    "\n",
    "        \n",
    "    if verbose:\n",
    "        print()\n",
    "        print(\"h(x):\\n\", hvals)\n",
    "        print(\"Nodes:\")\n",
    "        print(x)\n",
    "    \n",
    "    if hvals[0] < 1e-7:\n",
    "        print(\"Done.\")\n",
    "        path = expanded.path_to_root(x[:1], max_depth=i*20)\n",
    "        if verbose:\n",
    "            print(\"Large Disks:\")\n",
    "            print(X)\n",
    "            print(\"Solution\")\n",
    "            print(path)\n",
    "        break"
   ]
  },
  {
   "cell_type": "code",
   "execution_count": null,
   "metadata": {},
   "outputs": [],
   "source": [
    "x[...,].shape"
   ]
  },
  {
   "cell_type": "code",
   "execution_count": null,
   "metadata": {},
   "outputs": [],
   "source": [
    "# list gives you a view of rows\n",
    "y = np.arange(16).reshape((4, 4))\n",
    "#list(y)[0][0] = 100\n",
    "list(y)"
   ]
  },
  {
   "cell_type": "code",
   "execution_count": null,
   "metadata": {},
   "outputs": [],
   "source": [
    "y = np.arange(5)\n",
    "list(y)[0] = 100\n",
    "list(y)"
   ]
  },
  {
   "cell_type": "code",
   "execution_count": null,
   "metadata": {},
   "outputs": [],
   "source": [
    "t = np.tile(np.arange(10), reps=3).reshape(3, 10)\n",
    "r = np.array([-2, 2, -5])\n",
    "asdf = [np.roll(ti, ri) for ti, ri in zip(list(t), r)]\n",
    "print(asdf)\n"
   ]
  },
  {
   "cell_type": "code",
   "execution_count": 202,
   "metadata": {},
   "outputs": [],
   "source": [
    "ring_plot = RingPlot(n, cmap=\"rainbow\")"
   ]
  },
  {
   "cell_type": "code",
   "execution_count": 209,
   "metadata": {},
   "outputs": [
    {
     "data": {
      "application/vnd.jupyter.widget-view+json": {
       "model_id": "901920ee6fde452eac66ebde87513dab",
       "version_major": 2,
       "version_minor": 0
      },
      "text/plain": [
       "interactive(children=(IntSlider(value=130, description='i', max=260), Output()), _dom_classes=('widget-interac…"
      ]
     },
     "metadata": {},
     "output_type": "display_data"
    }
   ],
   "source": [
    "from ipywidgets import interact\n",
    "\n",
    "@interact(i=(0, path.shape[0]-1))\n",
    "def show_path(i):\n",
    "    ring_plot.show(path[i])"
   ]
  }
 ],
 "metadata": {
  "kernelspec": {
   "display_name": "Python 3",
   "language": "python",
   "name": "python3"
  },
  "language_info": {
   "codemirror_mode": {
    "name": "ipython",
    "version": 3
   },
   "file_extension": ".py",
   "mimetype": "text/x-python",
   "name": "python",
   "nbconvert_exporter": "python",
   "pygments_lexer": "ipython3",
   "version": "3.7.6"
  }
 },
 "nbformat": 4,
 "nbformat_minor": 4
}

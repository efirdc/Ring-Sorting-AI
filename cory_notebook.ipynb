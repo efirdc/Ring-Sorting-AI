{
 "cells": [
  {
   "cell_type": "code",
   "execution_count": 154,
   "metadata": {},
   "outputs": [
    {
     "name": "stdout",
     "output_type": "stream",
     "text": [
      "The autoreload extension is already loaded. To reload it, use:\n",
      "  %reload_ext autoreload\n"
     ]
    }
   ],
   "source": [
    "import numpy as np\n",
    "from air_berlin import *\n",
    "from visualizations import *\n",
    "\n",
    "%load_ext autoreload\n",
    "%autoreload 2"
   ]
  },
  {
   "cell_type": "code",
   "execution_count": 267,
   "metadata": {},
   "outputs": [
    {
     "name": "stdout",
     "output_type": "stream",
     "text": [
      "[4 3 3 2 3 1 3 2 1 4]\n",
      "[[3 1 0 3 3 1 2 1 2 2]]\n"
     ]
    }
   ],
   "source": [
    "n = 3\n",
    "x = basic_solved_state(1, n)\n",
    "x = shuffle_along_axis(x, 1)\n",
    "X = random_large_discs(n)\n",
    "print(X)\n",
    "print(x)"
   ]
  },
  {
   "cell_type": "code",
   "execution_count": 279,
   "metadata": {},
   "outputs": [
    {
     "name": "stdout",
     "output_type": "stream",
     "text": [
      "(3864260, 10)\n"
     ]
    }
   ],
   "source": [
    "x, _ = expand(X, x)\n",
    "print(x.shape)"
   ]
  },
  {
   "cell_type": "code",
   "execution_count": 179,
   "metadata": {},
   "outputs": [
    {
     "name": "stdout",
     "output_type": "stream",
     "text": [
      "(1, 17)\n"
     ]
    }
   ],
   "source": [
    "n = 4\n",
    "m = n*n + 1\n",
    "x = basic_solved_state(1, n)\n",
    "x = shuffle_along_axis(x, 1)\n",
    "#a = all_solved_states(n)\n",
    "\n",
    "#x = np.expand_dims(x, 1)\n",
    "#a = np.expand_dims(a, 0)\n",
    "#print(a.shape)\n",
    "print(x.shape)"
   ]
  },
  {
   "cell_type": "code",
   "execution_count": 174,
   "metadata": {},
   "outputs": [
    {
     "name": "stdout",
     "output_type": "stream",
     "text": [
      "[1 3 1 2 3 1 2 3 0 3 0 0 2 2 0 1]\n"
     ]
    }
   ],
   "source": [
    "# filter 0\n",
    "x = x[x != 0].reshape(n*n) - 1\n",
    "print(x)"
   ]
  },
  {
   "cell_type": "code",
   "execution_count": 182,
   "metadata": {},
   "outputs": [
    {
     "name": "stdout",
     "output_type": "stream",
     "text": [
      "[[1 2 2 4 3 4 2 2 4 0 1 1 3 3 1 4 3]]\n",
      "[[1 2 2 4 3 4 2 2 4 0 1 1 3 3 1 4 3]]\n"
     ]
    }
   ],
   "source": [
    "print(x)\n",
    "print(np.minimum(n*n + 1 - x, x))"
   ]
  },
  {
   "cell_type": "code",
   "execution_count": 176,
   "metadata": {},
   "outputs": [
    {
     "name": "stdout",
     "output_type": "stream",
     "text": [
      "[1 3 1 2 3 1 2 3 0 3 0 0 2 2 0 1]\n",
      "[[ 0  8  0  4  8  0  4  8 12  8 12 12  4  4 12  0]\n",
      " [ 8  0  8 12  0  8 12  0  4  0  4  4 12 12  4  8]\n",
      " [ 0  8  0  4  8  0  4  8 12  8 12 12  4  4 12  0]\n",
      " [12  4 12  0  4 12  0  4  8  4  8  8  0  0  8 12]\n",
      " [ 8  0  8 12  0  8 12  0  4  0  4  4 12 12  4  8]\n",
      " [ 0  8  0  4  8  0  4  8 12  8 12 12  4  4 12  0]\n",
      " [12  4 12  0  4 12  0  4  8  4  8  8  0  0  8 12]\n",
      " [ 8  0  8 12  0  8 12  0  4  0  4  4 12 12  4  8]\n",
      " [ 4 12  4  8 12  4  8 12  0 12  0  0  8  8  0  4]\n",
      " [ 8  0  8 12  0  8 12  0  4  0  4  4 12 12  4  8]\n",
      " [ 4 12  4  8 12  4  8 12  0 12  0  0  8  8  0  4]\n",
      " [ 4 12  4  8 12  4  8 12  0 12  0  0  8  8  0  4]\n",
      " [12  4 12  0  4 12  0  4  8  4  8  8  0  0  8 12]\n",
      " [12  4 12  0  4 12  0  4  8  4  8  8  0  0  8 12]\n",
      " [ 4 12  4  8 12  4  8 12  0 12  0  0  8  8  0  4]\n",
      " [ 0  8  0  4  8  0  4  8 12  8 12 12  4  4 12  0]]\n"
     ]
    }
   ],
   "source": [
    "print(x)\n",
    "cw_actual = (np.expand_dims(x, -2) - np.expand_dims(x, -1)) % n\n",
    "cw_actual *= n\n",
    "print(cw_actual)"
   ]
  },
  {
   "cell_type": "code",
   "execution_count": 177,
   "metadata": {},
   "outputs": [
    {
     "name": "stdout",
     "output_type": "stream",
     "text": [
      "[[0 7 2 1 4 5 2 1 4 1 2 1 8 7 2 1]\n",
      " [7 0 7 6 3 4 7 6 3 8 5 6 1 0 7 6]\n",
      " [2 7 0 3 6 3 0 3 6 1 4 3 6 7 0 3]\n",
      " [1 6 3 0 3 6 3 0 3 2 1 0 7 6 3 0]\n",
      " [4 3 6 3 0 7 6 3 0 5 2 3 4 3 6 3]\n",
      " [5 4 3 6 7 0 3 6 7 4 7 6 3 4 3 6]\n",
      " [2 7 0 3 6 3 0 3 6 1 4 3 6 7 0 3]\n",
      " [1 6 3 0 3 6 3 0 3 2 1 0 7 6 3 0]\n",
      " [4 3 6 3 0 7 6 3 0 5 2 3 4 3 6 3]\n",
      " [1 8 1 2 5 4 1 2 5 0 3 2 7 8 1 2]\n",
      " [2 5 4 1 2 7 4 1 2 3 0 1 6 5 4 1]\n",
      " [1 6 3 0 3 6 3 0 3 2 1 0 7 6 3 0]\n",
      " [8 1 6 7 4 3 6 7 4 7 6 7 0 1 6 7]\n",
      " [7 0 7 6 3 4 7 6 3 8 5 6 1 0 7 6]\n",
      " [2 7 0 3 6 3 0 3 6 1 4 3 6 7 0 3]\n",
      " [1 6 3 0 3 6 3 0 3 2 1 0 7 6 3 0]]\n"
     ]
    }
   ],
   "source": [
    "diff = (cw_actual - ring_matrix(n*n)) % (n*n)\n",
    "diff = np.minimum(n*n - np.abs(diff), np.abs(diff))\n",
    "print(diff)"
   ]
  },
  {
   "cell_type": "code",
   "execution_count": 87,
   "metadata": {},
   "outputs": [
    {
     "name": "stdout",
     "output_type": "stream",
     "text": [
      "[[[ 0  3  2  1  0  3  2  1  0  3  2  1  0  3  2  1  0]\n",
      "  [ 0  0 16 15 14  0 16 15 14  0 16 15 14  0 16 15 14]\n",
      "  [ 1  1  0 16 15  1  0 16 15  1  0 16 15  1  0 16 15]\n",
      "  [ 2  2  1  0 16  2  1  0 16  2  1  0 16  2  1  0 16]\n",
      "  [ 3  3  2  1  0  3  2  1  0  3  2  1  0  3  2  1  0]\n",
      "  [ 0  3  2  1  0  0 16 15 14  0 16 15 14  0 16 15 14]\n",
      "  [ 1  4  3  2  1  1  0 16 15  1  0 16 15  1  0 16 15]\n",
      "  [ 2  5  4  3  2  2  1  0 16  2  1  0 16  2  1  0 16]\n",
      "  [ 3  6  5  4  3  3  2  1  0  3  2  1  0  3  2  1  0]\n",
      "  [ 0  3  2  1  0  3  2  1  0  0 16 15 14  0 16 15 14]\n",
      "  [ 1  4  3  2  1  4  3  2  1  1  0 16 15  1  0 16 15]\n",
      "  [ 2  5  4  3  2  5  4  3  2  2  1  0 16  2  1  0 16]\n",
      "  [ 3  6  5  4  3  6  5  4  3  3  2  1  0  3  2  1  0]\n",
      "  [ 0  3  2  1  0  3  2  1  0  3  2  1  0  0 16 15 14]\n",
      "  [ 1  4  3  2  1  4  3  2  1  4  3  2  1  1  0 16 15]\n",
      "  [ 2  5  4  3  2  5  4  3  2  5  4  3  2  2  1  0 16]\n",
      "  [ 3  6  5  4  3  6  5  4  3  6  5  4  3  3  2  1  0]]]\n"
     ]
    }
   ],
   "source": [
    "new_h = (cw_actual - cw_dists) % m\n",
    "#new_h = np.abs(np.maximum(new_h - n, 0))\n",
    "print(new_h)"
   ]
  },
  {
   "cell_type": "code",
   "execution_count": 67,
   "metadata": {},
   "outputs": [
    {
     "name": "stdout",
     "output_type": "stream",
     "text": [
      "[[ 0  1  1  1  1  2  2  2 -3 -2 -2 -2 -2 -1 -1 -1]\n",
      " [-1  0  1  1  1  1  2  2  2 -3 -2 -2 -2 -2 -1 -1]\n",
      " [-1 -1  0  1  1  1  1  2  2  2 -3 -2 -2 -2 -2 -1]\n",
      " [-1 -1 -1  0  1  1  1  1  2  2  2 -3 -2 -2 -2 -2]\n",
      " [-2 -1 -1 -1  0  1  1  1  1  2  2  2 -3 -2 -2 -2]\n",
      " [-2 -2 -1 -1 -1  0  1  1  1  1  2  2  2 -3 -2 -2]\n",
      " [-2 -2 -2 -1 -1 -1  0  1  1  1  1  2  2  2 -3 -2]\n",
      " [-2 -2 -2 -2 -1 -1 -1  0  1  1  1  1  2  2  2 -3]\n",
      " [-3 -2 -2 -2 -2 -1 -1 -1  0  1  1  1  1  2  2  2]\n",
      " [ 2 -3 -2 -2 -2 -2 -1 -1 -1  0  1  1  1  1  2  2]\n",
      " [ 2  2 -3 -2 -2 -2 -2 -1 -1 -1  0  1  1  1  1  2]\n",
      " [ 2  2  2 -3 -2 -2 -2 -2 -1 -1 -1  0  1  1  1  1]\n",
      " [ 1  2  2  2 -3 -2 -2 -2 -2 -1 -1 -1  0  1  1  1]\n",
      " [ 1  1  2  2  2 -3 -2 -2 -2 -2 -1 -1 -1  0  1  1]\n",
      " [ 1  1  1  2  2  2 -3 -2 -2 -2 -2 -1 -1 -1  0  1]\n",
      " [ 1  1  1  1  2  2  2 -3 -2 -2 -2 -2 -1 -1 -1  0]]\n"
     ]
    }
   ],
   "source": [
    "cw_target = clockwise_distance_matrix(n*n) / n\n",
    "cw_target += np.sign(cw_target) - 1e-3\n",
    "cw_target = np.trunc(cw_target).astype(np.int32)\n",
    "print(cw_target)"
   ]
  },
  {
   "cell_type": "code",
   "execution_count": 69,
   "metadata": {},
   "outputs": [
    {
     "ename": "ValueError",
     "evalue": "operands could not be broadcast together with shapes (16,16) (17,17) ",
     "output_type": "error",
     "traceback": [
      "\u001b[1;31m---------------------------------------------------------------------------\u001b[0m",
      "\u001b[1;31mValueError\u001b[0m                                Traceback (most recent call last)",
      "\u001b[1;32m<ipython-input-69-81e9d8d76894>\u001b[0m in \u001b[0;36m<module>\u001b[1;34m\u001b[0m\n\u001b[1;32m----> 1\u001b[1;33m \u001b[0mclockwise_distance\u001b[0m\u001b[1;33m(\u001b[0m\u001b[0mcw_actual\u001b[0m\u001b[1;33m,\u001b[0m \u001b[0mcw_target\u001b[0m\u001b[1;33m,\u001b[0m \u001b[0mn\u001b[0m\u001b[1;33m)\u001b[0m\u001b[1;33m\u001b[0m\u001b[1;33m\u001b[0m\u001b[0m\n\u001b[0m",
      "\u001b[1;32mG:\\Github Repositories\\Ring-Sorting-AI\\air_berlin.py\u001b[0m in \u001b[0;36mclockwise_distance\u001b[1;34m(x1, x2, m)\u001b[0m\n\u001b[0;32m    119\u001b[0m \u001b[1;31m# Get the distance between x1 and x2 moving clockwise around a ring with m elements\u001b[0m\u001b[1;33m\u001b[0m\u001b[1;33m\u001b[0m\u001b[1;33m\u001b[0m\u001b[0m\n\u001b[0;32m    120\u001b[0m \u001b[1;32mdef\u001b[0m \u001b[0mclockwise_distance\u001b[0m\u001b[1;33m(\u001b[0m\u001b[0mx1\u001b[0m\u001b[1;33m,\u001b[0m \u001b[0mx2\u001b[0m\u001b[1;33m,\u001b[0m \u001b[0mm\u001b[0m\u001b[1;33m)\u001b[0m\u001b[1;33m:\u001b[0m\u001b[1;33m\u001b[0m\u001b[1;33m\u001b[0m\u001b[0m\n\u001b[1;32m--> 121\u001b[1;33m     \u001b[0mx\u001b[0m \u001b[1;33m=\u001b[0m \u001b[0mx2\u001b[0m \u001b[1;33m-\u001b[0m \u001b[0mx1\u001b[0m\u001b[1;33m\u001b[0m\u001b[1;33m\u001b[0m\u001b[0m\n\u001b[0m\u001b[0;32m    122\u001b[0m     \u001b[0mhalf_m\u001b[0m \u001b[1;33m=\u001b[0m \u001b[0mm\u001b[0m \u001b[1;33m//\u001b[0m \u001b[1;36m2\u001b[0m\u001b[1;33m\u001b[0m\u001b[1;33m\u001b[0m\u001b[0m\n\u001b[0;32m    123\u001b[0m     \u001b[0mx\u001b[0m \u001b[1;33m=\u001b[0m \u001b[1;33m(\u001b[0m\u001b[0mx\u001b[0m \u001b[1;33m+\u001b[0m \u001b[0mhalf_m\u001b[0m\u001b[1;33m)\u001b[0m \u001b[1;33m%\u001b[0m \u001b[0mm\u001b[0m \u001b[1;33m-\u001b[0m \u001b[0mhalf_m\u001b[0m\u001b[1;33m\u001b[0m\u001b[1;33m\u001b[0m\u001b[0m\n",
      "\u001b[1;31mValueError\u001b[0m: operands could not be broadcast together with shapes (16,16) (17,17) "
     ]
    }
   ],
   "source": [
    "clockwise_distance(cw_actual, cw_target, n)"
   ]
  },
  {
   "cell_type": "code",
   "execution_count": 68,
   "metadata": {},
   "outputs": [
    {
     "data": {
      "text/plain": [
       "array([[ 0,  1,  2,  3,  4,  5,  6,  7,  8, -8, -7, -6, -5, -4, -3, -2,\n",
       "        -1],\n",
       "       [-1,  0,  1,  2,  3,  4,  5,  6,  7,  8, -8, -7, -6, -5, -4, -3,\n",
       "        -2],\n",
       "       [-2, -1,  0,  1,  2,  3,  4,  5,  6,  7,  8, -8, -7, -6, -5, -4,\n",
       "        -3],\n",
       "       [-3, -2, -1,  0,  1,  2,  3,  4,  5,  6,  7,  8, -8, -7, -6, -5,\n",
       "        -4],\n",
       "       [-4, -3, -2, -1,  0,  1,  2,  3,  4,  5,  6,  7,  8, -8, -7, -6,\n",
       "        -5],\n",
       "       [-5, -4, -3, -2, -1,  0,  1,  2,  3,  4,  5,  6,  7,  8, -8, -7,\n",
       "        -6],\n",
       "       [-6, -5, -4, -3, -2, -1,  0,  1,  2,  3,  4,  5,  6,  7,  8, -8,\n",
       "        -7],\n",
       "       [-7, -6, -5, -4, -3, -2, -1,  0,  1,  2,  3,  4,  5,  6,  7,  8,\n",
       "        -8],\n",
       "       [-8, -7, -6, -5, -4, -3, -2, -1,  0,  1,  2,  3,  4,  5,  6,  7,\n",
       "         8],\n",
       "       [ 8, -8, -7, -6, -5, -4, -3, -2, -1,  0,  1,  2,  3,  4,  5,  6,\n",
       "         7],\n",
       "       [ 7,  8, -8, -7, -6, -5, -4, -3, -2, -1,  0,  1,  2,  3,  4,  5,\n",
       "         6],\n",
       "       [ 6,  7,  8, -8, -7, -6, -5, -4, -3, -2, -1,  0,  1,  2,  3,  4,\n",
       "         5],\n",
       "       [ 5,  6,  7,  8, -8, -7, -6, -5, -4, -3, -2, -1,  0,  1,  2,  3,\n",
       "         4],\n",
       "       [ 4,  5,  6,  7,  8, -8, -7, -6, -5, -4, -3, -2, -1,  0,  1,  2,\n",
       "         3],\n",
       "       [ 3,  4,  5,  6,  7,  8, -8, -7, -6, -5, -4, -3, -2, -1,  0,  1,\n",
       "         2],\n",
       "       [ 2,  3,  4,  5,  6,  7,  8, -8, -7, -6, -5, -4, -3, -2, -1,  0,\n",
       "         1],\n",
       "       [ 1,  2,  3,  4,  5,  6,  7,  8, -8, -7, -6, -5, -4, -3, -2, -1,\n",
       "         0]], dtype=int32)"
      ]
     },
     "execution_count": 68,
     "metadata": {},
     "output_type": "execute_result"
    }
   ],
   "source": [
    "clockwise_distance_matrix(n*n + 1)"
   ]
  },
  {
   "cell_type": "code",
   "execution_count": null,
   "metadata": {},
   "outputs": [],
   "source": [
    "set([1, 1, 1, 3, 3, 3, 4, 4])"
   ]
  },
  {
   "cell_type": "code",
   "execution_count": null,
   "metadata": {},
   "outputs": [],
   "source": [
    "np.trunc(signed_distance_matrix(10) / 3).astype(np.int32)"
   ]
  },
  {
   "cell_type": "code",
   "execution_count": null,
   "metadata": {},
   "outputs": [],
   "source": [
    "n = 3\n",
    "x = basic_solved_state(n)\n",
    "np.random.shuffle(x)\n",
    "\n",
    "print(x)\n",
    "\n",
    "scale = 1 / (8 * (n - 1))\n",
    "h = MaskedDistanceHeuristic(n=n, scale=scale)\n",
    "\n",
    "print(h(x))"
   ]
  },
  {
   "cell_type": "code",
   "execution_count": null,
   "metadata": {},
   "outputs": [],
   "source": [
    "expanded = Expanded()"
   ]
  },
  {
   "cell_type": "code",
   "execution_count": null,
   "metadata": {},
   "outputs": [],
   "source": [
    "# Test the Expanded class\n",
    "\n",
    "from itertools import permutations\n",
    "\n",
    "x = list(basic_solved_state(1, 3)[0])\n",
    "\n",
    "normal_set = set()\n",
    "expanded = Expanded()\n",
    "\n",
    "iterations = 0\n",
    "TP = 0\n",
    "FP = 0\n",
    "TN = 0\n",
    "FN = 0\n",
    "\n",
    "for p in permutations(x):\n",
    "    iterations += 1\n",
    "    \n",
    "    x = np.array(p)[np.newaxis]\n",
    "    \n",
    "    if p in normal_set: \n",
    "        if expanded.contains(x)[0]:\n",
    "            TN += 1\n",
    "        else:\n",
    "            FN += 1\n",
    "    else:\n",
    "        if not expanded.contains(x)[0]:\n",
    "            TP += 1\n",
    "        else:\n",
    "            print(p)\n",
    "            FP += 1\n",
    "            \n",
    "    normal_set.add(p)\n",
    "    expanded.add(x)\n",
    "    \n",
    "    if iterations % 50000 == 0:\n",
    "        print(f\"iter={iterations} TN={TN}, FN={FN}, TP={TP}, FP={FP}\")\n",
    "        \n",
    "    if iterations == 1000000:\n",
    "        break\n"
   ]
  },
  {
   "cell_type": "code",
   "execution_count": 227,
   "metadata": {},
   "outputs": [
    {
     "name": "stdout",
     "output_type": "stream",
     "text": [
      "Initial state:\n",
      "Large Disks: [4 2 3 2 4 3 1 1 4 2 1 2 2 3 1 3 1 4 4 1 3 2 3 3 4 3 3 2 4 4 2 3 1 3 1 4 3\n",
      " 4 2 2 4 4 3 1 1 2 2 3 2 4 1 2 4 3 3 2 3 1 3 1 3 1 3 1 3 1 1 2 1 4 4 2 1 3\n",
      " 2 4 4 3 3 1 2 2 4 1 1 3 2 2 2 3 4 3 3 2 2 3 2 1 2 1 3 1 2 4 4 2 3 3 1 1 3\n",
      " 3 3 4 4 1 3 3 3 1 3 1 1 4 2 2 1 4 3 4 2 1 3 1 1 1 3 2 4 4 2 2 2 2 2 3 1 1\n",
      " 3 2 4 1 1 4 1 4 3 2 1 1 3 2 4 1 1 1 3 2 3 1 1 1 2 3 4 1 3 3 4 4 4 3 4 3 2\n",
      " 4 3 3 2 4 3 4 2 1 3 1 2 1 3 4 2 1 3 2 4 2 1 1 2 4 1 4 3 2 1 3 2 3 4 1 1 3\n",
      " 2 4 4 2 4 3 3 2 1 3 2 2 2 3 4 2 1 4 4 2 1 2 2 2 2 2 3 1 3 3 2 1 3 3 2 4 2\n",
      " 3 2 2 3 1 3 3 1 4 2 1 1 2 3 4 3 2 1 3 1 2 4 3 4 2 4 4 3 4 4 1 4 4 3 2 4 4\n",
      " 3 3 2 4 1 2 3 1 2 1 1 1 3 1 3 1 1 3 3 1 1 4 2 4 4 1 3 2 4 2 1 4 1 2 4 3 3\n",
      " 3 4 1 3 4 3 2 1 2 1 4 4 3 4 1 4 1 4 1 3 4 4 1 3 1 2 3 4 2 3 3 4 2 3 4 3 4\n",
      " 4 3 3 4 1 4 3 1 2 4 2 4 2 4 2 4 3 4 1 3 3 3 1 2 3 1 1 3 1 2 2 3 3 2 1 3 1\n",
      " 2 3 2 3 4 3 4 2 2 3 4 1 2 2 3 1 3 2 1 2 3 3 1 1 2 2 3 2 4 2 3 2 2 3 3 1 2\n",
      " 1 2 1 2 3 3 2 1 1 2 1 1 2 2 3 1 2 4 1 2 4 1 2 4 1 4 1 1 4 2 2 3 1 1 1 4 4\n",
      " 1 2 3 1 2 2 2 2 4 1 2 4 4 3 4 2 1 1 1 4 2 2 3 2 2 1 4 2 4 2 2 2 3 4 2 3 4\n",
      " 3 3 3 4 4 1 2 4 3 4 3 1 1 1 2 1 4 1 1 1 4 2 1 1 3 2 4 2 4 4 2 3 3 3 1 4 4\n",
      " 4 1 1 1 3 1 4 1 3 4 1 4 1 1 2 3 4 4 3 2 4 1 3 1 3 3 1 2 2 4 1 1 2 4 2 2 4\n",
      " 2 1 4 1 4 2 3 1 4 1 4 1 3 1 4 1 1 2 3 3 1 3 2 1 4 3 1 4 4 4 3 1 2 3]\n",
      "Small Disks: [[ 4 18  7  9 11  6  5 13 15 21 25 22  1  2 16 24  9 23  2 14 10 19 10 18\n",
      "  13 10 18  7 15 21  8  1 16  3  4  6 19 22 18 18  2 20 19  8 16 10 20  4\n",
      "  15 10  5  2 23  8  2 13  3  2  7  7  6 17  8  6 15 20 22  2  3 21 21 16\n",
      "  17 15  3  1 18 13 17 20 16 14 24 18  6  9 19  5 25  6  1 12  2 15 24 23\n",
      "  25  1 12 12 18  4 17  3 12 20 15 20  1 16 24  5  1  4 24 14 21 25 15 16\n",
      "  19 11 24  3  3 19  6 15 14 25  1 23 23 16  7 16 19 10  9  3  8 24 17  5\n",
      "  14 25 18 22 21 24 10 22  7 21  6 14 13  6  7 19 12 18 21  7 11  5  3 11\n",
      "   9 23 11 19 17 22  8 22 12 15  9 15 10  5 23 23  7 23 21 11 25  4 12 18\n",
      "  14  7 19  3 12  5 10 12 23 17 14 19 20  1 21 10  4 20 21  8 21 22 11 14\n",
      "   7  2  4 13  9 16  2 13 21  8  4  0  3 10  3 22  3 16 18 15 11 21 20 20\n",
      "   1  1 23  8 22  7 17 11  5  5 17 18 25 10 19 13  2  7 25 12  1  4 25 20\n",
      "  14 17 10 25  6 15  7 23 12 22  5 23 16 12  5 16  2  9  3 17  5 20  9 14\n",
      "  16  1  5  9 10 10 23 10 23  3  3 20  6 25 25 22  4 15 11 17 17  2 24 15\n",
      "  22 15 12 22  6  2 23 25 23  4 16 16 15 24 13 19  6 19 25 11 11  9  1 18\n",
      "  23  1 20 11 17 14 25 15  7 25 19 17 16 12 19  9 22  6 10  4  6 14 19 22\n",
      "  19 21 17 13  8 21  1 24  4 24 18  8  7 13 14 12  2  8  3 15 12 20 16 14\n",
      "   2  4 20 14 20 12 20 24  6  5 18  8 24  1 16  8 13  2 17 10 23 22  1 22\n",
      "  13  7 19  9 12 12  8  6 15  5  9 21 23 11  4 13 14  7 18 11 24  8  1 24\n",
      "  14 24 18 25 18 23 16 10  9 13 13 22 11 14  9 12  2 25 15  3  7  1  9 14\n",
      "   4 21 17 15 20  1  3  2 16 20 17  5 15  2 17  1 13 13  7  9 25 15  5 21\n",
      "  24  8  2 23  9 17 18  8 18 15 22  5 19 22  6  6  7 13 24 10 19 10 22  8\n",
      "  17 22 20  9 18  6  5  4  9  4 19 23 17 25 10  8 20 11  3 14 18 19  4  6\n",
      "  17  4 11 10  8  9 13  5 23 16  7  3 16 24  4 14 24 12 11  3 11 24  6  6\n",
      "   5  1  7 13  6 11  5 20 24 12  4 22  2  7 24 18  3 19 25 24  8 11 14 22\n",
      "  25 18  4 21 21  5  8 13  9  1 12 12  3 12 25 13 11 19  2 21 20  8  6 10\n",
      "   8 11  1  4 25 11  3 10 13 14 13  5 23 14 16 20  9  7 21  9  2 17 21 21\n",
      "  16  2]]\n",
      "52008843\n",
      "51999891\n",
      "51993423\n"
     ]
    },
    {
     "ename": "MemoryError",
     "evalue": "Unable to allocate 106. MiB for an array with shape (71, 625, 625) and data type int32",
     "output_type": "error",
     "traceback": [
      "\u001b[1;31m---------------------------------------------------------------------------\u001b[0m",
      "\u001b[1;31mMemoryError\u001b[0m                               Traceback (most recent call last)",
      "\u001b[1;32m<ipython-input-227-1b24f7573544>\u001b[0m in \u001b[0;36m<module>\u001b[1;34m\u001b[0m\n\u001b[0;32m     24\u001b[0m     \u001b[0mx_parent\u001b[0m \u001b[1;33m=\u001b[0m \u001b[0mx_parent\u001b[0m\u001b[1;33m[\u001b[0m\u001b[1;33m~\u001b[0m\u001b[0mbacktracked\u001b[0m\u001b[1;33m]\u001b[0m\u001b[1;33m\u001b[0m\u001b[1;33m\u001b[0m\u001b[0m\n\u001b[0;32m     25\u001b[0m \u001b[1;33m\u001b[0m\u001b[0m\n\u001b[1;32m---> 26\u001b[1;33m     \u001b[0mhvals\u001b[0m \u001b[1;33m=\u001b[0m \u001b[0mh\u001b[0m\u001b[1;33m(\u001b[0m\u001b[0mx\u001b[0m\u001b[1;33m)\u001b[0m\u001b[1;33m\u001b[0m\u001b[1;33m\u001b[0m\u001b[0m\n\u001b[0m\u001b[0;32m     27\u001b[0m     \u001b[0marg_best\u001b[0m \u001b[1;33m=\u001b[0m \u001b[0mhvals\u001b[0m\u001b[1;33m.\u001b[0m\u001b[0margsort\u001b[0m\u001b[1;33m(\u001b[0m\u001b[1;33m)\u001b[0m\u001b[1;33m\u001b[0m\u001b[1;33m\u001b[0m\u001b[0m\n\u001b[0;32m     28\u001b[0m     \u001b[0marg_best\u001b[0m \u001b[1;33m=\u001b[0m \u001b[0marg_best\u001b[0m\u001b[1;33m[\u001b[0m\u001b[1;33m:\u001b[0m\u001b[0mmin\u001b[0m\u001b[1;33m(\u001b[0m\u001b[0msearch_width\u001b[0m\u001b[1;33m,\u001b[0m \u001b[0marg_best\u001b[0m\u001b[1;33m.\u001b[0m\u001b[0mshape\u001b[0m\u001b[1;33m[\u001b[0m\u001b[1;36m0\u001b[0m\u001b[1;33m]\u001b[0m\u001b[1;33m)\u001b[0m\u001b[1;33m]\u001b[0m\u001b[1;33m\u001b[0m\u001b[1;33m\u001b[0m\u001b[0m\n",
      "\u001b[1;32mG:\\Github Repositories\\Ring-Sorting-AI\\air_berlin.py\u001b[0m in \u001b[0;36m__call__\u001b[1;34m(self, x)\u001b[0m\n\u001b[0;32m    269\u001b[0m \u001b[1;33m\u001b[0m\u001b[0m\n\u001b[0;32m    270\u001b[0m         \u001b[0mdiff\u001b[0m \u001b[1;33m=\u001b[0m \u001b[1;33m(\u001b[0m\u001b[0mdiff\u001b[0m \u001b[1;33m-\u001b[0m \u001b[0mself\u001b[0m\u001b[1;33m.\u001b[0m\u001b[0mring_matrix\u001b[0m\u001b[1;33m)\u001b[0m \u001b[1;33m%\u001b[0m \u001b[0mself\u001b[0m\u001b[1;33m.\u001b[0m\u001b[0mm\u001b[0m\u001b[1;33m\u001b[0m\u001b[1;33m\u001b[0m\u001b[0m\n\u001b[1;32m--> 271\u001b[1;33m         \u001b[0mdiff\u001b[0m \u001b[1;33m=\u001b[0m \u001b[0mnp\u001b[0m\u001b[1;33m.\u001b[0m\u001b[0mminimum\u001b[0m\u001b[1;33m(\u001b[0m\u001b[0mself\u001b[0m\u001b[1;33m.\u001b[0m\u001b[0mm\u001b[0m \u001b[1;33m-\u001b[0m \u001b[0mnp\u001b[0m\u001b[1;33m.\u001b[0m\u001b[0mabs\u001b[0m\u001b[1;33m(\u001b[0m\u001b[0mdiff\u001b[0m\u001b[1;33m)\u001b[0m\u001b[1;33m,\u001b[0m \u001b[0mnp\u001b[0m\u001b[1;33m.\u001b[0m\u001b[0mabs\u001b[0m\u001b[1;33m(\u001b[0m\u001b[0mdiff\u001b[0m\u001b[1;33m)\u001b[0m\u001b[1;33m)\u001b[0m\u001b[1;33m\u001b[0m\u001b[1;33m\u001b[0m\u001b[0m\n\u001b[0m\u001b[0;32m    272\u001b[0m         \u001b[0mdiff\u001b[0m \u001b[1;33m=\u001b[0m \u001b[0mnp\u001b[0m\u001b[1;33m.\u001b[0m\u001b[0mmaximum\u001b[0m\u001b[1;33m(\u001b[0m\u001b[1;36m0\u001b[0m\u001b[1;33m,\u001b[0m \u001b[0mdiff\u001b[0m \u001b[1;33m-\u001b[0m \u001b[0mself\u001b[0m\u001b[1;33m.\u001b[0m\u001b[0mn\u001b[0m \u001b[1;33m+\u001b[0m \u001b[1;36m1\u001b[0m\u001b[1;33m)\u001b[0m\u001b[1;33m\u001b[0m\u001b[1;33m\u001b[0m\u001b[0m\n\u001b[0;32m    273\u001b[0m \u001b[1;33m\u001b[0m\u001b[0m\n",
      "\u001b[1;31mMemoryError\u001b[0m: Unable to allocate 106. MiB for an array with shape (71, 625, 625) and data type int32"
     ]
    }
   ],
   "source": [
    "n = 25\n",
    "x = basic_solved_state(1, n)\n",
    "x = shuffle_along_axis(x, 1)\n",
    "X = random_large_discs(n)\n",
    "\n",
    "print(\"Initial state:\")\n",
    "print(\"Large Disks:\", X)\n",
    "print(\"Small Disks:\", x)\n",
    "\n",
    "h = YetAnotherAscendingDistanceHeuristic(n, weak_zero=True)\n",
    "#h = AscendingMaskedDistanceHeuristic(n, scale=(1 / (8*(n-1))))\n",
    "#h = AscendingDistanceHeuristic(n, scale=1)\n",
    "#h = TestAllHeuristic(n)\n",
    "expanded = Expanded()\n",
    "expanded.add(x, x_parent=None)\n",
    "\n",
    "search_width = 32\n",
    "verbose = False\n",
    "\n",
    "for i in range(100000):\n",
    "    x, x_parent = expand(X, x)\n",
    "    backtracked = expanded.contains(x)\n",
    "    x = x[~backtracked]\n",
    "    x_parent = x_parent[~backtracked]\n",
    "    \n",
    "    hvals = h(x)\n",
    "    arg_best = hvals.argsort()\n",
    "    arg_best = arg_best[:min(search_width, arg_best.shape[0])]\n",
    "    \n",
    "    x = x[arg_best]\n",
    "    hvals = hvals[arg_best]\n",
    "    x_parent = x_parent[arg_best]\n",
    "    expanded.add(x, x_parent)\n",
    "    if i % 250 == 0:\n",
    "        print(hvals[0])\n",
    "\n",
    "        \n",
    "    if verbose:\n",
    "        print()\n",
    "        print(\"h(x):\\n\", hvals)\n",
    "        print(\"Nodes:\")\n",
    "        print(x)\n",
    "    \n",
    "    if hvals[0] < 1e-7:\n",
    "        print(\"Done.\")\n",
    "        path = expanded.path_to_root(x[:1], max_depth=i*20)\n",
    "        if verbose:\n",
    "            print(\"Large Disks:\")\n",
    "            print(X)\n",
    "            print(\"Solution\")\n",
    "            print(path)\n",
    "        break"
   ]
  },
  {
   "cell_type": "code",
   "execution_count": null,
   "metadata": {},
   "outputs": [],
   "source": [
    "x[...,].shape"
   ]
  },
  {
   "cell_type": "code",
   "execution_count": null,
   "metadata": {},
   "outputs": [],
   "source": [
    "# list gives you a view of rows\n",
    "y = np.arange(16).reshape((4, 4))\n",
    "#list(y)[0][0] = 100\n",
    "list(y)"
   ]
  },
  {
   "cell_type": "code",
   "execution_count": null,
   "metadata": {},
   "outputs": [],
   "source": [
    "y = np.arange(5)\n",
    "list(y)[0] = 100\n",
    "list(y)"
   ]
  },
  {
   "cell_type": "code",
   "execution_count": null,
   "metadata": {},
   "outputs": [],
   "source": [
    "t = np.tile(np.arange(10), reps=3).reshape(3, 10)\n",
    "r = np.array([-2, 2, -5])\n",
    "asdf = [np.roll(ti, ri) for ti, ri in zip(list(t), r)]\n",
    "print(asdf)\n"
   ]
  },
  {
   "cell_type": "code",
   "execution_count": 234,
   "metadata": {},
   "outputs": [],
   "source": [
    "n = 15\n",
    "ring_plot = RingPlot(n, cmap=\"rainbow\")"
   ]
  },
  {
   "cell_type": "code",
   "execution_count": 258,
   "metadata": {},
   "outputs": [
    {
     "data": {
      "application/vnd.jupyter.widget-view+json": {
       "model_id": "f72774353d4f4f0993297ededf4d2dde",
       "version_major": 2,
       "version_minor": 0
      },
      "text/plain": [
       "interactive(children=(IntSlider(value=10433, description='i', max=20867), Output()), _dom_classes=('widget-int…"
      ]
     },
     "metadata": {},
     "output_type": "display_data"
    }
   ],
   "source": [
    "from ipywidgets import interact\n",
    "\n",
    "@interact(i=(0, path.shape[0]-1))\n",
    "def show_path(i):\n",
    "    ring_plot.show(path[i])"
   ]
  },
  {
   "cell_type": "code",
   "execution_count": 226,
   "metadata": {},
   "outputs": [],
   "source": [
    "name = \"n15v1.npy\"\n",
    "out = np.array([X, path], dtype=np.object)\n",
    "#np.save(f\"solutions/{name}\", out)"
   ]
  },
  {
   "cell_type": "code",
   "execution_count": 230,
   "metadata": {},
   "outputs": [],
   "source": [
    "name = \"n15v1.npy\"\n",
    "load = np.load(f\"solutions/{name}\", allow_pickle=True)\n",
    "X = load[0]\n",
    "path = load[1]"
   ]
  },
  {
   "cell_type": "code",
   "execution_count": 254,
   "metadata": {},
   "outputs": [
    {
     "data": {
      "text/plain": [
       "-8828175566804271049"
      ]
     },
     "execution_count": 254,
     "metadata": {},
     "output_type": "execute_result"
    }
   ],
   "source": [
    "hash(np.arange(28).tobytes())"
   ]
  },
  {
   "cell_type": "code",
   "execution_count": 257,
   "metadata": {},
   "outputs": [
    {
     "ename": "ValueError",
     "evalue": "cannot convert float NaN to integer",
     "output_type": "error",
     "traceback": [
      "\u001b[1;31m---------------------------------------------------------------------------\u001b[0m",
      "\u001b[1;31mValueError\u001b[0m                                Traceback (most recent call last)",
      "\u001b[1;32m<ipython-input-257-3d35d6c1d322>\u001b[0m in \u001b[0;36m<module>\u001b[1;34m\u001b[0m\n\u001b[1;32m----> 1\u001b[1;33m \u001b[0mnp\u001b[0m\u001b[1;33m.\u001b[0m\u001b[0marray\u001b[0m\u001b[1;33m(\u001b[0m\u001b[1;33m[\u001b[0m\u001b[0mnp\u001b[0m\u001b[1;33m.\u001b[0m\u001b[0mnan\u001b[0m\u001b[1;33m]\u001b[0m\u001b[1;33m,\u001b[0m \u001b[0mdtype\u001b[0m\u001b[1;33m=\u001b[0m\u001b[0mnp\u001b[0m\u001b[1;33m.\u001b[0m\u001b[0mint64\u001b[0m\u001b[1;33m)\u001b[0m\u001b[1;33m\u001b[0m\u001b[1;33m\u001b[0m\u001b[0m\n\u001b[0m",
      "\u001b[1;31mValueError\u001b[0m: cannot convert float NaN to integer"
     ]
    }
   ],
   "source": [
    "np.array([np.nan], dtype=np.int64)"
   ]
  },
  {
   "cell_type": "code",
   "execution_count": 7,
   "metadata": {},
   "outputs": [
    {
     "name": "stdout",
     "output_type": "stream",
     "text": [
      "cpu time 1.2695953845977783\n",
      "gpu time 0.05198383331298828\n",
      "gpu is 24.4 times faster than cpu\n"
     ]
    }
   ],
   "source": [
    "import torch\n",
    "import time\n",
    "import numpy as np\n",
    "\n",
    "x = torch.randperm(10000000)\n",
    "\n",
    "t = time.time()\n",
    "torch.sort(x)\n",
    "cpu_time = time.time() - t\n",
    "\n",
    "print(\"cpu time\", cpu_time)\n",
    "\n",
    "x = x.cuda()\n",
    "\n",
    "t = time.time()\n",
    "torch.sort(x)\n",
    "gpu_time = time.time() - t\n",
    "print(\"gpu time\", gpu_time)\n",
    "\n",
    "print(f\"gpu is {round(cpu_time / gpu_time, 1)} times faster than cpu\")"
   ]
  }
 ],
 "metadata": {
  "kernelspec": {
   "display_name": "Python 3",
   "language": "python",
   "name": "python3"
  },
  "language_info": {
   "codemirror_mode": {
    "name": "ipython",
    "version": 3
   },
   "file_extension": ".py",
   "mimetype": "text/x-python",
   "name": "python",
   "nbconvert_exporter": "python",
   "pygments_lexer": "ipython3",
   "version": "3.7.6"
  }
 },
 "nbformat": 4,
 "nbformat_minor": 4
}

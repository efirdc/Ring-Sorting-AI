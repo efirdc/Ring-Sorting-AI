{
 "cells": [
  {
   "cell_type": "code",
   "execution_count": 2,
   "metadata": {},
   "outputs": [
    {
     "name": "stdout",
     "output_type": "stream",
     "text": [
      "The autoreload extension is already loaded. To reload it, use:\n",
      "  %reload_ext autoreload\n"
     ]
    }
   ],
   "source": [
    "import numpy as np\n",
    "from air_berlin import *\n",
    "\n",
    "%load_ext autoreload\n",
    "%autoreload 2"
   ]
  },
  {
   "cell_type": "code",
   "execution_count": null,
   "metadata": {},
   "outputs": [],
   "source": []
  },
  {
   "cell_type": "code",
   "execution_count": 28,
   "metadata": {},
   "outputs": [
    {
     "name": "stdout",
     "output_type": "stream",
     "text": [
      " [3 1 3 2 2 3 4 3 3 2 4 4 2 1 1 4 1 2 2 2 4 1 1 1 3 1]\n",
      "[[0 1 2 2 3 3 3 4 4 5 4 5 5 6 6 5 6 5 4 4 3 4 4 3 2 1]\n",
      " [1 0 1 1 2 2 2 3 3 4 3 4 4 5 5 4 5 4 3 3 2 3 3 2 1 2]\n",
      " [2 1 0 1 1 1 1 2 2 3 2 3 3 4 5 4 5 5 4 4 3 4 4 3 2 3]\n",
      " [1 2 1 0 1 2 2 2 3 3 3 3 4 5 5 4 5 5 5 5 4 5 5 4 3 2]\n",
      " [2 3 2 1 0 1 2 1 2 2 3 2 3 4 4 3 4 4 5 5 5 6 6 5 4 3]\n",
      " [2 2 1 1 1 0 1 2 1 2 2 3 3 4 5 4 5 5 5 5 4 5 5 4 3 3]\n",
      " [3 3 2 2 1 1 0 1 2 2 1 2 2 3 4 3 4 4 5 5 5 6 6 5 4 4]\n",
      " [4 4 3 3 2 2 1 0 1 1 2 1 2 3 3 2 3 3 4 4 4 5 6 6 5 5]\n",
      " [3 3 2 2 2 1 2 1 0 1 2 2 3 4 4 3 4 4 5 5 5 6 6 5 4 4]\n",
      " [4 4 3 3 3 2 2 2 1 0 1 2 2 3 4 3 4 4 5 5 5 6 7 6 5 5]\n",
      " [4 4 3 3 2 2 1 1 2 1 0 1 1 2 3 2 3 3 4 4 4 5 6 6 5 5]\n",
      " [4 4 3 3 3 2 2 2 1 1 1 0 1 2 2 1 2 2 3 3 3 4 5 6 5 5]\n",
      " [5 5 4 4 4 3 3 3 2 2 2 1 0 1 2 2 3 3 4 4 4 5 6 7 6 6]\n",
      " [6 6 5 5 4 4 3 3 3 3 2 2 1 0 1 2 3 3 4 4 4 5 6 7 6 7]\n",
      " [5 5 4 4 3 3 2 2 3 2 1 2 1 1 0 1 2 2 3 3 3 4 5 6 5 6]\n",
      " [5 5 4 4 4 3 3 3 2 2 2 1 2 2 1 0 1 1 2 2 2 3 4 5 4 5]\n",
      " [5 6 5 5 5 4 4 4 3 3 3 2 3 3 2 1 0 1 1 2 1 2 3 4 3 4]\n",
      " [6 7 6 6 6 5 5 5 4 4 4 3 4 4 3 2 1 0 1 1 2 3 4 5 4 5]\n",
      " [6 7 6 6 6 5 5 5 4 4 4 3 4 4 3 2 2 1 0 1 2 3 4 5 4 5]\n",
      " [5 6 5 5 5 4 4 4 3 3 3 2 3 3 2 1 2 1 1 0 1 2 3 4 3 4]\n",
      " [4 5 4 5 5 5 5 5 4 4 4 3 4 4 3 2 3 2 1 1 0 1 2 3 2 3]\n",
      " [3 4 3 4 4 4 4 5 4 4 4 3 4 4 3 2 3 2 2 1 1 0 1 2 1 2]\n",
      " [2 3 4 4 5 5 5 6 5 5 5 4 5 5 4 3 4 3 3 2 2 1 0 1 2 3]\n",
      " [1 2 3 3 4 4 4 5 5 6 5 5 6 6 5 4 5 4 3 3 2 2 1 0 1 2]\n",
      " [2 3 2 3 3 3 3 4 4 5 4 4 5 5 4 3 4 3 2 2 1 2 2 1 0 1]\n",
      " [1 2 1 2 2 2 2 3 3 4 3 4 4 5 5 4 5 4 3 3 2 3 3 2 1 0]]\n"
     ]
    }
   ],
   "source": [
    "n = 5\n",
    "x = basic_solved_state(1, n)\n",
    "x = shuffle_along_axis(x, 1)\n",
    "xvals = get_xvals(x)\n",
    "X = random_large_discs(n)\n",
    "A = adjacency_matrix(X)\n",
    "P = shortest_path(A)\n",
    "print(\"\", X)\n",
    "print(P)"
   ]
  },
  {
   "cell_type": "code",
   "execution_count": null,
   "metadata": {},
   "outputs": [],
   "source": [
    "x, xvals = expand(X, x, xvals)\n",
    "print(x)"
   ]
  },
  {
   "cell_type": "code",
   "execution_count": null,
   "metadata": {},
   "outputs": [],
   "source": [
    "h = AirBerlinDistanceHeuristic(n, X, 1)\n",
    "h(X, x, xvals)"
   ]
  },
  {
   "cell_type": "code",
   "execution_count": null,
   "metadata": {},
   "outputs": [],
   "source": [
    "a = np.arange(4*4).reshape(4, 4)\n",
    "print(a)\n",
    "a[np.arange(2).reshape(2, 1), np.arange(2).reshape(1, 2)]"
   ]
  },
  {
   "cell_type": "code",
   "execution_count": null,
   "metadata": {},
   "outputs": [],
   "source": [
    "i = np.arange(4)\n",
    "j = np.stack((i, (i + 2) % 4), axis=1)\n",
    "print(j.flatten())\n",
    "print(i.repeat(2))\n",
    "A = np.arange(4*4).reshape(4, 4)\n",
    "print(A)\n",
    "A[i.repeat(2), j.flatten()]"
   ]
  },
  {
   "cell_type": "code",
   "execution_count": null,
   "metadata": {},
   "outputs": [],
   "source": [
    "x = np.ones((4, 4, 4, 4))\n",
    "y = np.zeros((7, 7))\n",
    "x = x[:, np.newaxis, :, :, np.newaxis]\n",
    "y = y[np.newaxis, :, np.newaxis, np.newaxis, :, np.newaxis]\n",
    "\n",
    "print(x.shape, y.shape)\n",
    "print((x * y).shape)"
   ]
  },
  {
   "cell_type": "code",
   "execution_count": null,
   "metadata": {},
   "outputs": [],
   "source": [
    "(2, 3)[:-2]"
   ]
  },
  {
   "cell_type": "code",
   "execution_count": null,
   "metadata": {},
   "outputs": [],
   "source": [
    "\n",
    "\n",
    "print(\"\", X)\n",
    "A = adjacency_matrix(X)\n",
    "P = shortest_path(A)\n",
    "print(A)\n",
    "print(P)"
   ]
  },
  {
   "cell_type": "code",
   "execution_count": null,
   "metadata": {},
   "outputs": [],
   "source": [
    "x = [[1, 1, 1, 2, 3, 0, 2, 2, 3, 3]]\n",
    "d = x - np.roll(x, 1)\n",
    "print(d < 0)"
   ]
  },
  {
   "cell_type": "code",
   "execution_count": null,
   "metadata": {},
   "outputs": [],
   "source": [
    "D = mod_difference_matrix(5)\n",
    "print(D)"
   ]
  },
  {
   "cell_type": "code",
   "execution_count": null,
   "metadata": {},
   "outputs": [],
   "source": [
    "X = np.array([1, 2, 3, 1, 2, 3, 4, 1, 2, 3])\n",
    "x = np.array([[1, 2, 3, 1, 2, 3, 0, 1, 2, 3]])\n",
    "xvals = get_xvals(x)"
   ]
  },
  {
   "cell_type": "code",
   "execution_count": null,
   "metadata": {},
   "outputs": [],
   "source": [
    "#x = x[2:3]\n",
    "xvals = xvals[2:3]"
   ]
  },
  {
   "cell_type": "code",
   "execution_count": null,
   "metadata": {},
   "outputs": [],
   "source": [
    "x, xvals = expand(X, x, xvals)\n",
    "print(x.shape)\n",
    "print(X)\n",
    "print(x)"
   ]
  },
  {
   "cell_type": "code",
   "execution_count": null,
   "metadata": {},
   "outputs": [],
   "source": [
    "n = 4\n",
    "m = n*n + 1\n",
    "x = basic_solved_state(1, n)\n",
    "x = shuffle_along_axis(x, 1)"
   ]
  },
  {
   "cell_type": "code",
   "execution_count": null,
   "metadata": {},
   "outputs": [],
   "source": [
    "expanded = Expanded()"
   ]
  },
  {
   "cell_type": "code",
   "execution_count": 241,
   "metadata": {},
   "outputs": [
    {
     "name": "stdout",
     "output_type": "stream",
     "text": [
      "13.0\n",
      "13.0\n",
      "12.0\n",
      "12.0\n",
      "11.0\n",
      "11.0\n",
      "10.0\n",
      "10.0\n",
      "9.0\n",
      "9.0\n",
      "8.0\n"
     ]
    }
   ],
   "source": [
    "for n in range(5, 16):\n",
    "    print(16 - np.ceil(n / 2))"
   ]
  },
  {
   "cell_type": "code",
   "execution_count": 256,
   "metadata": {},
   "outputs": [
    {
     "name": "stdout",
     "output_type": "stream",
     "text": [
      "Initial state:\n",
      "Large Disks: [3 4 3 2 4 1 3 1 4 4 2 3 1 3 4 3 2 2 2 1 1 1 1 2 2 2 4 4 2 4 4 1 3 3 4 1 3\n",
      " 1 1 1 3 3 1 1 2 4 4 3 2 4]\n",
      "Small Disks: [[4 6 3 2 2 5 4 3 4 2 5 1 6 3 7 7 4 2 7 3 1 1 2 6 2 1 1 0 7 7 5 5 6 6 4 3\n",
      "  3 7 5 6 1 5 4 5 6 1 7 2 3 4]]\n",
      "\n",
      "\n",
      "Turn: 10, expanded: 2339, fringe: 0, time elapsed: 0.7457623481750488\n",
      "Best g(x) + h(x) = 9 + 341.2200012207031\n",
      "Turn: 20, expanded: 9313, fringe: 0, time elapsed: 2.9137840270996094\n",
      "Best g(x) + h(x) = 19 + 338.0799865722656\n",
      "Turn: 30, expanded: 15968, fringe: 0, time elapsed: 4.833757638931274\n",
      "Best g(x) + h(x) = 29 + 334.45001220703125\n",
      "Turn: 40, expanded: 22904, fringe: 0, time elapsed: 6.777987480163574\n",
      "Best g(x) + h(x) = 39 + 330.57000732421875\n",
      "Turn: 50, expanded: 30524, fringe: 0, time elapsed: 8.851295948028564\n",
      "Best g(x) + h(x) = 49 + 324.94000244140625\n",
      "Turn: 60, expanded: 38367, fringe: 0, time elapsed: 11.011605739593506\n",
      "Best g(x) + h(x) = 59 + 318.3299865722656\n",
      "Turn: 70, expanded: 45391, fringe: 0, time elapsed: 13.514864444732666\n",
      "Best g(x) + h(x) = 69 + 311.1400146484375\n",
      "Turn: 80, expanded: 50997, fringe: 0, time elapsed: 15.695214033126831\n",
      "Best g(x) + h(x) = 79 + 304.2900085449219\n",
      "Turn: 90, expanded: 56384, fringe: 0, time elapsed: 17.890599489212036\n",
      "Best g(x) + h(x) = 89 + 296.3299865722656\n",
      "Turn: 100, expanded: 62407, fringe: 0, time elapsed: 20.044063568115234\n",
      "Best g(x) + h(x) = 99 + 288.8599853515625\n",
      "Turn: 110, expanded: 68247, fringe: 0, time elapsed: 22.182380437850952\n",
      "Best g(x) + h(x) = 109 + 282.0799865722656\n",
      "Turn: 120, expanded: 74921, fringe: 0, time elapsed: 24.22490358352661\n",
      "Best g(x) + h(x) = 119 + 273.79998779296875\n",
      "Turn: 130, expanded: 81129, fringe: 0, time elapsed: 26.25665593147278\n",
      "Best g(x) + h(x) = 129 + 266.6099853515625\n",
      "Turn: 140, expanded: 86800, fringe: 0, time elapsed: 28.59825038909912\n",
      "Best g(x) + h(x) = 139 + 256.8599853515625\n",
      "Turn: 150, expanded: 90727, fringe: 0, time elapsed: 30.805517435073853\n",
      "Best g(x) + h(x) = 149 + 251.9600067138672\n",
      "Turn: 160, expanded: 94875, fringe: 0, time elapsed: 32.79694128036499\n",
      "Best g(x) + h(x) = 159 + 241.6300048828125\n",
      "Turn: 170, expanded: 98846, fringe: 0, time elapsed: 34.72771501541138\n",
      "Best g(x) + h(x) = 169 + 231.47000122070312\n",
      "Turn: 180, expanded: 104608, fringe: 0, time elapsed: 36.88272762298584\n",
      "Best g(x) + h(x) = 179 + 216.57000732421875\n",
      "Turn: 190, expanded: 111169, fringe: 0, time elapsed: 39.02007293701172\n",
      "Best g(x) + h(x) = 189 + 206.1199951171875\n",
      "Turn: 200, expanded: 117500, fringe: 0, time elapsed: 41.07744026184082\n",
      "Best g(x) + h(x) = 199 + 193.7100067138672\n",
      "Turn: 210, expanded: 122736, fringe: 0, time elapsed: 43.211777210235596\n",
      "Best g(x) + h(x) = 209 + 181.38999938964844\n",
      "Turn: 220, expanded: 126734, fringe: 0, time elapsed: 45.30881714820862\n",
      "Best g(x) + h(x) = 219 + 170.72999572753906\n",
      "Turn: 230, expanded: 131481, fringe: 0, time elapsed: 47.39824843406677\n",
      "Best g(x) + h(x) = 229 + 157.83999633789062\n",
      "Turn: 240, expanded: 135643, fringe: 0, time elapsed: 49.24858593940735\n",
      "Best g(x) + h(x) = 239 + 149.5500030517578\n",
      "Turn: 250, expanded: 138709, fringe: 0, time elapsed: 51.06963896751404\n",
      "Best g(x) + h(x) = 249 + 138.89999389648438\n",
      "Turn: 260, expanded: 140855, fringe: 0, time elapsed: 52.99290180206299\n",
      "Best g(x) + h(x) = 259 + 129.83999633789062\n",
      "Turn: 270, expanded: 142610, fringe: 0, time elapsed: 54.81044578552246\n",
      "Best g(x) + h(x) = 269 + 119.18000030517578\n",
      "Turn: 280, expanded: 143878, fringe: 0, time elapsed: 56.90466594696045\n",
      "Best g(x) + h(x) = 279 + 109.2699966430664\n",
      "Turn: 290, expanded: 145152, fringe: 0, time elapsed: 58.68545341491699\n",
      "Best g(x) + h(x) = 289 + 103.62999725341797\n",
      "Turn: 300, expanded: 146971, fringe: 0, time elapsed: 60.10083794593811\n",
      "Best g(x) + h(x) = 299 + 100.48999786376953\n",
      "Turn: 310, expanded: 148541, fringe: 0, time elapsed: 61.63386869430542\n",
      "Best g(x) + h(x) = 309 + 96.37000274658203\n",
      "Turn: 320, expanded: 149949, fringe: 0, time elapsed: 63.23778176307678\n",
      "Best g(x) + h(x) = 319 + 89.0999984741211\n",
      "Turn: 330, expanded: 151796, fringe: 0, time elapsed: 64.84452295303345\n",
      "Best g(x) + h(x) = 329 + 77.83999633789062\n",
      "Turn: 340, expanded: 152876, fringe: 0, time elapsed: 66.40253853797913\n",
      "Best g(x) + h(x) = 339 + 75.62999725341797\n",
      "Turn: 350, expanded: 153556, fringe: 0, time elapsed: 67.81330943107605\n",
      "Best g(x) + h(x) = 349 + 72.69000244140625\n",
      "Turn: 360, expanded: 154424, fringe: 0, time elapsed: 69.22676658630371\n",
      "Best g(x) + h(x) = 359 + 70.44999694824219\n",
      "Turn: 370, expanded: 154684, fringe: 0, time elapsed: 70.85762572288513\n",
      "Best g(x) + h(x) = 369 + 69.58999633789062\n",
      "Turn: 380, expanded: 154846, fringe: 0, time elapsed: 72.03320693969727\n",
      "Best g(x) + h(x) = 379 + 69.58999633789062\n",
      "Turn: 390, expanded: 154935, fringe: 0, time elapsed: 73.65006160736084\n",
      "Best g(x) + h(x) = 389 + 66.12000274658203\n",
      "Turn: 400, expanded: 155890, fringe: 0, time elapsed: 74.69946146011353\n",
      "Best g(x) + h(x) = 399 + 51.220001220703125\n",
      "Turn: 410, expanded: 157913, fringe: 0, time elapsed: 76.32549262046814\n",
      "Best g(x) + h(x) = 409 + 49.470001220703125\n",
      "Turn: 420, expanded: 158797, fringe: 0, time elapsed: 77.64075136184692\n",
      "Best g(x) + h(x) = 419 + 49.470001220703125\n",
      "Turn: 430, expanded: 159211, fringe: 0, time elapsed: 78.81738066673279\n",
      "Best g(x) + h(x) = 429 + 49.470001220703125\n",
      "Turn: 440, expanded: 159611, fringe: 0, time elapsed: 80.0574324131012\n",
      "Best g(x) + h(x) = 439 + 38.86000061035156\n",
      "Turn: 450, expanded: 160933, fringe: 0, time elapsed: 81.7055492401123\n",
      "Best g(x) + h(x) = 449 + 30.0\n",
      "Turn: 460, expanded: 161513, fringe: 0, time elapsed: 82.99740386009216\n",
      "Best g(x) + h(x) = 459 + 29.100000381469727\n",
      "Turn: 470, expanded: 161811, fringe: 0, time elapsed: 84.31859588623047\n",
      "Best g(x) + h(x) = 469 + 29.100000381469727\n",
      "Turn: 480, expanded: 162027, fringe: 0, time elapsed: 85.54139709472656\n",
      "Best g(x) + h(x) = 479 + 29.100000381469727\n",
      "Turn: 490, expanded: 162143, fringe: 0, time elapsed: 86.83002519607544\n",
      "Best g(x) + h(x) = 489 + 22.450000762939453\n",
      "Turn: 500, expanded: 162243, fringe: 0, time elapsed: 88.33130693435669\n",
      "Best g(x) + h(x) = 499 + 20.780000686645508\n",
      "Turn: 510, expanded: 162321, fringe: 0, time elapsed: 89.65805053710938\n",
      "Best g(x) + h(x) = 509 + 20.780000686645508\n",
      "Turn: 520, expanded: 162415, fringe: 0, time elapsed: 90.79849457740784\n",
      "Best g(x) + h(x) = 519 + 20.780000686645508\n",
      "Turn: 530, expanded: 162479, fringe: 0, time elapsed: 92.32772779464722\n",
      "Best g(x) + h(x) = 529 + 13.220000267028809\n",
      "Turn: 540, expanded: 162531, fringe: 0, time elapsed: 93.68218398094177\n",
      "Best g(x) + h(x) = 539 + 12.529999732971191\n",
      "Turn: 550, expanded: 162579, fringe: 0, time elapsed: 94.79920244216919\n",
      "Best g(x) + h(x) = 549 + 12.529999732971191\n",
      "Turn: 560, expanded: 162630, fringe: 0, time elapsed: 95.96633768081665\n",
      "Best g(x) + h(x) = 559 + 12.529999732971191\n",
      "Turn: 570, expanded: 162680, fringe: 0, time elapsed: 97.2325427532196\n",
      "Best g(x) + h(x) = 569 + 5.429999828338623\n",
      "Turn: 580, expanded: 162820, fringe: 0, time elapsed: 98.65320920944214\n",
      "Best g(x) + h(x) = 579 + 4.039999961853027\n",
      "Turn: 590, expanded: 162885, fringe: 0, time elapsed: 99.59490823745728\n",
      "Best g(x) + h(x) = 589 + 4.039999961853027\n",
      "Turn: 600, expanded: 162938, fringe: 0, time elapsed: 100.8885133266449\n",
      "Best g(x) + h(x) = 599 + 4.039999961853027\n",
      "Turn: 610, expanded: 162996, fringe: 0, time elapsed: 102.1969347000122\n",
      "Best g(x) + h(x) = 609 + 3.3499999046325684\n",
      "Turn: 620, expanded: 163168, fringe: 0, time elapsed: 103.34756660461426\n",
      "Best g(x) + h(x) = 619 + 2.450000047683716\n",
      "Turn: 630, expanded: 163401, fringe: 0, time elapsed: 104.41322660446167\n",
      "Best g(x) + h(x) = 629 + 2.450000047683716\n",
      "Turn: 640, expanded: 163622, fringe: 0, time elapsed: 105.77330565452576\n",
      "Best g(x) + h(x) = 639 + 1.7999999523162842\n",
      "Turn: 650, expanded: 163707, fringe: 0, time elapsed: 107.00691223144531\n",
      "Best g(x) + h(x) = 649 + 1.1799999475479126\n",
      "Turn: 660, expanded: 163777, fringe: 0, time elapsed: 108.22977328300476\n",
      "Best g(x) + h(x) = 659 + 1.1799999475479126\n",
      "Turn: 670, expanded: 163840, fringe: 0, time elapsed: 109.38291358947754\n",
      "Best g(x) + h(x) = 669 + 0.5699999928474426\n",
      "Turn: 680, expanded: 163910, fringe: 0, time elapsed: 110.7889347076416\n",
      "Best g(x) + h(x) = 679 + 0.0\n",
      "Done.\n",
      "Solution length: 681\n"
     ]
    }
   ],
   "source": [
    "n = 7\n",
    "#x = basic_solved_state(N=1, n=n)\n",
    "#x = shuffle_along_axis(x, 1)\n",
    "#X = random_large_discs(n, 1, 4)\n",
    "\n",
    "#X[1] = 4\n",
    "#print(x.shape, X.shape)\n",
    "\n",
    "#X = np.array([int(val) for val in \"1 2 3 2 3 2 1 2 1 2 1 3 4 1 2 3 4 1 2 3 1 2 3 2 3 4 1 2 1 2 1 2 3 4 1 2 3 4 1 2 3 1 2 3 1 2 3 1 2 3\".split(\" \")])\n",
    "#x = np.array([[int(val) for val in \"1 2 1 0 1 7 1 3 1 2 2 2 2 2 3 3 2 3 3 4 3 4 4 3 4 5 4 5 4 4 5 7 5 5 5 6 6 6 6 6 5 6 1 1 7 7 6 7 7 7\".split(\" \")]], dtype=x.dtype)\n",
    "#print(x.shape, X.shape)\n",
    "\n",
    "#n = 3\n",
    "#x = np.array([[1, 1, 1, 3, 2, 2, 3, 3, 0, 2]], dtype=np.int8)\n",
    "#X = np.array( [1, 2, 3, 4, 1, 2, 3, 1, 2, 3])\n",
    "\n",
    "m = (n**2)\n",
    "\n",
    "#heuristic1 = SolvedHeuristic(n)\n",
    "heuristic1 = AirBerlinDistanceHeuristic(n, X, scale=1 / (n*n))\n",
    "#heuristic = BreadthHeuristic(n, depth=3, h_breadth=HammingHeuristic(n))\n",
    "heuristic2 = PairwiseDistanceHeuristic(n, scale=1 / (n*n))\n",
    "#heuristic = BreadthHeuristic(n, depth=4, h_breadth=PairwiseDistanceHeuristic(n, scale=1 / (n*n)))\n",
    "#heuristic1 = AdjacentDistanceHeuristic(n, 1)\n",
    "\n",
    "print(\"Initial state:\")\n",
    "print(\"Large Disks:\", X)\n",
    "print(\"Small Disks:\", x)\n",
    "\n",
    "#path = ida_star(X, x, heuristic2)\n",
    "\n",
    "#path = search(X, x, heuristic1, Fringe(), Expanded(), search_width=1, log_interval=1000, cost_scale=1)\n",
    "print()\n",
    "#path = search(X, x, heuristic2, Fringe(), Expanded(), search_width=1, log_interval=10000, cost_scale=1)\n",
    "print()\n",
    "#path = search(X, x, heuristic1, MinMaxFringe(maxsize=4096 * 4), Expanded(), search_width=1, log_interval=10000, cost_scale=1)\n",
    "#path = search(X, x, heuristic1, BeamFringe(), Expanded(), search_width=2**10, log_interval=10, cost_scale=1)\n",
    "path = search(X, x, heuristic2, BeamFringe(), Expanded(), search_width=2**10, log_interval=10, cost_scale=1)\n",
    "\n",
    "#path = search(X, x, heuristic1, BeamFringe(), Expanded(), search_width=2**12, log_interval=10, cost_scale=1)\n",
    "#path = search(X, x, heuristic2, BeamFringe(), Expanded(), search_width=2**18, log_interval=1, cost_scale=1)\n",
    "\n",
    "#path = search(X, x, heuristic2, search_width=1, log_interval=1000, cost_scale=0)\n",
    "\n",
    "#path = search(X, x, heuristic2, search_width=1, log_interval=1000, cost_scale=1)\n",
    "#path = heuristic_search(X, x, heuristic, search_width=128, log_interval=5000)"
   ]
  },
  {
   "cell_type": "code",
   "execution_count": null,
   "metadata": {},
   "outputs": [],
   "source": [
    "np.linspace(0, 1, 2)[:-1]"
   ]
  },
  {
   "cell_type": "code",
   "execution_count": 257,
   "metadata": {},
   "outputs": [
    {
     "data": {
      "application/vnd.jupyter.widget-view+json": {
       "model_id": "b2f57cbc76924aa086250a5ed5e938ec",
       "version_major": 2,
       "version_minor": 0
      },
      "text/plain": [
       "interactive(children=(IntSlider(value=340, description='i', max=681), FloatSlider(value=0.5, description='t', …"
      ]
     },
     "metadata": {},
     "output_type": "display_data"
    }
   ],
   "source": [
    "from ipywidgets import interact\n",
    "\n",
    "ring_plot = RingPlot(n, cmap=\"gist_rainbow\")\n",
    "\n",
    "actions = get_actions(path)\n",
    "hvals = heuristic1(X, path, get_xvals(path))\n",
    "\n",
    "@interact(i=(0, path.shape[0]-1), t=(0.0, 1.0, 0.01))\n",
    "def show_path(i, t):\n",
    "    action = actions[i] if i != (path.shape[0]-1) else 0\n",
    "    fig, ax = ring_plot.get_fig(X, path[i], action, hvals[i], i, t)\n",
    "    plt.show()"
   ]
  },
  {
   "cell_type": "code",
   "execution_count": null,
   "metadata": {},
   "outputs": [],
   "source": [
    "plt.close(\"all\")\n",
    "import gc\n",
    "gc.collect()"
   ]
  },
  {
   "cell_type": "code",
   "execution_count": null,
   "metadata": {},
   "outputs": [],
   "source": [
    "ring_plot = RingPlot(n, cmap=\"gist_rainbow\")\n",
    "hvals = heuristic(X, path, get_xvals(path))\n",
    "ring_plot.save_frames(X, path, hvals, 5, \"solutions/video/n9v2/\", start_from=1100)"
   ]
  },
  {
   "cell_type": "code",
   "execution_count": null,
   "metadata": {},
   "outputs": [],
   "source": [
    "import subprocess\n",
    "\n",
    "name = \"n9v1\"\n",
    "frames_path = f\"/solutions/video/{name}/\"\n",
    "#os.chdir(os.getcwd())\n",
    "#os.chdir(frames_path)\n",
    "subprocess.call([\n",
    "    'ffmpeg', '-framerate', '60', '-i', 'frame%02d.png', '-r', '60', '-pix_fmt', 'yuv720p',\n",
    "    f'{name}.mp4'\n",
    "])"
   ]
  },
  {
   "cell_type": "code",
   "execution_count": null,
   "metadata": {},
   "outputs": [],
   "source": [
    "name = \"n9v2.npy\"\n",
    "out = np.array([X, path], dtype=np.object)\n",
    "np.save(f\"solutions/{name}\", out)"
   ]
  },
  {
   "cell_type": "code",
   "execution_count": null,
   "metadata": {},
   "outputs": [],
   "source": [
    "name = \"n9v2.npy\"\n",
    "load = np.load(f\"solutions/{name}\", allow_pickle=True)\n",
    "X = load[0]\n",
    "path = load[1]\n",
    "n = int(np.sqrt(path.shape[1] - 1))"
   ]
  },
  {
   "cell_type": "code",
   "execution_count": null,
   "metadata": {},
   "outputs": [],
   "source": [
    "# Test the Expanded class\n",
    "\n",
    "\n",
    "\n",
    "\n"
   ]
  },
  {
   "cell_type": "code",
   "execution_count": null,
   "metadata": {},
   "outputs": [],
   "source": [
    "import torch\n",
    "import time\n",
    "import numpy as np\n",
    "\n",
    "x = torch.randperm(10000000)\n",
    "\n",
    "t = time.time()\n",
    "torch.sort(x)\n",
    "cpu_time = time.time() - t\n",
    "\n",
    "print(\"cpu time\", cpu_time)\n",
    "\n",
    "x = x.cuda()\n",
    "\n",
    "t = time.time()\n",
    "torch.sort(x)\n",
    "gpu_time = time.time() - t\n",
    "print(\"gpu time\", gpu_time)\n",
    "\n",
    "print(f\"gpu is {round(cpu_time / gpu_time, 1)} times faster than cpu\")"
   ]
  },
  {
   "cell_type": "code",
   "execution_count": null,
   "metadata": {},
   "outputs": [],
   "source": [
    "import torch\n",
    "\n",
    "for row in list(torch.arange(4*4).reshape(4, 4)):\n",
    "    row.byte()"
   ]
  },
  {
   "cell_type": "code",
   "execution_count": 13,
   "metadata": {},
   "outputs": [
    {
     "name": "stdout",
     "output_type": "stream",
     "text": [
      "Heuristic is not admissible for state:\n",
      "[2 3 1 1 1 2 2 0 3 3]\n",
      "True cost to solution: 2 h(x): 2.444444444444444\n",
      "\n",
      "Heuristic is not consistent for action:\n",
      "[[2 0 1 3 1 2 1 2 3 3]\n",
      " [2 3 1 0 1 2 1 2 3 3]]\n",
      "The heuristic decreased from 4.333333333333333 to 3.222222222222222\n",
      "\n",
      "Heuristic is not consistent for action:\n",
      "[[2 3 1 1 1 2 2 0 3 3]\n",
      " [0 3 1 1 1 2 2 2 3 3]]\n",
      "The heuristic decreased from 2.444444444444444 to 0.6666666666666666\n",
      "\n",
      "Heuristic is not admissible for state:\n",
      "[3 1 1 1 2 0 2 3 3 2]\n",
      "True cost to solution: 2 h(x): 2.333333333333333\n",
      "\n",
      "Heuristic is not consistent for action:\n",
      "[[3 1 1 1 2 0 2 3 3 2]\n",
      " [3 1 1 1 2 2 2 3 3 0]]\n",
      "The heuristic decreased from 2.333333333333333 to 0.6666666666666666\n",
      "\n",
      "Heuristic is not consistent for action:\n",
      "[[2 3 0 3 1 1 3 1 2 2]\n",
      " [2 3 3 3 1 1 0 1 2 2]]\n",
      "The heuristic decreased from 2.444444444444444 to 0.6666666666666666\n",
      "\n",
      "Heuristic is not consistent for action:\n",
      "[[2 2 3 0 3 1 1 2 1 3]\n",
      " [2 2 3 3 3 1 1 2 1 0]]\n",
      "The heuristic decreased from 3.1111111111111107 to 1.8888888888888888\n",
      "\n",
      "Heuristic is not admissible for state:\n",
      "[2 3 1 3 2 1 1 0 3 2]\n",
      "True cost to solution: 4 h(x): 4.555555555555555\n",
      "\n",
      "Heuristic is not admissible for state:\n",
      "[2 3 1 3 2 1 0 1 3 2]\n",
      "True cost to solution: 3 h(x): 4.555555555555555\n",
      "\n",
      "Heuristic is not admissible for state:\n",
      "[2 3 0 3 2 1 1 1 3 2]\n",
      "True cost to solution: 2 h(x): 3.5555555555555554\n",
      "\n",
      "Heuristic is not admissible for state:\n",
      "[2 3 3 3 2 1 1 1 0 2]\n",
      "True cost to solution: 1 h(x): 2.111111111111111\n",
      "\n",
      "Heuristic is not consistent for action:\n",
      "[[2 3 0 3 2 1 1 1 3 2]\n",
      " [2 3 3 3 2 1 1 1 0 2]]\n",
      "The heuristic decreased from 3.5555555555555554 to 2.111111111111111\n",
      "\n",
      "Heuristic is not consistent for action:\n",
      "[[2 3 3 3 2 1 1 1 0 2]\n",
      " [2 3 3 3 0 1 1 1 2 2]]\n",
      "The heuristic decreased from 2.111111111111111 to 0.0\n",
      "\n"
     ]
    }
   ],
   "source": [
    "#test_heuristic(\"PairwiseDistanceHeuristic(n, scale=1 / (n*n))\")\n",
    "#test_heuristic(\"AdjacentDistanceHeuristic(n, scale=1)\")\n",
    "#test_heuristic(\"HammingHeuristic(n)\")\n",
    "#test_heuristic(\"BreadthHeuristic(n, depth=7, h_breadth=HammingHeuristic(n))\")\n",
    "#test_heuristic(\"BreadthHeuristic(n, depth=4, h_breadth=PairwiseDistanceHeuristic(n, scale=1 / (n*n)))\")\n",
    "#test_heuristic(\"BreadthHeuristic(n, depth=3, h_breadth=AdjacentDistanceHeuristic(n, scale=1))\")\n",
    "\n",
    "test_heuristic(\"AirBerlinDistanceHeuristic(n, X, scale=1 / (n*n))\")\n",
    "#test_heuristic(\"BreadthHeuristic(n, depth=7, h_breadth=AirBerlinDistanceHeuristic(n, X, scale=1 / (n*n)))\")"
   ]
  },
  {
   "cell_type": "code",
   "execution_count": null,
   "metadata": {},
   "outputs": [],
   "source": [
    "path = \"G:/Github Repositories/Ring-Sorting-AI/solutions/video/n9v1/\"\n",
    "files = os.listdir(path)\n",
    "\n",
    "for file in files:\n",
    "    num = int(file[5:-4])\n",
    "    new_name = f\"frame{num:06}.png\"\n",
    "    os.rename(path + file, path + new_name)\n"
   ]
  }
 ],
 "metadata": {
  "kernelspec": {
   "display_name": "Python 3",
   "language": "python",
   "name": "python3"
  },
  "language_info": {
   "codemirror_mode": {
    "name": "ipython",
    "version": 3
   },
   "file_extension": ".py",
   "mimetype": "text/x-python",
   "name": "python",
   "nbconvert_exporter": "python",
   "pygments_lexer": "ipython3",
   "version": "3.7.6"
  }
 },
 "nbformat": 4,
 "nbformat_minor": 4
}

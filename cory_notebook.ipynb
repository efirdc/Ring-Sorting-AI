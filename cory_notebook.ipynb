{
 "cells": [
  {
   "cell_type": "code",
   "execution_count": 2,
   "metadata": {},
   "outputs": [
    {
     "name": "stdout",
     "output_type": "stream",
     "text": [
      "The autoreload extension is already loaded. To reload it, use:\n",
      "  %reload_ext autoreload\n"
     ]
    }
   ],
   "source": [
    "import numpy as np\n",
    "from air_berlin import *\n",
    "\n",
    "%load_ext autoreload\n",
    "%autoreload 2"
   ]
  },
  {
   "cell_type": "code",
   "execution_count": null,
   "metadata": {},
   "outputs": [],
   "source": [
    "n = 3\n",
    "x = basic_solved_state(1, n)\n",
    "x = shuffle_along_axis(x, 1)\n",
    "xvals = get_xvals(x)\n",
    "X = random_large_discs(n)\n",
    "print(X)\n",
    "print(x)"
   ]
  },
  {
   "cell_type": "code",
   "execution_count": null,
   "metadata": {},
   "outputs": [],
   "source": [
    "x = [[1, 1, 1, 2, 3, 0, 2, 2, 3, 3]]\n",
    "d = x - np.roll(x, 1)\n",
    "print(d < 0)"
   ]
  },
  {
   "cell_type": "code",
   "execution_count": null,
   "metadata": {},
   "outputs": [],
   "source": [
    "D = mod_difference_matrix(5)\n",
    "print(D)"
   ]
  },
  {
   "cell_type": "code",
   "execution_count": null,
   "metadata": {},
   "outputs": [],
   "source": [
    "X = np.array([1, 2, 3, 1, 2, 3, 4, 1, 2, 3])\n",
    "x = np.array([[1, 2, 3, 1, 2, 3, 0, 1, 2, 3]])\n",
    "xvals = get_xvals(x)"
   ]
  },
  {
   "cell_type": "code",
   "execution_count": null,
   "metadata": {},
   "outputs": [],
   "source": [
    "#x = x[2:3]\n",
    "xvals = xvals[2:3]"
   ]
  },
  {
   "cell_type": "code",
   "execution_count": null,
   "metadata": {},
   "outputs": [],
   "source": [
    "x, xvals = expand(X, x, xvals)\n",
    "print(x.shape)\n",
    "print(X)\n",
    "print(x)"
   ]
  },
  {
   "cell_type": "code",
   "execution_count": null,
   "metadata": {},
   "outputs": [],
   "source": [
    "n = 4\n",
    "m = n*n + 1\n",
    "x = basic_solved_state(1, n)\n",
    "x = shuffle_along_axis(x, 1)"
   ]
  },
  {
   "cell_type": "code",
   "execution_count": null,
   "metadata": {},
   "outputs": [],
   "source": [
    "expanded = Expanded()"
   ]
  },
  {
   "cell_type": "code",
   "execution_count": null,
   "metadata": {},
   "outputs": [
    {
     "name": "stdout",
     "output_type": "stream",
     "text": [
      "Initial state:\n",
      "Large Disks: [3 2 2 1 1 1 4 2 2 1 1 4 4 2 3 4 3 2 2 3 1 1 3 1 2 1 1 3 3 3 3 1 1 2 1 1 1\n",
      " 4 3 4 2 1 4 3 2 2 3 3 3 2 3 2 2 1 4 3 3 4 3 4 3 2 4 4 1 3 3 1 4 4 1 3 3 2\n",
      " 4 1 4 1 2 3 4 4 4 2 1 4 3 2 3 2 3 1 4 2 4 3 2 4 2 1 2 2 1 4 2 1 2 3 2 1 4\n",
      " 4 2 1 2 4 4 2 4 1 3 1 4 3 4 3 2 4 1 3 3 1 2 1 2 1 1 1 3 3 4 3 3 4 4 2 3 2\n",
      " 4 3 2 4 3 2 3 1 4 2 4 3 3 4 4 1 2 2 2 2 2 1 4 2 1 3 3 4 4 4 4 3 1 4 3 1 2\n",
      " 3 3 1 4 4 3 2 1 3 3 4 1 3 2 4 3 3 4 4 3 1 3 2 4 3 2 3 3 4 3 4 2 1 2 2 4 2\n",
      " 3 3 3 4 3 2 1 2 4 2 4 4 1 3 2 3 1 4 3 1 1 2 1 3 2 3 3 2 3 1 4 2 4 2 3 3 4\n",
      " 1 3 4 4 1 2 1 1 1 2 4 2 2 4 4 2 3 4 3 3 3 3 4 2 3 4 3 3 4 4 1 3 3 2 4 1 1\n",
      " 1 2 4 2 2 2 1 4 2 3 3 4 3 3 4 2 2 1 4 3 2 2 4 3 2 1 2 1 4 2 2 3 1 2 4 1 2\n",
      " 3 2 3 1 3 3 4 1 1 2 1 3 4 2 4 1 1 3 4 1 2 4 4 2 3 1 4 4 2 1 4 3 3 3 2 1 1\n",
      " 2 4 3 1 2 3 1 3 3 1 2 3 1 4 1 2 3 1 2 4 1 2 4 3 3 4 3 1 1 2 3 1 3 1 2 4 4\n",
      " 3 1 4 3 4 4 2 4 1 1 3 3 2 1 3 4 4 3 3 3 3 2 2 1 3 3 4 2 2 2 4 1 4 3 2 1 4\n",
      " 1 4 2 1 2 2 2 2 1 2 1 2 1 4 1 3 1 3 2 1 4 4 1 1 2 1 4 3 2 1 3 1 3 3 3 2 2\n",
      " 3 4 3 4 1 3 4 2 2 1 4 4 2 1 1 1 2 2 2 1 3 1 2 2 3 4 2 1 4 3 1 2 4 3 3 2 2\n",
      " 1 3 2 3 3 2 1 3 3 2 3 4 3 3 4 1 3 1 2 4 3 2 1 4 3 2 1 2 4 2 2 3 2 3 1 1 1\n",
      " 3 4 3 2 4 4 2 2 4 3 4 1 1 3 1 2 2 2 1 3 1 4 4 1 2 1 1 1 3 3 2 3 2 4 1 2 3\n",
      " 4 4 1 4 1 2 4 1 4 3 3 3 2 1 3 4 2 3 3 4 1 1 3 4 2 2 1 2 1 4 4 3 3 1]\n",
      "Small Disks: [[13 13  8  9  7 14 20  2  8 21 12 18 10  7 25 18 21 22 14  5 21 18  8  8\n",
      "   4  6 22  9 24  9 13 14  4 18  9  2 17 25 14  7 21 18 11  6 19 20 11  6\n",
      "   6 13  3 16 24  8 19 17  2 14 22  9 20 11 22  2 21 14 25  6 18 17  4 15\n",
      "   9 20 17 25  9 17 14 16  6  4  6 25 15 19 11 11 10 11 14 13 11 15 18 23\n",
      "   4 23 23 23 17  5 21 18  7 16  3  1  9 17  7 23  5  4 22 10 11  1 18  8\n",
      "   8 17  5  8  7 15 12 18 14 24 10 16 13 23  2 21 20 15  7 23  4  6  1 25\n",
      "  21  4  1 15 19  4  7 12  9  9 18  4 12 10 12 14 15 24 15  1  7 14  2 23\n",
      "   8  8 12  8 10 24  5 22 16 18 20  2  4 24  7 12 19 13 11 16 24 14 24 17\n",
      "  13 11 12 24  2 12 14 13 10 15  7 25 21 20 17  7  3 23 22 12 11  2 25  5\n",
      "  23 22  8 22 18 19 12 16 15 20 10  3 22 13  5  7  2  4 18 22 10 25  1 17\n",
      "  16 10 19 14 12  5  9 25  4 23 11  7  0  2  4 11  5 13 21 19  5  9 15 23\n",
      "  17  2 24 17 13  9  5 12 24  8  9 14  9  1 20 25 11  8 25  4  3  3 20 20\n",
      "  11 20  6 18 19 21 20  5 16 19 10 23 11  5 19 15 13 24  5 19  2 13 20 11\n",
      "   3 16 14 20  3  6 22 17 15 12 22 22 17 14  6 23 16 19 22 12  3  5  2 14\n",
      "   3  3  7  1 23  1  9 12 16 19  7  1  8 20 15 21  1 15 12  5  8 19  1 17\n",
      "   5 19 18 18 15 22 18  4 19 14  8  6  2  5 23  5 23 20 19 22 21 16 16  3\n",
      "  13 25 16 14 16  6 20  2 17  4 25 24 15  4 13 13 25  2 21  1  1  3 11  1\n",
      "   4 20 22 23  6 25 23  7 15 24  1  1 14 21 25 13 21 19  4  5 10 19  2 22\n",
      "  22 23  3 19 21  1  4  8 10  5  1 17 22 10 25 10 25 23  7 18 16 19 21  7\n",
      "  22 21  7 24 15  3  2  3  1 15 19  6 13 24 23  8 10 10  4  3  8 16 10  9\n",
      "   9 21 24 16  7 22 12  7 18 16 13 24  1 17 24 23  6  2 22  1  4  1 10 16\n",
      "   5 24 10  6 21 10 13 20  6  5 16 13 15  6 17 17  1  2 12  6  5  4  6 18\n",
      "   7  9 16 24 15 14  8 20 11 25 21 10 17 25 20  9 16  3 23 11  2 13 19  8\n",
      "  11  1 17  3 18 21  6  3  6 14  6 23  2  5 11 12 25 10 15 13  3 18  9 20\n",
      "  15 17  2  3  9 14  9 24 21 25  6 20 17 24 12 25 14  9 20 18  3 12  9  8\n",
      "  10 12 11 24 11 18  7 19  3 24  8 12 13  8 25 15  4 22  3  2 10 16 12  7\n",
      "  11 21]]\n",
      "Turn: 0, expanded: 0, fringe: 1, time elapsed: 0.0\n",
      "Best g(x) + h(x) = 0 + 82638.84375\n",
      "Turn: 100, expanded: 4051, fringe: 204, time elapsed: 238.99718809127808\n",
      "Best g(x) + h(x) = 100 + 82608.9609375\n",
      "Turn: 200, expanded: 6831, fringe: 172, time elapsed: 489.74144649505615\n",
      "Best g(x) + h(x) = 200 + 82574.6875\n",
      "Turn: 300, expanded: 10047, fringe: 198, time elapsed: 719.8229193687439\n",
      "Best g(x) + h(x) = 300 + 82546.7421875\n",
      "Turn: 400, expanded: 15306, fringe: 204, time elapsed: 946.0686688423157\n",
      "Best g(x) + h(x) = 400 + 82523.2421875\n",
      "Turn: 500, expanded: 19315, fringe: 156, time elapsed: 1161.046228647232\n",
      "Best g(x) + h(x) = 500 + 82510.0078125\n",
      "Turn: 600, expanded: 24155, fringe: 224, time elapsed: 1406.576448917389\n",
      "Best g(x) + h(x) = 600 + 82478.9375\n",
      "Turn: 700, expanded: 28786, fringe: 148, time elapsed: 1669.4410064220428\n",
      "Best g(x) + h(x) = 700 + 82451.796875\n",
      "Turn: 800, expanded: 32145, fringe: 212, time elapsed: 1943.62957239151\n",
      "Best g(x) + h(x) = 800 + 82434.171875\n"
     ]
    }
   ],
   "source": [
    "n = 25\n",
    "x = basic_solved_state(N=1, n=n)\n",
    "x = shuffle_along_axis(x, 1)\n",
    "X = random_large_discs(n)\n",
    "\n",
    "#n = 3\n",
    "#x = np.array([[1, 1, 1, 3, 2, 2, 3, 3, 0, 2]], dtype=np.int8)\n",
    "#X = np.array( [1, 2, 3, 4, 1, 2, 3, 1, 2, 3])\n",
    "\n",
    "m = (n**2)\n",
    "\n",
    "#heuristic = SolvedHeuristic(n)\n",
    "#heuristic = BreadthHeuristic(n, depth=3, h_breadth=HammingHeuristic(n))\n",
    "heuristic = PairwiseDistanceHeuristic(n, scale=1 / (n*n))\n",
    "#heuristic = BreadthHeuristic(n, depth=4, h_breadth=PairwiseDistanceHeuristic(n, scale=1 / (n*n)))\n",
    "#heuristic = AdjacentDistanceHeuristic(n, 1)\n",
    "\n",
    "print(\"Initial state:\")\n",
    "print(\"Large Disks:\", X)\n",
    "print(\"Small Disks:\", x)\n",
    "\n",
    "#path = ida_star2(X, x, heuristic)\n",
    "\n",
    "path = search(X, x, heuristic, BeamFringe(), Expanded(), search_width=64, log_interval=100, cost_scale=1)\n",
    "\n",
    "#path = search(X, x, heuristic2, search_width=1, log_interval=1000, cost_scale=0)\n",
    "\n",
    "#path = search(X, x, heuristic2, search_width=1, log_interval=1000, cost_scale=1)\n",
    "#path = heuristic_search(X, x, heuristic, search_width=128, log_interval=5000)"
   ]
  },
  {
   "cell_type": "code",
   "execution_count": null,
   "metadata": {},
   "outputs": [],
   "source": [
    "np.linspace(0, 1, 2)[:-1]"
   ]
  },
  {
   "cell_type": "code",
   "execution_count": null,
   "metadata": {},
   "outputs": [],
   "source": [
    "from ipywidgets import interact\n",
    "\n",
    "ring_plot = RingPlot(n, cmap=\"gist_rainbow\")\n",
    "\n",
    "actions = get_actions(path)\n",
    "hvals = heuristic(X, path, get_xvals(path))\n",
    "\n",
    "@interact(i=(0, path.shape[0]-1), t=(0.0, 1.0, 0.01))\n",
    "def show_path(i, t):\n",
    "    action = actions[i] if i != (path.shape[0]-1) else 0\n",
    "    fig, ax = ring_plot.get_fig(X, path[i], action, hvals[i], i, t)\n",
    "    plt.show()"
   ]
  },
  {
   "cell_type": "code",
   "execution_count": null,
   "metadata": {},
   "outputs": [],
   "source": [
    "plt.close(\"all\")\n",
    "import gc\n",
    "gc.collect()"
   ]
  },
  {
   "cell_type": "code",
   "execution_count": null,
   "metadata": {},
   "outputs": [],
   "source": [
    "ring_plot = RingPlot(n, cmap=\"gist_rainbow\")\n",
    "hvals = heuristic(X, path, get_xvals(path))\n",
    "ring_plot.save_frames(X, path, hvals, 5, \"solutions/video/n9v2/\", start_from=1100)"
   ]
  },
  {
   "cell_type": "code",
   "execution_count": null,
   "metadata": {},
   "outputs": [],
   "source": [
    "import subprocess\n",
    "\n",
    "name = \"n9v1\"\n",
    "frames_path = f\"/solutions/video/{name}/\"\n",
    "#os.chdir(os.getcwd())\n",
    "#os.chdir(frames_path)\n",
    "subprocess.call([\n",
    "    'ffmpeg', '-framerate', '60', '-i', 'frame%02d.png', '-r', '60', '-pix_fmt', 'yuv720p',\n",
    "    f'{name}.mp4'\n",
    "])"
   ]
  },
  {
   "cell_type": "code",
   "execution_count": null,
   "metadata": {},
   "outputs": [],
   "source": [
    "name = \"n9v2.npy\"\n",
    "out = np.array([X, path], dtype=np.object)\n",
    "np.save(f\"solutions/{name}\", out)"
   ]
  },
  {
   "cell_type": "code",
   "execution_count": null,
   "metadata": {},
   "outputs": [],
   "source": [
    "name = \"n9v2.npy\"\n",
    "load = np.load(f\"solutions/{name}\", allow_pickle=True)\n",
    "X = load[0]\n",
    "path = load[1]\n",
    "n = int(np.sqrt(path.shape[1] - 1))"
   ]
  },
  {
   "cell_type": "code",
   "execution_count": null,
   "metadata": {},
   "outputs": [],
   "source": [
    "# Test the Expanded class\n",
    "\n",
    "from itertools import permutations\n",
    "\n",
    "x = list(basic_solved_state(1, 3)[0])\n",
    "\n",
    "normal_set = set()\n",
    "expanded = Expanded()\n",
    "\n",
    "iterations = 0\n",
    "TP = 0\n",
    "FP = 0\n",
    "TN = 0\n",
    "FN = 0\n",
    "2\n",
    "for p in permutations(x):\n",
    "    iterations += 1\n",
    "    \n",
    "    x = np.array(p)[np.newaxis]\n",
    "    \n",
    "    if p in normal_set: \n",
    "        if expanded.contains(x)[0]:\n",
    "            TN += 1\n",
    "        else:\n",
    "            FN += 1\n",
    "    else:\n",
    "        if not expanded.contains(x)[0]:\n",
    "            TP += 1\n",
    "        else:\n",
    "            print(p)\n",
    "            FP += 1\n",
    "            \n",
    "    normal_set.add(p)\n",
    "    expanded.add(x)\n",
    "    \n",
    "    if iterations % 50000 == 0:\n",
    "        print(f\"iter={iterations} TN={TN}, FN={FN}, TP={TP}, FP={FP}\")\n",
    "        \n",
    "    if iterations == 1000000:\n",
    "        break\n"
   ]
  },
  {
   "cell_type": "code",
   "execution_count": null,
   "metadata": {},
   "outputs": [],
   "source": [
    "import torch\n",
    "import time\n",
    "import numpy as np\n",
    "\n",
    "x = torch.randperm(10000000)\n",
    "\n",
    "t = time.time()\n",
    "torch.sort(x)\n",
    "cpu_time = time.time() - t\n",
    "\n",
    "print(\"cpu time\", cpu_time)\n",
    "\n",
    "x = x.cuda()\n",
    "\n",
    "t = time.time()\n",
    "torch.sort(x)\n",
    "gpu_time = time.time() - t\n",
    "print(\"gpu time\", gpu_time)\n",
    "\n",
    "print(f\"gpu is {round(cpu_time / gpu_time, 1)} times faster than cpu\")"
   ]
  },
  {
   "cell_type": "code",
   "execution_count": null,
   "metadata": {},
   "outputs": [],
   "source": [
    "import torch\n",
    "\n",
    "for row in list(torch.arange(4*4).reshape(4, 4)):\n",
    "    row.byte()"
   ]
  },
  {
   "cell_type": "code",
   "execution_count": null,
   "metadata": {},
   "outputs": [],
   "source": [
    "#test_heuristic(\"PairwiseDistanceHeuristic(n, scale=1 / (4*n*n))\")\n",
    "#test_heuristic(\"AdjacentDistanceHeuristic(n, scale=1)\")\n",
    "#test_heuristic(\"HammingHeuristic(n)\")\n",
    "#test_heuristic(\"BreadthHeuristic(n, depth=7, h_breadth=HammingHeuristic(n))\")\n",
    "test_heuristic(\"BreadthHeuristic(n, depth=4, h_breadth=PairwiseDistanceHeuristic(n, scale=1 / (n*n)))\")\n",
    "#test_heuristic(\"BreadthHeuristic(n, depth=3, h_breadth=AdjacentDistanceHeuristic(n, scale=1))\")"
   ]
  },
  {
   "cell_type": "code",
   "execution_count": null,
   "metadata": {},
   "outputs": [],
   "source": [
    "path = \"G:/Github Repositories/Ring-Sorting-AI/solutions/video/n9v1/\"\n",
    "files = os.listdir(path)\n",
    "\n",
    "for file in files:\n",
    "    num = int(file[5:-4])\n",
    "    new_name = f\"frame{num:06}.png\"\n",
    "    os.rename(path + file, path + new_name)\n"
   ]
  }
 ],
 "metadata": {
  "kernelspec": {
   "display_name": "Python 3",
   "language": "python",
   "name": "python3"
  },
  "language_info": {
   "codemirror_mode": {
    "name": "ipython",
    "version": 3
   },
   "file_extension": ".py",
   "mimetype": "text/x-python",
   "name": "python",
   "nbconvert_exporter": "python",
   "pygments_lexer": "ipython3",
   "version": "3.7.6"
  }
 },
 "nbformat": 4,
 "nbformat_minor": 4
}

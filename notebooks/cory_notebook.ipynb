{
 "cells": [
  {
   "cell_type": "code",
   "execution_count": 1,
   "metadata": {},
   "outputs": [],
   "source": [
    "import numpy as np\n",
    "from air_berlin import *\n",
    "\n",
    "%load_ext autoreload\n",
    "%autoreload 2"
   ]
  },
  {
   "cell_type": "code",
   "execution_count": 2,
   "metadata": {},
   "outputs": [
    {
     "name": "stdout",
     "output_type": "stream",
     "text": [
      "[3 1 2 2 3 3 2 1 1 1]\n",
      "[1 0 2 2 3 2 3 1 1 3]\n"
     ]
    }
   ],
   "source": [
    "n = 3\n",
    "x = basic_solved_state(1, n)\n",
    "x = shuffle_along_axis(x, 1)\n",
    "xvals = get_xvals(x)\n",
    "X = random_large_discs(n)\n",
    "print(X)\n",
    "print(x[0])"
   ]
  },
  {
   "cell_type": "code",
   "execution_count": 13,
   "metadata": {},
   "outputs": [
    {
     "name": "stdout",
     "output_type": "stream",
     "text": [
      "[[0 1 2 3 4]\n",
      " [4 0 1 2 3]\n",
      " [3 4 0 1 2]\n",
      " [2 3 4 0 1]\n",
      " [1 2 3 4 0]]\n"
     ]
    }
   ],
   "source": [
    "D = mod_difference_matrix(5)\n",
    "print(D)"
   ]
  },
  {
   "cell_type": "code",
   "execution_count": null,
   "metadata": {},
   "outputs": [],
   "source": [
    "X = np.array([1, 2, 3, 1, 2, 3, 4, 1, 2, 3])\n",
    "x = np.array([[1, 2, 3, 1, 2, 3, 0, 1, 2, 3]])\n",
    "xvals = get_xvals(x)"
   ]
  },
  {
   "cell_type": "code",
   "execution_count": null,
   "metadata": {},
   "outputs": [],
   "source": [
    "#x = x[2:3]\n",
    "xvals = xvals[2:3]"
   ]
  },
  {
   "cell_type": "code",
   "execution_count": null,
   "metadata": {},
   "outputs": [],
   "source": [
    "x, xvals = expand(X, x, xvals)\n",
    "print(x.shape)\n",
    "print(X)\n",
    "print(x)"
   ]
  },
  {
   "cell_type": "code",
   "execution_count": null,
   "metadata": {},
   "outputs": [],
   "source": [
    "n = 4\n",
    "m = n*n + 1\n",
    "x = basic_solved_state(1, n)\n",
    "x = shuffle_along_axis(x, 1)"
   ]
  },
  {
   "cell_type": "code",
   "execution_count": null,
   "metadata": {},
   "outputs": [],
   "source": [
    "expanded = Expanded()"
   ]
  },
  {
   "cell_type": "code",
   "execution_count": 49,
   "metadata": {},
   "outputs": [
    {
     "name": "stdout",
     "output_type": "stream",
     "text": [
      "Initial state:\n",
      "Large Disks: [1 2 3 4 1 2 3 1 2 3]\n",
      "Small Disks: [[1 1 1 3 2 2 3 3 0 2]]\n",
      "Turn: 0, expanded: 0, fringe: 0\n",
      "Best g(x) + h(x) = 0 + 7.0\n",
      "State: [1 1 1 3 2 2 3 3 0 2]\n",
      "\n",
      "Done.\n",
      "Solution length: 4\n"
     ]
    }
   ],
   "source": [
    "#n = 5\n",
    "#x = basic_solved_state(N=1, n=n)\n",
    "#x = shuffle_along_axis(x, 1)\n",
    "#X = random_large_discs(n)\n",
    "\n",
    "n = 3\n",
    "x = np.array([[1, 1, 1, 3, 2, 2, 3, 3, 0, 2]], dtype=np.int8)\n",
    "X = np.array( [1, 2, 3, 4, 1, 2, 3, 1, 2, 3])\n",
    "\n",
    "m = (n**2)\n",
    "heuristic = PairwiseDistanceHeuristic(n, scale=1 / (m - 1))\n",
    "\n",
    "print(\"Initial state:\")\n",
    "print(\"Large Disks:\", X)\n",
    "print(\"Small Disks:\", x)\n",
    "\n",
    "path = search(X, x, heuristic, search_width=1, log_interval=1000, cost_scale=1)\n",
    "#path = heuristic_search(X, x, heuristic, search_width=128, log_interval=5000)"
   ]
  },
  {
   "cell_type": "code",
   "execution_count": 50,
   "metadata": {},
   "outputs": [
    {
     "name": "stdout",
     "output_type": "stream",
     "text": [
      "[[1 1 1 3 2 2 3 3 0 2]\n",
      " [1 1 1 3 2 2 0 3 3 2]\n",
      " [1 1 1 0 2 2 3 3 3 2]\n",
      " [1 1 1 2 2 2 3 3 3 0]]\n"
     ]
    }
   ],
   "source": [
    "print(path)"
   ]
  },
  {
   "cell_type": "code",
   "execution_count": 35,
   "metadata": {},
   "outputs": [
    {
     "data": {
      "application/vnd.jupyter.widget-view+json": {
       "model_id": "99c6f8c4e495441b908bb0b33eefa0de",
       "version_major": 2,
       "version_minor": 0
      },
      "text/plain": [
       "interactive(children=(IntSlider(value=1, description='i', max=2), Output()), _dom_classes=('widget-interact',)…"
      ]
     },
     "metadata": {},
     "output_type": "display_data"
    }
   ],
   "source": [
    "from ipywidgets import interact\n",
    "\n",
    "ring_plot = RingPlot(n, cmap=\"rainbow\")\n",
    "\n",
    "@interact(i=(0, path.shape[0]-1))\n",
    "def show_path(i):\n",
    "    ring_plot.show(path[i])"
   ]
  },
  {
   "cell_type": "code",
   "execution_count": null,
   "metadata": {},
   "outputs": [],
   "source": [
    "name = \"n25v1.npy\"\n",
    "out = np.array([X, path], dtype=np.object)\n",
    "#np.save(f\"solutions/{name}\", out)"
   ]
  },
  {
   "cell_type": "code",
   "execution_count": null,
   "metadata": {},
   "outputs": [],
   "source": [
    "name = \"n15v1.npy\"\n",
    "load = np.load(f\"solutions/{name}\", allow_pickle=True)\n",
    "X = load[0]\n",
    "path = load[1]\n",
    "n = int(np.sqrt(path.shape[1] - 1))"
   ]
  },
  {
   "cell_type": "code",
   "execution_count": null,
   "metadata": {},
   "outputs": [],
   "source": [
    "# Test the Expanded class\n",
    "\n",
    "from itertools import permutations\n",
    "\n",
    "x = list(basic_solved_state(1, 3)[0])\n",
    "\n",
    "normal_set = set()\n",
    "expanded = Expanded()\n",
    "\n",
    "iterations = 0\n",
    "TP = 0\n",
    "FP = 0\n",
    "TN = 0\n",
    "FN = 0\n",
    "\n",
    "for p in permutations(x):\n",
    "    iterations += 1\n",
    "    \n",
    "    x = np.array(p)[np.newaxis]\n",
    "    \n",
    "    if p in normal_set: \n",
    "        if expanded.contains(x)[0]:\n",
    "            TN += 1\n",
    "        else:\n",
    "            FN += 1\n",
    "    else:\n",
    "        if not expanded.contains(x)[0]:\n",
    "            TP += 1\n",
    "        else:\n",
    "            print(p)\n",
    "            FP += 1\n",
    "            \n",
    "    normal_set.add(p)\n",
    "    expanded.add(x)\n",
    "    \n",
    "    if iterations % 50000 == 0:\n",
    "        print(f\"iter={iterations} TN={TN}, FN={FN}, TP={TP}, FP={FP}\")\n",
    "        \n",
    "    if iterations == 1000000:\n",
    "        break\n"
   ]
  },
  {
   "cell_type": "code",
   "execution_count": null,
   "metadata": {},
   "outputs": [],
   "source": [
    "import torch\n",
    "import time\n",
    "import numpy as np\n",
    "\n",
    "x = torch.randperm(10000000)\n",
    "\n",
    "t = time.time()\n",
    "torch.sort(x)\n",
    "cpu_time = time.time() - t\n",
    "\n",
    "print(\"cpu time\", cpu_time)\n",
    "\n",
    "x = x.cuda()\n",
    "\n",
    "t = time.time()\n",
    "torch.sort(x)\n",
    "gpu_time = time.time() - t\n",
    "print(\"gpu time\", gpu_time)\n",
    "\n",
    "print(f\"gpu is {round(cpu_time / gpu_time, 1)} times faster than cpu\")"
   ]
  }
 ],
 "metadata": {
  "kernelspec": {
   "display_name": "Python 3",
   "language": "python",
   "name": "python3"
  },
  "language_info": {
   "codemirror_mode": {
    "name": "ipython",
    "version": 3
   },
   "file_extension": ".py",
   "mimetype": "text/x-python",
   "name": "python",
   "nbconvert_exporter": "python",
   "pygments_lexer": "ipython3",
   "version": "3.7.6"
  }
 },
 "nbformat": 4,
 "nbformat_minor": 4
}
